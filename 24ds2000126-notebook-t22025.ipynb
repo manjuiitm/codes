{
 "cells": [
  {
   "cell_type": "code",
   "execution_count": 1,
   "id": "7ba74aab",
   "metadata": {
    "_cell_guid": "b1076dfc-b9ad-4769-8c92-a6c4dae69d19",
    "_uuid": "8f2839f25d086af736a60e9eeb907d3b93b6e0e5",
    "execution": {
     "iopub.execute_input": "2025-06-25T05:29:17.610265Z",
     "iopub.status.busy": "2025-06-25T05:29:17.609666Z",
     "iopub.status.idle": "2025-06-25T05:29:18.944379Z",
     "shell.execute_reply": "2025-06-25T05:29:18.943569Z"
    },
    "papermill": {
     "duration": 1.342651,
     "end_time": "2025-06-25T05:29:18.945642",
     "exception": false,
     "start_time": "2025-06-25T05:29:17.602991",
     "status": "completed"
    },
    "tags": []
   },
   "outputs": [
    {
     "name": "stdout",
     "output_type": "stream",
     "text": [
      "/kaggle/input/engage-2-value-from-clicks-to-conversions/sample_submission.csv\n",
      "/kaggle/input/engage-2-value-from-clicks-to-conversions/train_data.csv\n",
      "/kaggle/input/engage-2-value-from-clicks-to-conversions/test_data.csv\n",
      "/kaggle/input/submission-csv/submission.csv\n"
     ]
    }
   ],
   "source": [
    "# This Python 3 environment comes with many helpful analytics libraries installed\n",
    "# It is defined by the kaggle/python Docker image: https://github.com/kaggle/docker-python\n",
    "# For example, here's several helpful packages to load\n",
    "\n",
    "import numpy as np # linear algebra\n",
    "import pandas as pd # data processing, CSV file I/O (e.g. pd.read_csv)\n",
    "\n",
    "# Input data files are available in the read-only \"../input/\" directory\n",
    "# For example, running this (by clicking run or pressing Shift+Enter) will list all files under the input directory\n",
    "\n",
    "import os\n",
    "for dirname, _, filenames in os.walk('/kaggle/input'):\n",
    "    for filename in filenames:\n",
    "        print(os.path.join(dirname, filename))\n",
    "\n",
    "# You can write up to 20GB to the current directory (/kaggle/working/) that gets preserved as output when you create a version using \"Save & Run All\" \n",
    "# You can also write temporary files to /kaggle/temp/, but they won't be saved outside of the current session"
   ]
  },
  {
   "cell_type": "code",
   "execution_count": 2,
   "id": "a26e75d9",
   "metadata": {
    "execution": {
     "iopub.execute_input": "2025-06-25T05:29:18.956295Z",
     "iopub.status.busy": "2025-06-25T05:29:18.955923Z",
     "iopub.status.idle": "2025-06-25T05:29:18.959290Z",
     "shell.execute_reply": "2025-06-25T05:29:18.958491Z"
    },
    "papermill": {
     "duration": 0.009866,
     "end_time": "2025-06-25T05:29:18.960454",
     "exception": false,
     "start_time": "2025-06-25T05:29:18.950588",
     "status": "completed"
    },
    "tags": []
   },
   "outputs": [],
   "source": [
    "#import pandas as pd\n",
    "#df = pd.read_csv(\"/kaggle/input/engage-2-value-from-clicks-to-conversions/train_data.csv\") \n",
    "#X = df.drop(\"purchaseValue\", axis=1) \n",
    "#y = df['purchaseValue'] \n",
    "#from sklearn.dummy import DummyRegressor \n",
    "#model = DummyRegressor().fit(X,y) \n",
    "#X_test = pd.read_csv(\"/kaggle/input/engage-2-value-from-clicks-to-conversions/test_data.csv\") \n",
    "#y_pred=model.predict(X_test) "
   ]
  },
  {
   "cell_type": "code",
   "execution_count": 3,
   "id": "9124178e",
   "metadata": {
    "execution": {
     "iopub.execute_input": "2025-06-25T05:29:18.969392Z",
     "iopub.status.busy": "2025-06-25T05:29:18.969199Z",
     "iopub.status.idle": "2025-06-25T05:29:18.972109Z",
     "shell.execute_reply": "2025-06-25T05:29:18.971441Z"
    },
    "papermill": {
     "duration": 0.008576,
     "end_time": "2025-06-25T05:29:18.973137",
     "exception": false,
     "start_time": "2025-06-25T05:29:18.964561",
     "status": "completed"
    },
    "tags": []
   },
   "outputs": [],
   "source": [
    "#submission = pd.DataFrame({\"id\": range(0,X_test.shape[0]), \"purchaseValue\": y_pred}) \n",
    "#submission.to_csv('submission.csv',index=False)"
   ]
  },
  {
   "cell_type": "code",
   "execution_count": 4,
   "id": "1a1c4ee0",
   "metadata": {
    "execution": {
     "iopub.execute_input": "2025-06-25T05:29:18.982018Z",
     "iopub.status.busy": "2025-06-25T05:29:18.981784Z",
     "iopub.status.idle": "2025-06-25T05:29:22.566806Z",
     "shell.execute_reply": "2025-06-25T05:29:22.566004Z"
    },
    "papermill": {
     "duration": 3.591219,
     "end_time": "2025-06-25T05:29:22.568366",
     "exception": false,
     "start_time": "2025-06-25T05:29:18.977147",
     "status": "completed"
    },
    "tags": []
   },
   "outputs": [],
   "source": [
    "import pandas as pd\n",
    "import numpy as np\n",
    "import matplotlib.pyplot as plt\n",
    "import seaborn as sns\n",
    "%matplotlib inline\n",
    "train_df = pd.read_csv('/kaggle/input/engage-2-value-from-clicks-to-conversions/train_data.csv')\n",
    "test_df = pd.read_csv('/kaggle/input/engage-2-value-from-clicks-to-conversions/test_data.csv')"
   ]
  },
  {
   "cell_type": "code",
   "execution_count": 5,
   "id": "a290c0f7",
   "metadata": {
    "execution": {
     "iopub.execute_input": "2025-06-25T05:29:22.577786Z",
     "iopub.status.busy": "2025-06-25T05:29:22.577547Z",
     "iopub.status.idle": "2025-06-25T05:29:22.584280Z",
     "shell.execute_reply": "2025-06-25T05:29:22.583595Z"
    },
    "papermill": {
     "duration": 0.012611,
     "end_time": "2025-06-25T05:29:22.585384",
     "exception": false,
     "start_time": "2025-06-25T05:29:22.572773",
     "status": "completed"
    },
    "tags": []
   },
   "outputs": [
    {
     "data": {
      "text/plain": [
       "Index(['trafficSource.isTrueDirect', 'purchaseValue', 'browser',\n",
       "       'device.screenResolution', 'trafficSource.adContent',\n",
       "       'trafficSource.keyword', 'screenSize', 'geoCluster',\n",
       "       'trafficSource.adwordsClickInfo.slot', 'device.mobileDeviceBranding',\n",
       "       'device.mobileInputSelector', 'userId', 'trafficSource.campaign',\n",
       "       'device.mobileDeviceMarketingName', 'geoNetwork.networkDomain',\n",
       "       'gclIdPresent', 'device.operatingSystemVersion', 'sessionNumber',\n",
       "       'device.flashVersion', 'geoNetwork.region', 'trafficSource',\n",
       "       'totals.visits', 'geoNetwork.networkLocation', 'sessionId', 'os',\n",
       "       'geoNetwork.subContinent', 'trafficSource.medium',\n",
       "       'trafficSource.adwordsClickInfo.isVideoAd', 'browserMajor',\n",
       "       'locationCountry', 'device.browserSize',\n",
       "       'trafficSource.adwordsClickInfo.adNetworkType', 'socialEngagementType',\n",
       "       'geoNetwork.city', 'trafficSource.adwordsClickInfo.page',\n",
       "       'geoNetwork.metro', 'pageViews', 'locationZone',\n",
       "       'device.mobileDeviceModel', 'trafficSource.referralPath',\n",
       "       'totals.bounces', 'date', 'device.language', 'deviceType',\n",
       "       'userChannel', 'device.browserVersion', 'totalHits',\n",
       "       'device.screenColors', 'sessionStart', 'geoNetwork.continent',\n",
       "       'device.isMobile', 'new_visits'],\n",
       "      dtype='object')"
      ]
     },
     "execution_count": 5,
     "metadata": {},
     "output_type": "execute_result"
    }
   ],
   "source": [
    "train_df.columns"
   ]
  },
  {
   "cell_type": "code",
   "execution_count": 6,
   "id": "698dfd44",
   "metadata": {
    "execution": {
     "iopub.execute_input": "2025-06-25T05:29:22.594982Z",
     "iopub.status.busy": "2025-06-25T05:29:22.594453Z",
     "iopub.status.idle": "2025-06-25T05:29:22.598742Z",
     "shell.execute_reply": "2025-06-25T05:29:22.598213Z"
    },
    "papermill": {
     "duration": 0.01005,
     "end_time": "2025-06-25T05:29:22.599765",
     "exception": false,
     "start_time": "2025-06-25T05:29:22.589715",
     "status": "completed"
    },
    "tags": []
   },
   "outputs": [
    {
     "data": {
      "text/plain": [
       "Index(['userChannel', 'date', 'browser', 'device.browserSize',\n",
       "       'device.browserVersion', 'deviceType', 'device.flashVersion',\n",
       "       'device.isMobile', 'device.language', 'device.mobileDeviceBranding',\n",
       "       'device.mobileDeviceMarketingName', 'device.mobileDeviceModel',\n",
       "       'device.mobileInputSelector', 'os', 'device.operatingSystemVersion',\n",
       "       'device.screenColors', 'device.screenResolution', 'geoNetwork.city',\n",
       "       'geoNetwork.continent', 'locationCountry', 'geoNetwork.metro',\n",
       "       'geoNetwork.networkDomain', 'geoNetwork.networkLocation',\n",
       "       'geoNetwork.region', 'geoNetwork.subContinent', 'socialEngagementType',\n",
       "       'totals.bounces', 'totalHits', 'new_visits', 'pageViews',\n",
       "       'totals.visits', 'trafficSource.adContent',\n",
       "       'trafficSource.adwordsClickInfo.adNetworkType',\n",
       "       'trafficSource.adwordsClickInfo.isVideoAd',\n",
       "       'trafficSource.adwordsClickInfo.page',\n",
       "       'trafficSource.adwordsClickInfo.slot', 'trafficSource.campaign',\n",
       "       'trafficSource.isTrueDirect', 'trafficSource.keyword',\n",
       "       'trafficSource.medium', 'trafficSource.referralPath', 'trafficSource',\n",
       "       'sessionId', 'sessionNumber', 'sessionStart', 'userId', 'locationZone',\n",
       "       'geoCluster', 'browserMajor', 'screenSize', 'gclIdPresent'],\n",
       "      dtype='object')"
      ]
     },
     "execution_count": 6,
     "metadata": {},
     "output_type": "execute_result"
    }
   ],
   "source": [
    "test_df.columns"
   ]
  },
  {
   "cell_type": "code",
   "execution_count": 7,
   "id": "3dde9d30",
   "metadata": {
    "execution": {
     "iopub.execute_input": "2025-06-25T05:29:22.609147Z",
     "iopub.status.busy": "2025-06-25T05:29:22.608932Z",
     "iopub.status.idle": "2025-06-25T05:29:22.679973Z",
     "shell.execute_reply": "2025-06-25T05:29:22.679047Z"
    },
    "papermill": {
     "duration": 0.077186,
     "end_time": "2025-06-25T05:29:22.681262",
     "exception": false,
     "start_time": "2025-06-25T05:29:22.604076",
     "status": "completed"
    },
    "tags": []
   },
   "outputs": [
    {
     "name": "stdout",
     "output_type": "stream",
     "text": [
      "<class 'pandas.core.frame.DataFrame'>\n",
      "RangeIndex: 29006 entries, 0 to 29005\n",
      "Data columns (total 51 columns):\n",
      " #   Column                                        Non-Null Count  Dtype  \n",
      "---  ------                                        --------------  -----  \n",
      " 0   userChannel                                   29006 non-null  object \n",
      " 1   date                                          29006 non-null  int64  \n",
      " 2   browser                                       29006 non-null  object \n",
      " 3   device.browserSize                            29006 non-null  object \n",
      " 4   device.browserVersion                         29006 non-null  object \n",
      " 5   deviceType                                    29006 non-null  object \n",
      " 6   device.flashVersion                           29006 non-null  object \n",
      " 7   device.isMobile                               29006 non-null  bool   \n",
      " 8   device.language                               29006 non-null  object \n",
      " 9   device.mobileDeviceBranding                   29006 non-null  object \n",
      " 10  device.mobileDeviceMarketingName              29006 non-null  object \n",
      " 11  device.mobileDeviceModel                      29006 non-null  object \n",
      " 12  device.mobileInputSelector                    29006 non-null  object \n",
      " 13  os                                            29006 non-null  object \n",
      " 14  device.operatingSystemVersion                 29006 non-null  object \n",
      " 15  device.screenColors                           29006 non-null  object \n",
      " 16  device.screenResolution                       29006 non-null  object \n",
      " 17  geoNetwork.city                               29006 non-null  object \n",
      " 18  geoNetwork.continent                          29006 non-null  object \n",
      " 19  locationCountry                               29006 non-null  object \n",
      " 20  geoNetwork.metro                              29006 non-null  object \n",
      " 21  geoNetwork.networkDomain                      29006 non-null  object \n",
      " 22  geoNetwork.networkLocation                    29006 non-null  object \n",
      " 23  geoNetwork.region                             29006 non-null  object \n",
      " 24  geoNetwork.subContinent                       29006 non-null  object \n",
      " 25  socialEngagementType                          29006 non-null  object \n",
      " 26  totals.bounces                                11732 non-null  float64\n",
      " 27  totalHits                                     29006 non-null  int64  \n",
      " 28  new_visits                                    20094 non-null  float64\n",
      " 29  pageViews                                     29003 non-null  float64\n",
      " 30  totals.visits                                 29006 non-null  int64  \n",
      " 31  trafficSource.adContent                       759 non-null    object \n",
      " 32  trafficSource.adwordsClickInfo.adNetworkType  1107 non-null   object \n",
      " 33  trafficSource.adwordsClickInfo.isVideoAd      1107 non-null   object \n",
      " 34  trafficSource.adwordsClickInfo.page           1107 non-null   float64\n",
      " 35  trafficSource.adwordsClickInfo.slot           1107 non-null   object \n",
      " 36  trafficSource.campaign                        29006 non-null  object \n",
      " 37  trafficSource.isTrueDirect                    10761 non-null  object \n",
      " 38  trafficSource.keyword                         11044 non-null  object \n",
      " 39  trafficSource.medium                          29006 non-null  object \n",
      " 40  trafficSource.referralPath                    10611 non-null  object \n",
      " 41  trafficSource                                 29006 non-null  object \n",
      " 42  sessionId                                     29006 non-null  int64  \n",
      " 43  sessionNumber                                 29006 non-null  int64  \n",
      " 44  sessionStart                                  29006 non-null  int64  \n",
      " 45  userId                                        29006 non-null  int64  \n",
      " 46  locationZone                                  29006 non-null  int64  \n",
      " 47  geoCluster                                    29006 non-null  object \n",
      " 48  browserMajor                                  29006 non-null  object \n",
      " 49  screenSize                                    29006 non-null  object \n",
      " 50  gclIdPresent                                  29006 non-null  int64  \n",
      "dtypes: bool(1), float64(4), int64(9), object(37)\n",
      "memory usage: 11.1+ MB\n"
     ]
    }
   ],
   "source": [
    "test_df.info()"
   ]
  },
  {
   "cell_type": "code",
   "execution_count": 8,
   "id": "78a9ec4f",
   "metadata": {
    "execution": {
     "iopub.execute_input": "2025-06-25T05:29:22.691667Z",
     "iopub.status.busy": "2025-06-25T05:29:22.691154Z",
     "iopub.status.idle": "2025-06-25T05:29:22.782546Z",
     "shell.execute_reply": "2025-06-25T05:29:22.781897Z"
    },
    "papermill": {
     "duration": 0.097658,
     "end_time": "2025-06-25T05:29:22.783712",
     "exception": false,
     "start_time": "2025-06-25T05:29:22.686054",
     "status": "completed"
    },
    "tags": []
   },
   "outputs": [
    {
     "data": {
      "text/html": [
       "<div>\n",
       "<style scoped>\n",
       "    .dataframe tbody tr th:only-of-type {\n",
       "        vertical-align: middle;\n",
       "    }\n",
       "\n",
       "    .dataframe tbody tr th {\n",
       "        vertical-align: top;\n",
       "    }\n",
       "\n",
       "    .dataframe thead th {\n",
       "        text-align: right;\n",
       "    }\n",
       "</style>\n",
       "<table border=\"1\" class=\"dataframe\">\n",
       "  <thead>\n",
       "    <tr style=\"text-align: right;\">\n",
       "      <th></th>\n",
       "      <th>purchaseValue</th>\n",
       "      <th>userId</th>\n",
       "      <th>gclIdPresent</th>\n",
       "      <th>sessionNumber</th>\n",
       "      <th>totals.visits</th>\n",
       "      <th>sessionId</th>\n",
       "      <th>trafficSource.adwordsClickInfo.page</th>\n",
       "      <th>pageViews</th>\n",
       "      <th>locationZone</th>\n",
       "      <th>totals.bounces</th>\n",
       "      <th>date</th>\n",
       "      <th>totalHits</th>\n",
       "      <th>sessionStart</th>\n",
       "      <th>new_visits</th>\n",
       "    </tr>\n",
       "  </thead>\n",
       "  <tbody>\n",
       "    <tr>\n",
       "      <th>count</th>\n",
       "      <td>1.160230e+05</td>\n",
       "      <td>116023.000000</td>\n",
       "      <td>116023.000000</td>\n",
       "      <td>116023.000000</td>\n",
       "      <td>116023.0</td>\n",
       "      <td>1.160230e+05</td>\n",
       "      <td>4281.000000</td>\n",
       "      <td>116015.000000</td>\n",
       "      <td>116023.0</td>\n",
       "      <td>47148.0</td>\n",
       "      <td>1.160230e+05</td>\n",
       "      <td>116023.000000</td>\n",
       "      <td>1.160230e+05</td>\n",
       "      <td>80518.0</td>\n",
       "    </tr>\n",
       "    <tr>\n",
       "      <th>mean</th>\n",
       "      <td>2.656393e+07</td>\n",
       "      <td>61094.356231</td>\n",
       "      <td>0.037019</td>\n",
       "      <td>2.691311</td>\n",
       "      <td>1.0</td>\n",
       "      <td>1.493429e+09</td>\n",
       "      <td>1.019622</td>\n",
       "      <td>8.412352</td>\n",
       "      <td>8.0</td>\n",
       "      <td>1.0</td>\n",
       "      <td>2.016860e+07</td>\n",
       "      <td>10.607371</td>\n",
       "      <td>1.493429e+09</td>\n",
       "      <td>1.0</td>\n",
       "    </tr>\n",
       "    <tr>\n",
       "      <th>std</th>\n",
       "      <td>2.051825e+08</td>\n",
       "      <td>35240.756859</td>\n",
       "      <td>0.188808</td>\n",
       "      <td>10.451613</td>\n",
       "      <td>0.0</td>\n",
       "      <td>1.528798e+07</td>\n",
       "      <td>0.174517</td>\n",
       "      <td>14.344937</td>\n",
       "      <td>0.0</td>\n",
       "      <td>0.0</td>\n",
       "      <td>6.182322e+03</td>\n",
       "      <td>19.629576</td>\n",
       "      <td>1.528798e+07</td>\n",
       "      <td>0.0</td>\n",
       "    </tr>\n",
       "    <tr>\n",
       "      <th>min</th>\n",
       "      <td>0.000000e+00</td>\n",
       "      <td>0.000000</td>\n",
       "      <td>0.000000</td>\n",
       "      <td>1.000000</td>\n",
       "      <td>1.0</td>\n",
       "      <td>1.470035e+09</td>\n",
       "      <td>1.000000</td>\n",
       "      <td>1.000000</td>\n",
       "      <td>8.0</td>\n",
       "      <td>1.0</td>\n",
       "      <td>2.016080e+07</td>\n",
       "      <td>1.000000</td>\n",
       "      <td>1.470035e+09</td>\n",
       "      <td>1.0</td>\n",
       "    </tr>\n",
       "    <tr>\n",
       "      <th>25%</th>\n",
       "      <td>0.000000e+00</td>\n",
       "      <td>30603.500000</td>\n",
       "      <td>0.000000</td>\n",
       "      <td>1.000000</td>\n",
       "      <td>1.0</td>\n",
       "      <td>1.480066e+09</td>\n",
       "      <td>1.000000</td>\n",
       "      <td>1.000000</td>\n",
       "      <td>8.0</td>\n",
       "      <td>1.0</td>\n",
       "      <td>2.016112e+07</td>\n",
       "      <td>1.000000</td>\n",
       "      <td>1.480066e+09</td>\n",
       "      <td>1.0</td>\n",
       "    </tr>\n",
       "    <tr>\n",
       "      <th>50%</th>\n",
       "      <td>0.000000e+00</td>\n",
       "      <td>61014.000000</td>\n",
       "      <td>0.000000</td>\n",
       "      <td>1.000000</td>\n",
       "      <td>1.0</td>\n",
       "      <td>1.491646e+09</td>\n",
       "      <td>1.000000</td>\n",
       "      <td>2.000000</td>\n",
       "      <td>8.0</td>\n",
       "      <td>1.0</td>\n",
       "      <td>2.017041e+07</td>\n",
       "      <td>2.000000</td>\n",
       "      <td>1.491646e+09</td>\n",
       "      <td>1.0</td>\n",
       "    </tr>\n",
       "    <tr>\n",
       "      <th>75%</th>\n",
       "      <td>0.000000e+00</td>\n",
       "      <td>91616.500000</td>\n",
       "      <td>0.000000</td>\n",
       "      <td>2.000000</td>\n",
       "      <td>1.0</td>\n",
       "      <td>1.505079e+09</td>\n",
       "      <td>1.000000</td>\n",
       "      <td>10.000000</td>\n",
       "      <td>8.0</td>\n",
       "      <td>1.0</td>\n",
       "      <td>2.017091e+07</td>\n",
       "      <td>12.000000</td>\n",
       "      <td>1.505079e+09</td>\n",
       "      <td>1.0</td>\n",
       "    </tr>\n",
       "    <tr>\n",
       "      <th>max</th>\n",
       "      <td>2.312950e+10</td>\n",
       "      <td>122276.000000</td>\n",
       "      <td>1.000000</td>\n",
       "      <td>447.000000</td>\n",
       "      <td>1.0</td>\n",
       "      <td>1.525157e+09</td>\n",
       "      <td>5.000000</td>\n",
       "      <td>469.000000</td>\n",
       "      <td>8.0</td>\n",
       "      <td>1.0</td>\n",
       "      <td>2.018043e+07</td>\n",
       "      <td>500.000000</td>\n",
       "      <td>1.525157e+09</td>\n",
       "      <td>1.0</td>\n",
       "    </tr>\n",
       "  </tbody>\n",
       "</table>\n",
       "</div>"
      ],
      "text/plain": [
       "       purchaseValue         userId   gclIdPresent  sessionNumber  \\\n",
       "count   1.160230e+05  116023.000000  116023.000000  116023.000000   \n",
       "mean    2.656393e+07   61094.356231       0.037019       2.691311   \n",
       "std     2.051825e+08   35240.756859       0.188808      10.451613   \n",
       "min     0.000000e+00       0.000000       0.000000       1.000000   \n",
       "25%     0.000000e+00   30603.500000       0.000000       1.000000   \n",
       "50%     0.000000e+00   61014.000000       0.000000       1.000000   \n",
       "75%     0.000000e+00   91616.500000       0.000000       2.000000   \n",
       "max     2.312950e+10  122276.000000       1.000000     447.000000   \n",
       "\n",
       "       totals.visits     sessionId  trafficSource.adwordsClickInfo.page  \\\n",
       "count       116023.0  1.160230e+05                          4281.000000   \n",
       "mean             1.0  1.493429e+09                             1.019622   \n",
       "std              0.0  1.528798e+07                             0.174517   \n",
       "min              1.0  1.470035e+09                             1.000000   \n",
       "25%              1.0  1.480066e+09                             1.000000   \n",
       "50%              1.0  1.491646e+09                             1.000000   \n",
       "75%              1.0  1.505079e+09                             1.000000   \n",
       "max              1.0  1.525157e+09                             5.000000   \n",
       "\n",
       "           pageViews  locationZone  totals.bounces          date  \\\n",
       "count  116015.000000      116023.0         47148.0  1.160230e+05   \n",
       "mean        8.412352           8.0             1.0  2.016860e+07   \n",
       "std        14.344937           0.0             0.0  6.182322e+03   \n",
       "min         1.000000           8.0             1.0  2.016080e+07   \n",
       "25%         1.000000           8.0             1.0  2.016112e+07   \n",
       "50%         2.000000           8.0             1.0  2.017041e+07   \n",
       "75%        10.000000           8.0             1.0  2.017091e+07   \n",
       "max       469.000000           8.0             1.0  2.018043e+07   \n",
       "\n",
       "           totalHits  sessionStart  new_visits  \n",
       "count  116023.000000  1.160230e+05     80518.0  \n",
       "mean       10.607371  1.493429e+09         1.0  \n",
       "std        19.629576  1.528798e+07         0.0  \n",
       "min         1.000000  1.470035e+09         1.0  \n",
       "25%         1.000000  1.480066e+09         1.0  \n",
       "50%         2.000000  1.491646e+09         1.0  \n",
       "75%        12.000000  1.505079e+09         1.0  \n",
       "max       500.000000  1.525157e+09         1.0  "
      ]
     },
     "execution_count": 8,
     "metadata": {},
     "output_type": "execute_result"
    }
   ],
   "source": [
    "train_df.describe()"
   ]
  },
  {
   "cell_type": "code",
   "execution_count": 9,
   "id": "3553fcf7",
   "metadata": {
    "execution": {
     "iopub.execute_input": "2025-06-25T05:29:22.794139Z",
     "iopub.status.busy": "2025-06-25T05:29:22.793932Z",
     "iopub.status.idle": "2025-06-25T05:29:22.831968Z",
     "shell.execute_reply": "2025-06-25T05:29:22.831394Z"
    },
    "papermill": {
     "duration": 0.044362,
     "end_time": "2025-06-25T05:29:22.832942",
     "exception": false,
     "start_time": "2025-06-25T05:29:22.788580",
     "status": "completed"
    },
    "tags": []
   },
   "outputs": [
    {
     "data": {
      "text/html": [
       "<div>\n",
       "<style scoped>\n",
       "    .dataframe tbody tr th:only-of-type {\n",
       "        vertical-align: middle;\n",
       "    }\n",
       "\n",
       "    .dataframe tbody tr th {\n",
       "        vertical-align: top;\n",
       "    }\n",
       "\n",
       "    .dataframe thead th {\n",
       "        text-align: right;\n",
       "    }\n",
       "</style>\n",
       "<table border=\"1\" class=\"dataframe\">\n",
       "  <thead>\n",
       "    <tr style=\"text-align: right;\">\n",
       "      <th></th>\n",
       "      <th>date</th>\n",
       "      <th>totals.bounces</th>\n",
       "      <th>totalHits</th>\n",
       "      <th>new_visits</th>\n",
       "      <th>pageViews</th>\n",
       "      <th>totals.visits</th>\n",
       "      <th>trafficSource.adwordsClickInfo.page</th>\n",
       "      <th>sessionId</th>\n",
       "      <th>sessionNumber</th>\n",
       "      <th>sessionStart</th>\n",
       "      <th>userId</th>\n",
       "      <th>locationZone</th>\n",
       "      <th>gclIdPresent</th>\n",
       "    </tr>\n",
       "  </thead>\n",
       "  <tbody>\n",
       "    <tr>\n",
       "      <th>count</th>\n",
       "      <td>2.900600e+04</td>\n",
       "      <td>11732.0</td>\n",
       "      <td>29006.000000</td>\n",
       "      <td>20094.0</td>\n",
       "      <td>29003.000000</td>\n",
       "      <td>29006.0</td>\n",
       "      <td>1107.000000</td>\n",
       "      <td>2.900600e+04</td>\n",
       "      <td>29006.000000</td>\n",
       "      <td>2.900600e+04</td>\n",
       "      <td>29006.000000</td>\n",
       "      <td>29006.0</td>\n",
       "      <td>29006.000000</td>\n",
       "    </tr>\n",
       "    <tr>\n",
       "      <th>mean</th>\n",
       "      <td>2.016855e+07</td>\n",
       "      <td>1.0</td>\n",
       "      <td>10.659519</td>\n",
       "      <td>1.0</td>\n",
       "      <td>8.470813</td>\n",
       "      <td>1.0</td>\n",
       "      <td>1.015357</td>\n",
       "      <td>1.493320e+09</td>\n",
       "      <td>2.595980</td>\n",
       "      <td>1.493320e+09</td>\n",
       "      <td>61327.854134</td>\n",
       "      <td>8.0</td>\n",
       "      <td>0.038268</td>\n",
       "    </tr>\n",
       "    <tr>\n",
       "      <th>std</th>\n",
       "      <td>6.200443e+03</td>\n",
       "      <td>0.0</td>\n",
       "      <td>19.771218</td>\n",
       "      <td>0.0</td>\n",
       "      <td>14.561705</td>\n",
       "      <td>0.0</td>\n",
       "      <td>0.177227</td>\n",
       "      <td>1.532493e+07</td>\n",
       "      <td>9.333323</td>\n",
       "      <td>1.532493e+07</td>\n",
       "      <td>35253.344987</td>\n",
       "      <td>0.0</td>\n",
       "      <td>0.191846</td>\n",
       "    </tr>\n",
       "    <tr>\n",
       "      <th>min</th>\n",
       "      <td>2.016080e+07</td>\n",
       "      <td>1.0</td>\n",
       "      <td>1.000000</td>\n",
       "      <td>1.0</td>\n",
       "      <td>1.000000</td>\n",
       "      <td>1.0</td>\n",
       "      <td>1.000000</td>\n",
       "      <td>1.470035e+09</td>\n",
       "      <td>1.000000</td>\n",
       "      <td>1.470035e+09</td>\n",
       "      <td>8.000000</td>\n",
       "      <td>8.0</td>\n",
       "      <td>0.000000</td>\n",
       "    </tr>\n",
       "    <tr>\n",
       "      <th>25%</th>\n",
       "      <td>2.016112e+07</td>\n",
       "      <td>1.0</td>\n",
       "      <td>1.000000</td>\n",
       "      <td>1.0</td>\n",
       "      <td>1.000000</td>\n",
       "      <td>1.0</td>\n",
       "      <td>1.000000</td>\n",
       "      <td>1.479931e+09</td>\n",
       "      <td>1.000000</td>\n",
       "      <td>1.479931e+09</td>\n",
       "      <td>31006.500000</td>\n",
       "      <td>8.0</td>\n",
       "      <td>0.000000</td>\n",
       "    </tr>\n",
       "    <tr>\n",
       "      <th>50%</th>\n",
       "      <td>2.017041e+07</td>\n",
       "      <td>1.0</td>\n",
       "      <td>2.000000</td>\n",
       "      <td>1.0</td>\n",
       "      <td>2.000000</td>\n",
       "      <td>1.0</td>\n",
       "      <td>1.000000</td>\n",
       "      <td>1.491492e+09</td>\n",
       "      <td>1.000000</td>\n",
       "      <td>1.491492e+09</td>\n",
       "      <td>61430.500000</td>\n",
       "      <td>8.0</td>\n",
       "      <td>0.000000</td>\n",
       "    </tr>\n",
       "    <tr>\n",
       "      <th>75%</th>\n",
       "      <td>2.017091e+07</td>\n",
       "      <td>1.0</td>\n",
       "      <td>12.000000</td>\n",
       "      <td>1.0</td>\n",
       "      <td>10.000000</td>\n",
       "      <td>1.0</td>\n",
       "      <td>1.000000</td>\n",
       "      <td>1.505148e+09</td>\n",
       "      <td>2.000000</td>\n",
       "      <td>1.505148e+09</td>\n",
       "      <td>91866.250000</td>\n",
       "      <td>8.0</td>\n",
       "      <td>0.000000</td>\n",
       "    </tr>\n",
       "    <tr>\n",
       "      <th>max</th>\n",
       "      <td>2.018043e+07</td>\n",
       "      <td>1.0</td>\n",
       "      <td>500.000000</td>\n",
       "      <td>1.0</td>\n",
       "      <td>466.000000</td>\n",
       "      <td>1.0</td>\n",
       "      <td>5.000000</td>\n",
       "      <td>1.525152e+09</td>\n",
       "      <td>334.000000</td>\n",
       "      <td>1.525152e+09</td>\n",
       "      <td>122268.000000</td>\n",
       "      <td>8.0</td>\n",
       "      <td>1.000000</td>\n",
       "    </tr>\n",
       "  </tbody>\n",
       "</table>\n",
       "</div>"
      ],
      "text/plain": [
       "               date  totals.bounces     totalHits  new_visits     pageViews  \\\n",
       "count  2.900600e+04         11732.0  29006.000000     20094.0  29003.000000   \n",
       "mean   2.016855e+07             1.0     10.659519         1.0      8.470813   \n",
       "std    6.200443e+03             0.0     19.771218         0.0     14.561705   \n",
       "min    2.016080e+07             1.0      1.000000         1.0      1.000000   \n",
       "25%    2.016112e+07             1.0      1.000000         1.0      1.000000   \n",
       "50%    2.017041e+07             1.0      2.000000         1.0      2.000000   \n",
       "75%    2.017091e+07             1.0     12.000000         1.0     10.000000   \n",
       "max    2.018043e+07             1.0    500.000000         1.0    466.000000   \n",
       "\n",
       "       totals.visits  trafficSource.adwordsClickInfo.page     sessionId  \\\n",
       "count        29006.0                          1107.000000  2.900600e+04   \n",
       "mean             1.0                             1.015357  1.493320e+09   \n",
       "std              0.0                             0.177227  1.532493e+07   \n",
       "min              1.0                             1.000000  1.470035e+09   \n",
       "25%              1.0                             1.000000  1.479931e+09   \n",
       "50%              1.0                             1.000000  1.491492e+09   \n",
       "75%              1.0                             1.000000  1.505148e+09   \n",
       "max              1.0                             5.000000  1.525152e+09   \n",
       "\n",
       "       sessionNumber  sessionStart         userId  locationZone  gclIdPresent  \n",
       "count   29006.000000  2.900600e+04   29006.000000       29006.0  29006.000000  \n",
       "mean        2.595980  1.493320e+09   61327.854134           8.0      0.038268  \n",
       "std         9.333323  1.532493e+07   35253.344987           0.0      0.191846  \n",
       "min         1.000000  1.470035e+09       8.000000           8.0      0.000000  \n",
       "25%         1.000000  1.479931e+09   31006.500000           8.0      0.000000  \n",
       "50%         1.000000  1.491492e+09   61430.500000           8.0      0.000000  \n",
       "75%         2.000000  1.505148e+09   91866.250000           8.0      0.000000  \n",
       "max       334.000000  1.525152e+09  122268.000000           8.0      1.000000  "
      ]
     },
     "execution_count": 9,
     "metadata": {},
     "output_type": "execute_result"
    }
   ],
   "source": [
    "test_df.describe()"
   ]
  },
  {
   "cell_type": "markdown",
   "id": "6db437c3",
   "metadata": {
    "papermill": {
     "duration": 0.004682,
     "end_time": "2025-06-25T05:29:22.843172",
     "exception": false,
     "start_time": "2025-06-25T05:29:22.838490",
     "status": "completed"
    },
    "tags": []
   },
   "source": [
    "User & Session Metadata \n",
    "| Column          | Description                                          |\n",
    "| --------------- | ---------------------------------------------------- |\n",
    "| `userId`        | Unique ID for the user                               |\n",
    "| `sessionId`     | Unique ID for a session (group of user interactions) |\n",
    "| `sessionNumber` | The nth session for the user                         |\n",
    "| `sessionStart`  | Timestamp (or similar) marking session start         |\n"
   ]
  },
  {
   "cell_type": "markdown",
   "id": "e55b1e0d",
   "metadata": {
    "papermill": {
     "duration": 0.004615,
     "end_time": "2025-06-25T05:29:22.852623",
     "exception": false,
     "start_time": "2025-06-25T05:29:22.848008",
     "status": "completed"
    },
    "tags": []
   },
   "source": [
    "* Missing Values\n",
    "* Explore Numerical data\n",
    "* Explore Categorical data\n",
    "* Find the relationship between variables\n",
    "  "
   ]
  },
  {
   "cell_type": "code",
   "execution_count": 10,
   "id": "8c094aef",
   "metadata": {
    "execution": {
     "iopub.execute_input": "2025-06-25T05:29:22.862657Z",
     "iopub.status.busy": "2025-06-25T05:29:22.862457Z",
     "iopub.status.idle": "2025-06-25T05:29:23.045633Z",
     "shell.execute_reply": "2025-06-25T05:29:23.044970Z"
    },
    "papermill": {
     "duration": 0.189755,
     "end_time": "2025-06-25T05:29:23.046987",
     "exception": false,
     "start_time": "2025-06-25T05:29:22.857232",
     "status": "completed"
    },
    "tags": []
   },
   "outputs": [
    {
     "data": {
      "text/plain": [
       "trafficSource.isTrueDirect                       73133\n",
       "purchaseValue                                        0\n",
       "browser                                              0\n",
       "device.screenResolution                              0\n",
       "trafficSource.adContent                         113060\n",
       "trafficSource.keyword                            71861\n",
       "screenSize                                           0\n",
       "geoCluster                                           0\n",
       "trafficSource.adwordsClickInfo.slot             111742\n",
       "device.mobileDeviceBranding                          0\n",
       "device.mobileInputSelector                           0\n",
       "userId                                               0\n",
       "trafficSource.campaign                               0\n",
       "device.mobileDeviceMarketingName                     0\n",
       "geoNetwork.networkDomain                             0\n",
       "gclIdPresent                                         0\n",
       "device.operatingSystemVersion                        0\n",
       "sessionNumber                                        0\n",
       "device.flashVersion                                  0\n",
       "geoNetwork.region                                    0\n",
       "trafficSource                                        0\n",
       "totals.visits                                        0\n",
       "geoNetwork.networkLocation                           0\n",
       "sessionId                                            0\n",
       "os                                                   0\n",
       "geoNetwork.subContinent                              0\n",
       "trafficSource.medium                                 0\n",
       "trafficSource.adwordsClickInfo.isVideoAd        111742\n",
       "browserMajor                                         0\n",
       "locationCountry                                      0\n",
       "device.browserSize                                   0\n",
       "trafficSource.adwordsClickInfo.adNetworkType    111742\n",
       "socialEngagementType                                 0\n",
       "geoNetwork.city                                      0\n",
       "trafficSource.adwordsClickInfo.page             111742\n",
       "geoNetwork.metro                                     0\n",
       "pageViews                                            8\n",
       "locationZone                                         0\n",
       "device.mobileDeviceModel                             0\n",
       "trafficSource.referralPath                       73309\n",
       "totals.bounces                                   68875\n",
       "date                                                 0\n",
       "device.language                                      0\n",
       "deviceType                                           0\n",
       "userChannel                                          0\n",
       "device.browserVersion                                0\n",
       "totalHits                                            0\n",
       "device.screenColors                                  0\n",
       "sessionStart                                         0\n",
       "geoNetwork.continent                                 0\n",
       "device.isMobile                                      0\n",
       "new_visits                                       35505\n",
       "dtype: int64"
      ]
     },
     "execution_count": 10,
     "metadata": {},
     "output_type": "execute_result"
    }
   ],
   "source": [
    "train_df.isnull().sum()"
   ]
  },
  {
   "cell_type": "code",
   "execution_count": 11,
   "id": "60d69b11",
   "metadata": {
    "execution": {
     "iopub.execute_input": "2025-06-25T05:29:23.060112Z",
     "iopub.status.busy": "2025-06-25T05:29:23.059328Z",
     "iopub.status.idle": "2025-06-25T05:29:23.064082Z",
     "shell.execute_reply": "2025-06-25T05:29:23.063342Z"
    },
    "papermill": {
     "duration": 0.01213,
     "end_time": "2025-06-25T05:29:23.065183",
     "exception": false,
     "start_time": "2025-06-25T05:29:23.053053",
     "status": "completed"
    },
    "tags": []
   },
   "outputs": [
    {
     "data": {
      "text/plain": [
       "(116023, 52)"
      ]
     },
     "execution_count": 11,
     "metadata": {},
     "output_type": "execute_result"
    }
   ],
   "source": [
    "train_df.shape\n"
   ]
  },
  {
   "cell_type": "code",
   "execution_count": 12,
   "id": "919072c1",
   "metadata": {
    "execution": {
     "iopub.execute_input": "2025-06-25T05:29:23.076723Z",
     "iopub.status.busy": "2025-06-25T05:29:23.076179Z",
     "iopub.status.idle": "2025-06-25T05:29:23.255159Z",
     "shell.execute_reply": "2025-06-25T05:29:23.254399Z"
    },
    "papermill": {
     "duration": 0.185809,
     "end_time": "2025-06-25T05:29:23.256278",
     "exception": false,
     "start_time": "2025-06-25T05:29:23.070469",
     "status": "completed"
    },
    "tags": []
   },
   "outputs": [
    {
     "data": {
      "text/plain": [
       "['trafficSource.isTrueDirect',\n",
       " 'trafficSource.adContent',\n",
       " 'trafficSource.keyword',\n",
       " 'trafficSource.adwordsClickInfo.slot',\n",
       " 'trafficSource.adwordsClickInfo.isVideoAd',\n",
       " 'trafficSource.adwordsClickInfo.adNetworkType',\n",
       " 'trafficSource.adwordsClickInfo.page',\n",
       " 'pageViews',\n",
       " 'trafficSource.referralPath',\n",
       " 'totals.bounces',\n",
       " 'new_visits']"
      ]
     },
     "execution_count": 12,
     "metadata": {},
     "output_type": "execute_result"
    }
   ],
   "source": [
    "[features for features in train_df.columns if train_df[features].isnull().sum()>0]"
   ]
  },
  {
   "cell_type": "code",
   "execution_count": 13,
   "id": "309447ff",
   "metadata": {
    "execution": {
     "iopub.execute_input": "2025-06-25T05:29:23.266996Z",
     "iopub.status.busy": "2025-06-25T05:29:23.266777Z",
     "iopub.status.idle": "2025-06-25T05:29:23.443501Z",
     "shell.execute_reply": "2025-06-25T05:29:23.442775Z"
    },
    "papermill": {
     "duration": 0.183308,
     "end_time": "2025-06-25T05:29:23.444747",
     "exception": false,
     "start_time": "2025-06-25T05:29:23.261439",
     "status": "completed"
    },
    "tags": []
   },
   "outputs": [
    {
     "name": "stdout",
     "output_type": "stream",
     "text": [
      "trafficSource.adContent                         113060\n",
      "trafficSource.adwordsClickInfo.isVideoAd        111742\n",
      "trafficSource.adwordsClickInfo.slot             111742\n",
      "trafficSource.adwordsClickInfo.adNetworkType    111742\n",
      "trafficSource.adwordsClickInfo.page             111742\n",
      "trafficSource.referralPath                       73309\n",
      "trafficSource.isTrueDirect                       73133\n",
      "trafficSource.keyword                            71861\n",
      "totals.bounces                                   68875\n",
      "new_visits                                       35505\n",
      "pageViews                                            8\n",
      "dtype: int64\n"
     ]
    }
   ],
   "source": [
    "missing_counts = train_df.isnull().sum()\n",
    "missing_counts = missing_counts[missing_counts > 0].sort_values(ascending=False)\n",
    "print(missing_counts)\n"
   ]
  },
  {
   "cell_type": "code",
   "execution_count": 14,
   "id": "20865353",
   "metadata": {
    "execution": {
     "iopub.execute_input": "2025-06-25T05:29:23.456177Z",
     "iopub.status.busy": "2025-06-25T05:29:23.455741Z",
     "iopub.status.idle": "2025-06-25T05:29:23.518660Z",
     "shell.execute_reply": "2025-06-25T05:29:23.517868Z"
    },
    "papermill": {
     "duration": 0.069779,
     "end_time": "2025-06-25T05:29:23.519972",
     "exception": false,
     "start_time": "2025-06-25T05:29:23.450193",
     "status": "completed"
    },
    "tags": []
   },
   "outputs": [],
   "source": [
    "# List of sparse columns to drop\n",
    "sparse_cols_to_drop = [\n",
    "    'trafficSource.adContent',\n",
    "    'trafficSource.adwordsClickInfo.slot',\n",
    "    'trafficSource.adwordsClickInfo.isVideoAd',\n",
    "    'trafficSource.adwordsClickInfo.adNetworkType',\n",
    "    'trafficSource.adwordsClickInfo.page'\n",
    "]\n",
    "\n",
    "# Drop from train set\n",
    "train_df.drop(columns=sparse_cols_to_drop, inplace=True)\n",
    "\n",
    "# If you have test_df as well, drop from it too\n",
    "test_df.drop(columns=sparse_cols_to_drop, inplace=True)\n"
   ]
  },
  {
   "cell_type": "code",
   "execution_count": 15,
   "id": "997ec320",
   "metadata": {
    "execution": {
     "iopub.execute_input": "2025-06-25T05:29:23.531429Z",
     "iopub.status.busy": "2025-06-25T05:29:23.531240Z",
     "iopub.status.idle": "2025-06-25T05:29:23.555534Z",
     "shell.execute_reply": "2025-06-25T05:29:23.555064Z"
    },
    "papermill": {
     "duration": 0.03102,
     "end_time": "2025-06-25T05:29:23.556451",
     "exception": false,
     "start_time": "2025-06-25T05:29:23.525431",
     "status": "completed"
    },
    "tags": []
   },
   "outputs": [],
   "source": [
    "train_df['trafficSource.keyword'] = train_df['trafficSource.keyword'].fillna('unknown')\n",
    "train_df['trafficSource.isTrueDirect'] = train_df['trafficSource.isTrueDirect'].fillna('unknown')\n",
    "train_df['trafficSource.referralPath'] = train_df['trafficSource.referralPath'].fillna('unknown')"
   ]
  },
  {
   "cell_type": "code",
   "execution_count": 16,
   "id": "d4016799",
   "metadata": {
    "execution": {
     "iopub.execute_input": "2025-06-25T05:29:23.567670Z",
     "iopub.status.busy": "2025-06-25T05:29:23.567292Z",
     "iopub.status.idle": "2025-06-25T05:29:23.575712Z",
     "shell.execute_reply": "2025-06-25T05:29:23.575164Z"
    },
    "papermill": {
     "duration": 0.015143,
     "end_time": "2025-06-25T05:29:23.576760",
     "exception": false,
     "start_time": "2025-06-25T05:29:23.561617",
     "status": "completed"
    },
    "tags": []
   },
   "outputs": [
    {
     "data": {
      "text/plain": [
       "0         1.0\n",
       "1         1.0\n",
       "2         0.0\n",
       "3         1.0\n",
       "4         1.0\n",
       "         ... \n",
       "116018    1.0\n",
       "116019    1.0\n",
       "116020    0.0\n",
       "116021    1.0\n",
       "116022    0.0\n",
       "Name: new_visits, Length: 116023, dtype: float64"
      ]
     },
     "execution_count": 16,
     "metadata": {},
     "output_type": "execute_result"
    }
   ],
   "source": [
    "train_df['totals.bounces'].fillna(0)\n",
    "train_df['new_visits'].fillna(0)\n"
   ]
  },
  {
   "cell_type": "code",
   "execution_count": 17,
   "id": "26c76c23",
   "metadata": {
    "execution": {
     "iopub.execute_input": "2025-06-25T05:29:23.587706Z",
     "iopub.status.busy": "2025-06-25T05:29:23.587516Z",
     "iopub.status.idle": "2025-06-25T05:29:23.594330Z",
     "shell.execute_reply": "2025-06-25T05:29:23.593759Z"
    },
    "papermill": {
     "duration": 0.013361,
     "end_time": "2025-06-25T05:29:23.595399",
     "exception": false,
     "start_time": "2025-06-25T05:29:23.582038",
     "status": "completed"
    },
    "tags": []
   },
   "outputs": [
    {
     "data": {
      "text/plain": [
       "0          1.0\n",
       "1          1.0\n",
       "2          6.0\n",
       "3          1.0\n",
       "4         54.0\n",
       "          ... \n",
       "116018    26.0\n",
       "116019     1.0\n",
       "116020     1.0\n",
       "116021     2.0\n",
       "116022    73.0\n",
       "Name: pageViews, Length: 116023, dtype: float64"
      ]
     },
     "execution_count": 17,
     "metadata": {},
     "output_type": "execute_result"
    }
   ],
   "source": [
    "train_df['pageViews'].fillna(train_df['pageViews'].median())\n"
   ]
  },
  {
   "cell_type": "code",
   "execution_count": 18,
   "id": "b5564337",
   "metadata": {
    "execution": {
     "iopub.execute_input": "2025-06-25T05:29:23.607509Z",
     "iopub.status.busy": "2025-06-25T05:29:23.607319Z",
     "iopub.status.idle": "2025-06-25T05:29:30.362398Z",
     "shell.execute_reply": "2025-06-25T05:29:30.361663Z"
    },
    "papermill": {
     "duration": 6.762188,
     "end_time": "2025-06-25T05:29:30.363473",
     "exception": false,
     "start_time": "2025-06-25T05:29:23.601285",
     "status": "completed"
    },
    "tags": []
   },
   "outputs": [
    {
     "data": {
      "text/plain": [
       "<Axes: >"
      ]
     },
     "execution_count": 18,
     "metadata": {},
     "output_type": "execute_result"
    },
    {
     "data": {
      "image/png": "[encoded data removed]",
      "text/plain": [
       "<Figure size 640x480 with 1 Axes>"
      ]
     },
     "metadata": {},
     "output_type": "display_data"
    }
   ],
   "source": [
    "sns.heatmap(train_df.isnull(),yticklabels=False,cbar=False,cmap='viridis')"
   ]
  },
  {
   "cell_type": "code",
   "execution_count": 19,
   "id": "8b99ccb2",
   "metadata": {
    "execution": {
     "iopub.execute_input": "2025-06-25T05:29:30.377539Z",
     "iopub.status.busy": "2025-06-25T05:29:30.376893Z",
     "iopub.status.idle": "2025-06-25T05:29:30.556953Z",
     "shell.execute_reply": "2025-06-25T05:29:30.556208Z"
    },
    "papermill": {
     "duration": 0.187867,
     "end_time": "2025-06-25T05:29:30.558071",
     "exception": false,
     "start_time": "2025-06-25T05:29:30.370204",
     "status": "completed"
    },
    "tags": []
   },
   "outputs": [
    {
     "data": {
      "text/plain": [
       "trafficSource.isTrueDirect              0\n",
       "purchaseValue                           0\n",
       "browser                                 0\n",
       "device.screenResolution                 0\n",
       "trafficSource.keyword                   0\n",
       "screenSize                              0\n",
       "geoCluster                              0\n",
       "device.mobileDeviceBranding             0\n",
       "device.mobileInputSelector              0\n",
       "userId                                  0\n",
       "trafficSource.campaign                  0\n",
       "device.mobileDeviceMarketingName        0\n",
       "geoNetwork.networkDomain                0\n",
       "gclIdPresent                            0\n",
       "device.operatingSystemVersion           0\n",
       "sessionNumber                           0\n",
       "device.flashVersion                     0\n",
       "geoNetwork.region                       0\n",
       "trafficSource                           0\n",
       "totals.visits                           0\n",
       "geoNetwork.networkLocation              0\n",
       "sessionId                               0\n",
       "os                                      0\n",
       "geoNetwork.subContinent                 0\n",
       "trafficSource.medium                    0\n",
       "browserMajor                            0\n",
       "locationCountry                         0\n",
       "device.browserSize                      0\n",
       "socialEngagementType                    0\n",
       "geoNetwork.city                         0\n",
       "geoNetwork.metro                        0\n",
       "pageViews                               8\n",
       "locationZone                            0\n",
       "device.mobileDeviceModel                0\n",
       "trafficSource.referralPath              0\n",
       "totals.bounces                      68875\n",
       "date                                    0\n",
       "device.language                         0\n",
       "deviceType                              0\n",
       "userChannel                             0\n",
       "device.browserVersion                   0\n",
       "totalHits                               0\n",
       "device.screenColors                     0\n",
       "sessionStart                            0\n",
       "geoNetwork.continent                    0\n",
       "device.isMobile                         0\n",
       "new_visits                          35505\n",
       "dtype: int64"
      ]
     },
     "execution_count": 19,
     "metadata": {},
     "output_type": "execute_result"
    }
   ],
   "source": [
    "train_df.isnull().sum()"
   ]
  },
  {
   "cell_type": "code",
   "execution_count": 20,
   "id": "4a3c25f0",
   "metadata": {
    "execution": {
     "iopub.execute_input": "2025-06-25T05:29:30.571858Z",
     "iopub.status.busy": "2025-06-25T05:29:30.571633Z",
     "iopub.status.idle": "2025-06-25T05:29:31.149453Z",
     "shell.execute_reply": "2025-06-25T05:29:31.148873Z"
    },
    "papermill": {
     "duration": 0.585947,
     "end_time": "2025-06-25T05:29:31.150692",
     "exception": false,
     "start_time": "2025-06-25T05:29:30.564745",
     "status": "completed"
    },
    "tags": []
   },
   "outputs": [],
   "source": [
    "import pandas as pd\n",
    "import numpy as np\n",
    "import matplotlib.pyplot as plt\n",
    "import seaborn as sns\n",
    "\n",
    "from xgboost import XGBRegressor\n",
    "from sklearn.pipeline import Pipeline\n",
    "from sklearn.compose import ColumnTransformer\n",
    "from sklearn.impute import SimpleImputer\n",
    "from sklearn.preprocessing import StandardScaler, OneHotEncoder\n",
    "from sklearn.model_selection import train_test_split, GridSearchCV\n",
    "from sklearn.metrics import r2_score, mean_squared_error\n",
    "\n",
    "\n"
   ]
  },
  {
   "cell_type": "code",
   "execution_count": 21,
   "id": "a38f05f1",
   "metadata": {
    "execution": {
     "iopub.execute_input": "2025-06-25T05:29:31.164715Z",
     "iopub.status.busy": "2025-06-25T05:29:31.164516Z",
     "iopub.status.idle": "2025-06-25T05:29:31.172999Z",
     "shell.execute_reply": "2025-06-25T05:29:31.172494Z"
    },
    "papermill": {
     "duration": 0.016567,
     "end_time": "2025-06-25T05:29:31.174064",
     "exception": false,
     "start_time": "2025-06-25T05:29:31.157497",
     "status": "completed"
    },
    "tags": []
   },
   "outputs": [],
   "source": [
    "def engineer_features(df, source_df=None):\n",
    "    df = df.copy()\n",
    "\n",
    "    if 'sessionStart' in df.columns:\n",
    "        if df['sessionStart'].dtype != 'datetime64[ns]':\n",
    "            df['sessionStart'] = pd.to_datetime(df['sessionStart'], unit='s', errors='coerce')\n",
    "\n",
    "        df = df.sort_values(by=['userId', 'sessionStart'])\n",
    "\n",
    "        df['hour'] = df['sessionStart'].dt.hour\n",
    "        df['minute'] = df['sessionStart'].dt.minute\n",
    "        df['second'] = df['sessionStart'].dt.second\n",
    "        df['year'] = df['sessionStart'].dt.year\n",
    "        df['month'] = df['sessionStart'].dt.month\n",
    "        df['day'] = df['sessionStart'].dt.date\n",
    "        df['weekday'] = df['sessionStart'].dt.day_name()\n",
    "        df['week'] = df['sessionStart'].dt.isocalendar().week\n",
    "\n",
    "        if source_df is None:\n",
    "            df['prevSession'] = df.groupby('userId')['sessionStart'].shift(1)\n",
    "        else:\n",
    "            last_sessions = source_df.groupby('userId')['sessionStart'].max().rename('prevSession')\n",
    "            df = df.merge(last_sessions, on='userId', how='left')\n",
    "\n",
    "        df['timeBetween'] = (df['sessionStart'] - df['prevSession']).dt.total_seconds() / 3600\n",
    "        df['timeBetween_days'] = df['timeBetween'] / 24\n",
    "\n",
    "    if 'sessionId' in df.columns:\n",
    "        df['sessions_per_hour'] = df['hour'].map(df.groupby('hour')['sessionId'].nunique())\n",
    "        df['sessions_per_day'] = df['day'].map(df.groupby('day')['sessionId'].nunique())\n",
    "        df['sessions_per_week'] = df['week'].map(df.groupby('week')['sessionId'].nunique())\n",
    "        df['sessions_by_hour_of_day'] = df['hour'].map(df['hour'].value_counts().sort_index())\n",
    "        df['sessions_by_day_of_week'] = df['weekday'].map(df['weekday'].value_counts())\n",
    "\n",
    "    if 'sessionNumber' in df.columns and source_df is None:\n",
    "        session_counts = df.groupby('userId')['sessionNumber'].max()\n",
    "        retention_counts = session_counts.value_counts().sort_index()\n",
    "        retention_cumsum = retention_counts[::-1].cumsum()[::-1]\n",
    "        returning_rate = (retention_cumsum.shift(-1) / retention_cumsum).fillna(0)\n",
    "        drop_off_rate = 1 - returning_rate\n",
    "        df['returning_rate_by_session_number'] = df['sessionNumber'].map(returning_rate)\n",
    "        df['drop_off_rate_by_session_number'] = df['sessionNumber'].map(drop_off_rate)\n",
    "\n",
    "    if 'pageViews' in df.columns and 'totalHits' in df.columns:\n",
    "        df['pageviews_per_hit'] = df['pageViews'] / (df['totalHits'] + 1)\n",
    "\n",
    "    df.drop(columns=['sessionStart', 'prevSession'], inplace=True, errors='ignore')\n",
    "\n",
    "    return df"
   ]
  },
  {
   "cell_type": "code",
   "execution_count": 22,
   "id": "cafb4cec",
   "metadata": {
    "execution": {
     "iopub.execute_input": "2025-06-25T05:29:31.186955Z",
     "iopub.status.busy": "2025-06-25T05:29:31.186752Z",
     "iopub.status.idle": "2025-06-25T05:29:31.192493Z",
     "shell.execute_reply": "2025-06-25T05:29:31.191862Z"
    },
    "papermill": {
     "duration": 0.013475,
     "end_time": "2025-06-25T05:29:31.193667",
     "exception": false,
     "start_time": "2025-06-25T05:29:31.180192",
     "status": "completed"
    },
    "tags": []
   },
   "outputs": [],
   "source": [
    "\n",
    "def build_model_pipeline(train_df, test_df, target_col='purchaseValue', id_cols=['userId', 'sessionId'], regressor=None):\n",
    "    categorical_cols = train_df.select_dtypes(include=['object', 'bool']).columns.difference(id_cols).tolist()\n",
    "    numerical_cols = train_df.select_dtypes(include=['int64', 'float64']).columns.difference(id_cols + [target_col]).tolist()\n",
    "    feature_cols = numerical_cols + categorical_cols\n",
    "\n",
    "    for col in categorical_cols:\n",
    "        train_df[col] = train_df[col].astype(str)\n",
    "        test_df[col] = test_df[col].astype(str)\n",
    "\n",
    "    y = np.log1p(train_df[target_col])\n",
    "    X = train_df[feature_cols]\n",
    "    X_test = test_df[feature_cols]\n",
    "\n",
    "    numeric_transformer = Pipeline([\n",
    "        ('imputer', SimpleImputer(strategy='mean')),\n",
    "        ('scaler', StandardScaler())\n",
    "    ])\n",
    "\n",
    "    categorical_transformer = Pipeline([\n",
    "        ('imputer', SimpleImputer(strategy='most_frequent')),\n",
    "        ('encoder', OneHotEncoder(handle_unknown='ignore'))\n",
    "    ])\n",
    "\n",
    "    preprocessor = ColumnTransformer([\n",
    "        ('num', numeric_transformer, numerical_cols),\n",
    "        ('cat', categorical_transformer, categorical_cols)\n",
    "    ])\n",
    "\n",
    "    if regressor is None:\n",
    "        from sklearn.linear_model import LinearRegression\n",
    "        regressor = LinearRegression()\n",
    "\n",
    "    model = Pipeline([\n",
    "        ('preprocessor', preprocessor),\n",
    "        ('regressor', regressor)\n",
    "    ])\n",
    "\n",
    "    return model, X, y, X_test"
   ]
  },
  {
   "cell_type": "code",
   "execution_count": 23,
   "id": "8dea389e",
   "metadata": {
    "execution": {
     "iopub.execute_input": "2025-06-25T05:29:31.206820Z",
     "iopub.status.busy": "2025-06-25T05:29:31.206403Z",
     "iopub.status.idle": "2025-06-25T05:29:31.213232Z",
     "shell.execute_reply": "2025-06-25T05:29:31.212745Z"
    },
    "papermill": {
     "duration": 0.014426,
     "end_time": "2025-06-25T05:29:31.214242",
     "exception": false,
     "start_time": "2025-06-25T05:29:31.199816",
     "status": "completed"
    },
    "tags": []
   },
   "outputs": [],
   "source": [
    "def train_and_evaluate_xgboost(train_df, test_df, target_col='purchaseValue'):\n",
    "    train_fe = engineer_features(train_df)\n",
    "    test_fe = engineer_features(test_df)\n",
    "    \n",
    "    regressor = XGBRegressor(random_state=42, use_label_encoder=False, eval_metric='rmse')\n",
    "\n",
    "    param_grid = {\n",
    "        'regressor__max_depth': [3, 5],\n",
    "        'regressor__learning_rate': [0.1],\n",
    "        'regressor__n_estimators': [100],\n",
    "        'regressor__subsample': [0.8],\n",
    "        'regressor__colsample_bytree': [0.8]\n",
    "    }\n",
    "\n",
    "    model, X, y, X_test = build_model_pipeline(train_fe, test_fe, target_col, regressor=regressor)\n",
    "\n",
    "    X_train, X_val, y_train, y_val = train_test_split(X, y, test_size=0.2, random_state=42)\n",
    "\n",
    "    grid_search = GridSearchCV(model, param_grid, cv=3, scoring='r2', n_jobs=-1, verbose=2)\n",
    "    grid_search.fit(X_train, y_train)\n",
    "    print(\"Best params:\", grid_search.best_params_)\n",
    "\n",
    "    best_model = grid_search.best_estimator_\n",
    "    preprocessor = best_model.named_steps['preprocessor']\n",
    "    regressor = best_model.named_steps['regressor']\n",
    "\n",
    "    X_train_transformed = preprocessor.transform(X_train)\n",
    "    X_val_transformed = preprocessor.transform(X_val)\n",
    "\n",
    "    regressor.fit(\n",
    "        X_train_transformed, y_train,\n",
    "        eval_set=[(X_val_transformed, y_val)],\n",
    "        early_stopping_rounds=10,\n",
    "        verbose=True\n",
    "    )\n",
    "\n",
    "    y_val_pred_log = regressor.predict(X_val_transformed)\n",
    "    y_val_pred_raw = np.expm1(y_val_pred_log)\n",
    "    y_val_raw = np.expm1(y_val)\n",
    "\n",
    "    print(\"Validation R\\u00b2 (log):\", r2_score(y_val, y_val_pred_log))\n",
    "    print(\"Validation R\\u00b2 (raw):\", r2_score(y_val_raw, y_val_pred_raw))\n",
    "    print(\"Validation RMSE (raw):\", mean_squared_error(y_val_raw, y_val_pred_raw, squared=False))\n",
    "\n",
    "    X_test_transformed = preprocessor.transform(X_test)\n",
    "    y_pred_test_log = regressor.predict(X_test_transformed)\n",
    "    y_pred_test = np.expm1(y_pred_test_log)\n",
    "\n",
    "    submission = pd.DataFrame({\n",
    "        \"id\": range(len(test_df)),\n",
    "        \"purchaseValue\": y_pred_test\n",
    "    })\n",
    "    submission.to_csv(\"submission.csv\", index=False)\n",
    "    print(\"Submission saved to submission.csv\")"
   ]
  },
  {
   "cell_type": "code",
   "execution_count": 24,
   "id": "f7fa2f85",
   "metadata": {
    "execution": {
     "iopub.execute_input": "2025-06-25T05:29:31.227406Z",
     "iopub.status.busy": "2025-06-25T05:29:31.227216Z",
     "iopub.status.idle": "2025-06-25T05:29:31.231287Z",
     "shell.execute_reply": "2025-06-25T05:29:31.230777Z"
    },
    "papermill": {
     "duration": 0.011716,
     "end_time": "2025-06-25T05:29:31.232264",
     "exception": false,
     "start_time": "2025-06-25T05:29:31.220548",
     "status": "completed"
    },
    "tags": []
   },
   "outputs": [],
   "source": [
    "def compare_distributions(train_df, test_df, cols):\n",
    "    for col in cols:\n",
    "        plt.figure(figsize=(6, 3))\n",
    "        sns.kdeplot(train_df[col].dropna(), label='Train', shade=True)\n",
    "        sns.kdeplot(test_df[col].dropna(), label='Test', shade=True)\n",
    "        plt.title(f'Distribution: {col}')\n",
    "        plt.legend()\n",
    "        plt.tight_layout()\n",
    "        plt.show()"
   ]
  },
  {
   "cell_type": "code",
   "execution_count": 25,
   "id": "23ce6119",
   "metadata": {
    "execution": {
     "iopub.execute_input": "2025-06-25T05:29:31.245523Z",
     "iopub.status.busy": "2025-06-25T05:29:31.245351Z",
     "iopub.status.idle": "2025-06-25T05:29:31.248516Z",
     "shell.execute_reply": "2025-06-25T05:29:31.248052Z"
    },
    "papermill": {
     "duration": 0.011265,
     "end_time": "2025-06-25T05:29:31.249582",
     "exception": false,
     "start_time": "2025-06-25T05:29:31.238317",
     "status": "completed"
    },
    "tags": []
   },
   "outputs": [],
   "source": [
    "# from sklearn.metrics import r2_score, mean_squared_error\n",
    "# import pandas as pd\n",
    "# import numpy as np\n",
    "\n",
    "# def evaluate_predictions(\n",
    "#     submission_path,\n",
    "#     train_df,\n",
    "#     target_col='purchaseValue',\n",
    "#     id_col='index',\n",
    "#     prediction_col='purchaseValue',\n",
    "#     log_transform=False,\n",
    "#     metric='r2'\n",
    "# ):\n",
    "#     \"\"\"\n",
    "#     Evaluate submission predictions against true target values.\n",
    "\n",
    "#     Args:\n",
    "#         submission_path (str): Path to submission CSV with 'id' and predicted values.\n",
    "#         train_df (pd.DataFrame): Training dataframe with actual values.\n",
    "#         target_col (str): Name of the true target column in train_df.\n",
    "#         id_col (str): Column to merge on (default is 'index').\n",
    "#         prediction_col (str): Column in submission CSV containing predictions.\n",
    "#         log_transform (bool): Whether the original model was trained on log-transformed target.\n",
    "#         metric (str): 'r2' or 'rmse'\n",
    "\n",
    "#     Returns:\n",
    "#         float: Metric score.\n",
    "#     \"\"\"\n",
    "\n",
    "#     # Load submission\n",
    "#     submission = pd.read_csv(submission_path)\n",
    "\n",
    "#     # Ensure train_df has a merge key\n",
    "#     if id_col not in train_df.columns:\n",
    "#         train_df = train_df.reset_index()\n",
    "\n",
    "#     # Merge predictions with true values\n",
    "#     merged = train_df.merge(submission, left_on=id_col, right_on='id')\n",
    "#     actual = merged[target_col + '_x']  # from train_df\n",
    "#     predicted = merged[prediction_col + '_y'].clip(lower=0)  # from submission\n",
    "\n",
    "\n",
    "#     if log_transform:\n",
    "#         # If the model was trained on log1p-transformed target, apply same transform here\n",
    "#         actual = np.log1p(actual)\n",
    "#         predicted = np.log1p(predicted)\n",
    "\n",
    "#     # Choose metric\n",
    "#     if metric == 'r2':\n",
    "#         score = r2_score(actual, predicted)\n",
    "#     elif metric == 'rmse':\n",
    "#         score = mean_squared_error(actual, predicted, squared=False)\n",
    "#     else:\n",
    "#         raise ValueError(\"Unsupported metric: use 'r2' or 'rmse'\")\n",
    "\n",
    "#     print(f\"{metric.upper()} score: {score:.4f}\")\n",
    "#     return score\n",
    "\n",
    "\n"
   ]
  },
  {
   "cell_type": "code",
   "execution_count": 26,
   "id": "7c0a00ff",
   "metadata": {
    "execution": {
     "iopub.execute_input": "2025-06-25T05:29:31.262593Z",
     "iopub.status.busy": "2025-06-25T05:29:31.262401Z",
     "iopub.status.idle": "2025-06-25T05:32:01.690779Z",
     "shell.execute_reply": "2025-06-25T05:32:01.689893Z"
    },
    "papermill": {
     "duration": 150.436276,
     "end_time": "2025-06-25T05:32:01.692038",
     "exception": false,
     "start_time": "2025-06-25T05:29:31.255762",
     "status": "completed"
    },
    "tags": []
   },
   "outputs": [
    {
     "name": "stdout",
     "output_type": "stream",
     "text": [
      "Fitting 3 folds for each of 2 candidates, totalling 6 fits\n",
      "Best params: {'regressor__colsample_bytree': 0.8, 'regressor__learning_rate': 0.1, 'regressor__max_depth': 5, 'regressor__n_estimators': 100, 'regressor__subsample': 0.8}\n"
     ]
    },
    {
     "name": "stderr",
     "output_type": "stream",
     "text": [
      "/usr/local/lib/python3.11/dist-packages/xgboost/sklearn.py:889: UserWarning: `early_stopping_rounds` in `fit` method is deprecated for better compatibility with scikit-learn, use `early_stopping_rounds` in constructor or`set_params` instead.\n",
      "  warnings.warn(\n"
     ]
    },
    {
     "name": "stdout",
     "output_type": "stream",
     "text": [
      "[0]\tvalidation_0-rmse:6.72451\n",
      "[1]\tvalidation_0-rmse:6.21978\n",
      "[2]\tvalidation_0-rmse:5.77682\n",
      "[3]\tvalidation_0-rmse:5.39038\n",
      "[4]\tvalidation_0-rmse:5.05291\n",
      "[5]\tvalidation_0-rmse:4.76093\n",
      "[6]\tvalidation_0-rmse:4.50755\n",
      "[7]\tvalidation_0-rmse:4.28994\n",
      "[8]\tvalidation_0-rmse:4.10355\n",
      "[9]\tvalidation_0-rmse:3.94253\n",
      "[10]\tvalidation_0-rmse:3.80708\n",
      "[11]\tvalidation_0-rmse:3.71930\n",
      "[12]\tvalidation_0-rmse:3.61472\n",
      "[13]\tvalidation_0-rmse:3.55141\n",
      "[14]\tvalidation_0-rmse:3.49999\n",
      "[15]\tvalidation_0-rmse:3.42836\n",
      "[16]\tvalidation_0-rmse:3.36952\n",
      "[17]\tvalidation_0-rmse:3.31992\n",
      "[18]\tvalidation_0-rmse:3.27581\n",
      "[19]\tvalidation_0-rmse:3.24067\n",
      "[20]\tvalidation_0-rmse:3.21123\n",
      "[21]\tvalidation_0-rmse:3.18484\n",
      "[22]\tvalidation_0-rmse:3.16337\n",
      "[23]\tvalidation_0-rmse:3.14482\n",
      "[24]\tvalidation_0-rmse:3.12913\n",
      "[25]\tvalidation_0-rmse:3.11449\n",
      "[26]\tvalidation_0-rmse:3.10172\n",
      "[27]\tvalidation_0-rmse:3.09547\n",
      "[28]\tvalidation_0-rmse:3.09014\n",
      "[29]\tvalidation_0-rmse:3.07874\n",
      "[30]\tvalidation_0-rmse:3.07021\n",
      "[31]\tvalidation_0-rmse:3.06217\n",
      "[32]\tvalidation_0-rmse:3.05619\n",
      "[33]\tvalidation_0-rmse:3.04987\n",
      "[34]\tvalidation_0-rmse:3.04648\n",
      "[35]\tvalidation_0-rmse:3.04313\n",
      "[36]\tvalidation_0-rmse:3.03708\n",
      "[37]\tvalidation_0-rmse:3.03353\n",
      "[38]\tvalidation_0-rmse:3.02958\n",
      "[39]\tvalidation_0-rmse:3.02645\n",
      "[40]\tvalidation_0-rmse:3.02363\n",
      "[41]\tvalidation_0-rmse:3.02130\n",
      "[42]\tvalidation_0-rmse:3.02007\n",
      "[43]\tvalidation_0-rmse:3.01597\n",
      "[44]\tvalidation_0-rmse:3.01416\n",
      "[45]\tvalidation_0-rmse:3.01291\n",
      "[46]\tvalidation_0-rmse:3.01192\n",
      "[47]\tvalidation_0-rmse:3.01059\n",
      "[48]\tvalidation_0-rmse:3.01034\n",
      "[49]\tvalidation_0-rmse:3.00896\n",
      "[50]\tvalidation_0-rmse:3.00641\n",
      "[51]\tvalidation_0-rmse:3.00498\n",
      "[52]\tvalidation_0-rmse:3.00362\n",
      "[53]\tvalidation_0-rmse:3.00189\n",
      "[54]\tvalidation_0-rmse:3.00034\n",
      "[55]\tvalidation_0-rmse:3.00007\n",
      "[56]\tvalidation_0-rmse:2.99979\n",
      "[57]\tvalidation_0-rmse:2.99938\n",
      "[58]\tvalidation_0-rmse:2.99791\n",
      "[59]\tvalidation_0-rmse:2.99616\n",
      "[60]\tvalidation_0-rmse:2.99558\n",
      "[61]\tvalidation_0-rmse:2.99536\n",
      "[62]\tvalidation_0-rmse:2.99406\n",
      "[63]\tvalidation_0-rmse:2.99385\n",
      "[64]\tvalidation_0-rmse:2.99373\n",
      "[65]\tvalidation_0-rmse:2.99332\n",
      "[66]\tvalidation_0-rmse:2.99091\n",
      "[67]\tvalidation_0-rmse:2.99065\n",
      "[68]\tvalidation_0-rmse:2.98971\n",
      "[69]\tvalidation_0-rmse:2.98912\n",
      "[70]\tvalidation_0-rmse:2.98895\n",
      "[71]\tvalidation_0-rmse:2.98870\n",
      "[72]\tvalidation_0-rmse:2.98762\n",
      "[73]\tvalidation_0-rmse:2.98764\n",
      "[74]\tvalidation_0-rmse:2.98770\n",
      "[75]\tvalidation_0-rmse:2.98692\n",
      "[76]\tvalidation_0-rmse:2.98673\n",
      "[77]\tvalidation_0-rmse:2.98625\n",
      "[78]\tvalidation_0-rmse:2.98609\n",
      "[79]\tvalidation_0-rmse:2.98567\n",
      "[80]\tvalidation_0-rmse:2.98551\n",
      "[81]\tvalidation_0-rmse:2.98556\n",
      "[82]\tvalidation_0-rmse:2.98531\n",
      "[83]\tvalidation_0-rmse:2.98539\n",
      "[84]\tvalidation_0-rmse:2.98499\n",
      "[85]\tvalidation_0-rmse:2.98487\n",
      "[86]\tvalidation_0-rmse:2.98457\n",
      "[87]\tvalidation_0-rmse:2.98456\n",
      "[88]\tvalidation_0-rmse:2.98404\n",
      "[89]\tvalidation_0-rmse:2.98255\n",
      "[90]\tvalidation_0-rmse:2.98239\n",
      "[91]\tvalidation_0-rmse:2.98230\n",
      "[92]\tvalidation_0-rmse:2.98203\n",
      "[93]\tvalidation_0-rmse:2.98176\n",
      "[94]\tvalidation_0-rmse:2.98157\n",
      "[95]\tvalidation_0-rmse:2.98178\n",
      "[96]\tvalidation_0-rmse:2.98102\n",
      "[97]\tvalidation_0-rmse:2.98090\n",
      "[98]\tvalidation_0-rmse:2.98099\n",
      "[99]\tvalidation_0-rmse:2.98099\n",
      "Validation R² (log): 0.8331557231800526\n",
      "Validation R² (raw): 0.021423895136189364\n",
      "Validation RMSE (raw): 219650626.57853144\n",
      "Submission saved to submission.csv\n"
     ]
    }
   ],
   "source": [
    "# Assuming train_df and test_df are already loaded in your notebook\n",
    "train_and_evaluate_xgboost(train_df, test_df, target_col='purchaseValue')\n",
    "\n"
   ]
  },
  {
   "cell_type": "code",
   "execution_count": 27,
   "id": "fdb8b2cf",
   "metadata": {
    "execution": {
     "iopub.execute_input": "2025-06-25T05:32:01.713808Z",
     "iopub.status.busy": "2025-06-25T05:32:01.713600Z",
     "iopub.status.idle": "2025-06-25T05:32:01.716659Z",
     "shell.execute_reply": "2025-06-25T05:32:01.716153Z"
    },
    "papermill": {
     "duration": 0.014808,
     "end_time": "2025-06-25T05:32:01.717765",
     "exception": false,
     "start_time": "2025-06-25T05:32:01.702957",
     "status": "completed"
    },
    "tags": []
   },
   "outputs": [],
   "source": [
    "# # Example 1: R² on raw purchase values\n",
    "# evaluate_predictions('submission.csv', train_df, log_transform=False, metric='r2')\n",
    "\n",
    "# # Example 2: RMSE on log-transformed values\n",
    "# evaluate_predictions('submission.csv', train_df, log_transform=True, metric='rmse')\n"
   ]
  },
  {
   "cell_type": "code",
   "execution_count": 28,
   "id": "6d76379d",
   "metadata": {
    "execution": {
     "iopub.execute_input": "2025-06-25T05:32:01.738228Z",
     "iopub.status.busy": "2025-06-25T05:32:01.738022Z",
     "iopub.status.idle": "2025-06-25T05:32:01.912365Z",
     "shell.execute_reply": "2025-06-25T05:32:01.911353Z"
    },
    "papermill": {
     "duration": 0.186039,
     "end_time": "2025-06-25T05:32:01.913617",
     "exception": false,
     "start_time": "2025-06-25T05:32:01.727578",
     "status": "completed"
    },
    "tags": []
   },
   "outputs": [
    {
     "name": "stdout",
     "output_type": "stream",
     "text": [
      "<class 'pandas.core.frame.DataFrame'>\n",
      "RangeIndex: 116023 entries, 0 to 116022\n",
      "Data columns (total 47 columns):\n",
      " #   Column                            Non-Null Count   Dtype  \n",
      "---  ------                            --------------   -----  \n",
      " 0   trafficSource.isTrueDirect        116023 non-null  object \n",
      " 1   purchaseValue                     116023 non-null  float64\n",
      " 2   browser                           116023 non-null  object \n",
      " 3   device.screenResolution           116023 non-null  object \n",
      " 4   trafficSource.keyword             116023 non-null  object \n",
      " 5   screenSize                        116023 non-null  object \n",
      " 6   geoCluster                        116023 non-null  object \n",
      " 7   device.mobileDeviceBranding       116023 non-null  object \n",
      " 8   device.mobileInputSelector        116023 non-null  object \n",
      " 9   userId                            116023 non-null  int64  \n",
      " 10  trafficSource.campaign            116023 non-null  object \n",
      " 11  device.mobileDeviceMarketingName  116023 non-null  object \n",
      " 12  geoNetwork.networkDomain          116023 non-null  object \n",
      " 13  gclIdPresent                      116023 non-null  int64  \n",
      " 14  device.operatingSystemVersion     116023 non-null  object \n",
      " 15  sessionNumber                     116023 non-null  int64  \n",
      " 16  device.flashVersion               116023 non-null  object \n",
      " 17  geoNetwork.region                 116023 non-null  object \n",
      " 18  trafficSource                     116023 non-null  object \n",
      " 19  totals.visits                     116023 non-null  int64  \n",
      " 20  geoNetwork.networkLocation        116023 non-null  object \n",
      " 21  sessionId                         116023 non-null  int64  \n",
      " 22  os                                116023 non-null  object \n",
      " 23  geoNetwork.subContinent           116023 non-null  object \n",
      " 24  trafficSource.medium              116023 non-null  object \n",
      " 25  browserMajor                      116023 non-null  object \n",
      " 26  locationCountry                   116023 non-null  object \n",
      " 27  device.browserSize                116023 non-null  object \n",
      " 28  socialEngagementType              116023 non-null  object \n",
      " 29  geoNetwork.city                   116023 non-null  object \n",
      " 30  geoNetwork.metro                  116023 non-null  object \n",
      " 31  pageViews                         116015 non-null  float64\n",
      " 32  locationZone                      116023 non-null  int64  \n",
      " 33  device.mobileDeviceModel          116023 non-null  object \n",
      " 34  trafficSource.referralPath        116023 non-null  object \n",
      " 35  totals.bounces                    47148 non-null   float64\n",
      " 36  date                              116023 non-null  int64  \n",
      " 37  device.language                   116023 non-null  object \n",
      " 38  deviceType                        116023 non-null  object \n",
      " 39  userChannel                       116023 non-null  object \n",
      " 40  device.browserVersion             116023 non-null  object \n",
      " 41  totalHits                         116023 non-null  int64  \n",
      " 42  device.screenColors               116023 non-null  object \n",
      " 43  sessionStart                      116023 non-null  int64  \n",
      " 44  geoNetwork.continent              116023 non-null  object \n",
      " 45  device.isMobile                   116023 non-null  bool   \n",
      " 46  new_visits                        80518 non-null   float64\n",
      "dtypes: bool(1), float64(4), int64(9), object(33)\n",
      "memory usage: 40.8+ MB\n"
     ]
    }
   ],
   "source": [
    "train_df.info()"
   ]
  }
 ],
 "metadata": {
  "kaggle": {
   "accelerator": "nvidiaTeslaT4",
   "dataSources": [
    {
     "databundleVersionId": 11895149,
     "sourceId": 99546,
     "sourceType": "competition"
    },
    {
     "datasetId": 7715048,
     "sourceId": 12244545,
     "sourceType": "datasetVersion"
    }
   ],
   "dockerImageVersionId": 31040,
   "isGpuEnabled": true,
   "isInternetEnabled": false,
   "language": "python",
   "sourceType": "notebook"
  },
  "kernelspec": {
   "display_name": "Python 3",
   "language": "python",
   "name": "python3"
  },
  "language_info": {
   "codemirror_mode": {
    "name": "ipython",
    "version": 3
   },
   "file_extension": ".py",
   "mimetype": "text/x-python",
   "name": "python",
   "nbconvert_exporter": "python",
   "pygments_lexer": "ipython3",
   "version": "3.11.11"
  },
  "papermill": {
   "default_parameters": {},
   "duration": 170.87315,
   "end_time": "2025-06-25T05:32:04.541701",
   "environment_variables": {},
   "exception": null,
   "input_path": "__notebook__.ipynb",
   "output_path": "__notebook__.ipynb",
   "parameters": {},
   "start_time": "2025-06-25T05:29:13.668551",
   "version": "2.6.0"
  }
 },
 "nbformat": 4,
 "nbformat_minor": 5
}
