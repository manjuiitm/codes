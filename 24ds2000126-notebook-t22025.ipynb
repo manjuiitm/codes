{
 "cells": [
  {
   "cell_type": "code",
   "execution_count": 1,
   "id": "e0744d32",
   "metadata": {
    "_cell_guid": "b1076dfc-b9ad-4769-8c92-a6c4dae69d19",
    "_uuid": "8f2839f25d086af736a60e9eeb907d3b93b6e0e5",
    "execution": {
     "iopub.execute_input": "2025-07-22T09:38:00.272586Z",
     "iopub.status.busy": "2025-07-22T09:38:00.271826Z",
     "iopub.status.idle": "2025-07-22T09:38:00.275777Z",
     "shell.execute_reply": "2025-07-22T09:38:00.275301Z"
    },
    "papermill": {
     "duration": 0.02924,
     "end_time": "2025-07-22T09:38:00.276811",
     "exception": false,
     "start_time": "2025-07-22T09:38:00.247571",
     "status": "completed"
    },
    "tags": []
   },
   "outputs": [],
   "source": [
    "# # This Python 3 environment comes with many helpful analytics libraries installed\n",
    "# # It is defined by the kaggle/python Docker image: https://github.com/kaggle/docker-python\n",
    "# # For example, here's several helpful packages to load\n",
    "\n",
    "# import numpy as np # linear algebra\n",
    "# import pandas as pd # data processing, CSV file I/O (e.g. pd.read_csv)\n",
    "\n",
    "# # Input data files are available in the read-only \"../input/\" directory\n",
    "# # For example, running this (by clicking run or pressing Shift+Enter) will list all files under the input directory\n",
    "\n",
    "# import os\n",
    "# for dirname, _, filenames in os.walk('/kaggle/input'):\n",
    "#     for filename in filenames:\n",
    "#         print(os.path.join(dirname, filename))\n",
    "\n",
    "# # You can write up to 20GB to the current directory (/kaggle/working/) that gets preserved as output when you create a version using \"Save & Run All\" \n",
    "# # You can also write temporary files to /kaggle/temp/, but they won't be saved outside of the current session"
   ]
  },
  {
   "cell_type": "code",
   "execution_count": 2,
   "id": "cf9e71fd",
   "metadata": {
    "execution": {
     "iopub.execute_input": "2025-07-22T09:38:00.318584Z",
     "iopub.status.busy": "2025-07-22T09:38:00.318114Z",
     "iopub.status.idle": "2025-07-22T09:38:00.321078Z",
     "shell.execute_reply": "2025-07-22T09:38:00.320556Z"
    },
    "papermill": {
     "duration": 0.024633,
     "end_time": "2025-07-22T09:38:00.322105",
     "exception": false,
     "start_time": "2025-07-22T09:38:00.297472",
     "status": "completed"
    },
    "tags": []
   },
   "outputs": [],
   "source": [
    "# import pandas as pd\n",
    "# df = pd.read_csv(\"/kaggle/input/engage-2-value-from-clicks-to-conversions/train_data.csv\") \n",
    "# X = df.drop(\"purchaseValue\", axis=1) \n",
    "# y = df['purchaseValue'] \n",
    "# from sklearn.dummy import DummyRegressor \n",
    "# model = DummyRegressor().fit(X,y) \n",
    "# X_test = pd.read_csv(\"/kaggle/input/engage-2-value-from-clicks-to-conversions/test_data.csv\") \n",
    "# y_pred=model.predict(X_test) "
   ]
  },
  {
   "cell_type": "code",
   "execution_count": 3,
   "id": "4e9fe7c1",
   "metadata": {
    "execution": {
     "iopub.execute_input": "2025-07-22T09:38:00.362366Z",
     "iopub.status.busy": "2025-07-22T09:38:00.362135Z",
     "iopub.status.idle": "2025-07-22T09:38:00.365037Z",
     "shell.execute_reply": "2025-07-22T09:38:00.364557Z"
    },
    "papermill": {
     "duration": 0.024165,
     "end_time": "2025-07-22T09:38:00.365965",
     "exception": false,
     "start_time": "2025-07-22T09:38:00.341800",
     "status": "completed"
    },
    "tags": []
   },
   "outputs": [],
   "source": [
    "# submission = pd.DataFrame({\"id\": range(0,X_test.shape[0]), \"purchaseValue\": y_pred}) \n",
    "# submission.to_csv('submission.csv',index=False)"
   ]
  },
  {
   "cell_type": "code",
   "execution_count": 4,
   "id": "49e764e8",
   "metadata": {
    "execution": {
     "iopub.execute_input": "2025-07-22T09:38:00.447954Z",
     "iopub.status.busy": "2025-07-22T09:38:00.447727Z",
     "iopub.status.idle": "2025-07-22T09:38:05.615165Z",
     "shell.execute_reply": "2025-07-22T09:38:05.614331Z"
    },
    "papermill": {
     "duration": 5.230557,
     "end_time": "2025-07-22T09:38:05.616600",
     "exception": false,
     "start_time": "2025-07-22T09:38:00.386043",
     "status": "completed"
    },
    "tags": []
   },
   "outputs": [],
   "source": [
    "import pandas as pd\n",
    "import numpy as np\n",
    "import seaborn as sns\n",
    "import matplotlib.pyplot as plt\n",
    "%matplotlib inline\n",
    "train_df = pd.read_csv('/kaggle/input/engage-2-value-from-clicks-to-conversions/train_data.csv')\n",
    "test_df = pd.read_csv('/kaggle/input/engage-2-value-from-clicks-to-conversions/test_data.csv')"
   ]
  },
  {
   "cell_type": "code",
   "execution_count": 5,
   "id": "78e41b1e",
   "metadata": {
    "execution": {
     "iopub.execute_input": "2025-07-22T09:38:05.658671Z",
     "iopub.status.busy": "2025-07-22T09:38:05.658149Z",
     "iopub.status.idle": "2025-07-22T09:38:05.661305Z",
     "shell.execute_reply": "2025-07-22T09:38:05.660812Z"
    },
    "papermill": {
     "duration": 0.025038,
     "end_time": "2025-07-22T09:38:05.662374",
     "exception": false,
     "start_time": "2025-07-22T09:38:05.637336",
     "status": "completed"
    },
    "tags": []
   },
   "outputs": [],
   "source": [
    "#train_df.columns"
   ]
  },
  {
   "cell_type": "code",
   "execution_count": 6,
   "id": "8f3ceda4",
   "metadata": {
    "execution": {
     "iopub.execute_input": "2025-07-22T09:38:05.702957Z",
     "iopub.status.busy": "2025-07-22T09:38:05.702727Z",
     "iopub.status.idle": "2025-07-22T09:38:05.706172Z",
     "shell.execute_reply": "2025-07-22T09:38:05.705511Z"
    },
    "papermill": {
     "duration": 0.024804,
     "end_time": "2025-07-22T09:38:05.707224",
     "exception": false,
     "start_time": "2025-07-22T09:38:05.682420",
     "status": "completed"
    },
    "tags": []
   },
   "outputs": [],
   "source": [
    "#test_df.columns"
   ]
  },
  {
   "cell_type": "code",
   "execution_count": 7,
   "id": "e97471a2",
   "metadata": {
    "execution": {
     "iopub.execute_input": "2025-07-22T09:38:05.748450Z",
     "iopub.status.busy": "2025-07-22T09:38:05.747750Z",
     "iopub.status.idle": "2025-07-22T09:38:05.750785Z",
     "shell.execute_reply": "2025-07-22T09:38:05.750273Z"
    },
    "papermill": {
     "duration": 0.024295,
     "end_time": "2025-07-22T09:38:05.751756",
     "exception": false,
     "start_time": "2025-07-22T09:38:05.727461",
     "status": "completed"
    },
    "tags": []
   },
   "outputs": [],
   "source": [
    "#test_df.info()"
   ]
  },
  {
   "cell_type": "code",
   "execution_count": 8,
   "id": "7ffb6f35",
   "metadata": {
    "execution": {
     "iopub.execute_input": "2025-07-22T09:38:05.794696Z",
     "iopub.status.busy": "2025-07-22T09:38:05.794419Z",
     "iopub.status.idle": "2025-07-22T09:38:05.797928Z",
     "shell.execute_reply": "2025-07-22T09:38:05.797075Z"
    },
    "papermill": {
     "duration": 0.027687,
     "end_time": "2025-07-22T09:38:05.799540",
     "exception": false,
     "start_time": "2025-07-22T09:38:05.771853",
     "status": "completed"
    },
    "tags": []
   },
   "outputs": [],
   "source": [
    "#train_df.describe()"
   ]
  },
  {
   "cell_type": "code",
   "execution_count": 9,
   "id": "f1a8552a",
   "metadata": {
    "execution": {
     "iopub.execute_input": "2025-07-22T09:38:05.858537Z",
     "iopub.status.busy": "2025-07-22T09:38:05.857974Z",
     "iopub.status.idle": "2025-07-22T09:38:05.861407Z",
     "shell.execute_reply": "2025-07-22T09:38:05.860650Z"
    },
    "papermill": {
     "duration": 0.034697,
     "end_time": "2025-07-22T09:38:05.862579",
     "exception": false,
     "start_time": "2025-07-22T09:38:05.827882",
     "status": "completed"
    },
    "tags": []
   },
   "outputs": [],
   "source": [
    "#test_df.describe()"
   ]
  },
  {
   "cell_type": "markdown",
   "id": "4355b14a",
   "metadata": {
    "papermill": {
     "duration": 0.01996,
     "end_time": "2025-07-22T09:38:05.908803",
     "exception": false,
     "start_time": "2025-07-22T09:38:05.888843",
     "status": "completed"
    },
    "tags": []
   },
   "source": [
    "User & Session Metadata \n",
    "| Column          | Description                                          |\n",
    "| --------------- | ---------------------------------------------------- |\n",
    "| `userId`        | Unique ID for the user                               |\n",
    "| `sessionId`     | Unique ID for a session (group of user interactions) |\n",
    "| `sessionNumber` | The nth session for the user                         |\n",
    "| `sessionStart`  | Timestamp (or similar) marking session start         |\n"
   ]
  },
  {
   "cell_type": "markdown",
   "id": "12647265",
   "metadata": {
    "papermill": {
     "duration": 0.019954,
     "end_time": "2025-07-22T09:38:05.948986",
     "exception": false,
     "start_time": "2025-07-22T09:38:05.929032",
     "status": "completed"
    },
    "tags": []
   },
   "source": [
    "* Missing Values\n",
    "* Explore Numerical data\n",
    "* Explore Categorical data\n",
    "* Find the relationship between variables\n",
    "  "
   ]
  },
  {
   "cell_type": "code",
   "execution_count": 10,
   "id": "7b196dbd",
   "metadata": {
    "execution": {
     "iopub.execute_input": "2025-07-22T09:38:05.996088Z",
     "iopub.status.busy": "2025-07-22T09:38:05.995657Z",
     "iopub.status.idle": "2025-07-22T09:38:06.031732Z",
     "shell.execute_reply": "2025-07-22T09:38:06.030879Z"
    },
    "papermill": {
     "duration": 0.059818,
     "end_time": "2025-07-22T09:38:06.033132",
     "exception": false,
     "start_time": "2025-07-22T09:38:05.973314",
     "status": "completed"
    },
    "tags": []
   },
   "outputs": [
    {
     "name": "stderr",
     "output_type": "stream",
     "text": [
      "/usr/local/lib/python3.11/dist-packages/pandas/io/formats/format.py:1458: RuntimeWarning: invalid value encountered in greater\n",
      "  has_large_values = (abs_vals > 1e6).any()\n",
      "/usr/local/lib/python3.11/dist-packages/pandas/io/formats/format.py:1459: RuntimeWarning: invalid value encountered in less\n",
      "  has_small_values = ((abs_vals < 10 ** (-self.digits)) & (abs_vals > 0)).any()\n",
      "/usr/local/lib/python3.11/dist-packages/pandas/io/formats/format.py:1459: RuntimeWarning: invalid value encountered in greater\n",
      "  has_small_values = ((abs_vals < 10 ** (-self.digits)) & (abs_vals > 0)).any()\n",
      "/usr/local/lib/python3.11/dist-packages/pandas/io/formats/format.py:1458: RuntimeWarning: invalid value encountered in greater\n",
      "  has_large_values = (abs_vals > 1e6).any()\n",
      "/usr/local/lib/python3.11/dist-packages/pandas/io/formats/format.py:1459: RuntimeWarning: invalid value encountered in less\n",
      "  has_small_values = ((abs_vals < 10 ** (-self.digits)) & (abs_vals > 0)).any()\n",
      "/usr/local/lib/python3.11/dist-packages/pandas/io/formats/format.py:1459: RuntimeWarning: invalid value encountered in greater\n",
      "  has_small_values = ((abs_vals < 10 ** (-self.digits)) & (abs_vals > 0)).any()\n"
     ]
    },
    {
     "data": {
      "text/html": [
       "<div>\n",
       "<style scoped>\n",
       "    .dataframe tbody tr th:only-of-type {\n",
       "        vertical-align: middle;\n",
       "    }\n",
       "\n",
       "    .dataframe tbody tr th {\n",
       "        vertical-align: top;\n",
       "    }\n",
       "\n",
       "    .dataframe thead th {\n",
       "        text-align: right;\n",
       "    }\n",
       "</style>\n",
       "<table border=\"1\" class=\"dataframe\">\n",
       "  <thead>\n",
       "    <tr style=\"text-align: right;\">\n",
       "      <th></th>\n",
       "      <th>trafficSource.isTrueDirect</th>\n",
       "      <th>purchaseValue</th>\n",
       "      <th>browser</th>\n",
       "      <th>device.screenResolution</th>\n",
       "      <th>trafficSource.adContent</th>\n",
       "      <th>trafficSource.keyword</th>\n",
       "      <th>screenSize</th>\n",
       "      <th>geoCluster</th>\n",
       "      <th>trafficSource.adwordsClickInfo.slot</th>\n",
       "      <th>device.mobileDeviceBranding</th>\n",
       "      <th>...</th>\n",
       "      <th>device.language</th>\n",
       "      <th>deviceType</th>\n",
       "      <th>userChannel</th>\n",
       "      <th>device.browserVersion</th>\n",
       "      <th>totalHits</th>\n",
       "      <th>device.screenColors</th>\n",
       "      <th>sessionStart</th>\n",
       "      <th>geoNetwork.continent</th>\n",
       "      <th>device.isMobile</th>\n",
       "      <th>new_visits</th>\n",
       "    </tr>\n",
       "  </thead>\n",
       "  <tbody>\n",
       "    <tr>\n",
       "      <th>0</th>\n",
       "      <td>NaN</td>\n",
       "      <td>0.0</td>\n",
       "      <td>Edge</td>\n",
       "      <td>not available in demo dataset</td>\n",
       "      <td>NaN</td>\n",
       "      <td>NaN</td>\n",
       "      <td>medium</td>\n",
       "      <td>Region_2</td>\n",
       "      <td>NaN</td>\n",
       "      <td>not available in demo dataset</td>\n",
       "      <td>...</td>\n",
       "      <td>not available in demo dataset</td>\n",
       "      <td>desktop</td>\n",
       "      <td>Social</td>\n",
       "      <td>not available in demo dataset</td>\n",
       "      <td>1</td>\n",
       "      <td>not available in demo dataset</td>\n",
       "      <td>1500100799</td>\n",
       "      <td>Americas</td>\n",
       "      <td>False</td>\n",
       "      <td>1.0</td>\n",
       "    </tr>\n",
       "    <tr>\n",
       "      <th>1</th>\n",
       "      <td>True</td>\n",
       "      <td>0.0</td>\n",
       "      <td>Chrome</td>\n",
       "      <td>not available in demo dataset</td>\n",
       "      <td>NaN</td>\n",
       "      <td>NaN</td>\n",
       "      <td>medium</td>\n",
       "      <td>Region_3</td>\n",
       "      <td>NaN</td>\n",
       "      <td>not available in demo dataset</td>\n",
       "      <td>...</td>\n",
       "      <td>not available in demo dataset</td>\n",
       "      <td>desktop</td>\n",
       "      <td>Direct</td>\n",
       "      <td>not available in demo dataset</td>\n",
       "      <td>1</td>\n",
       "      <td>not available in demo dataset</td>\n",
       "      <td>1495262065</td>\n",
       "      <td>Americas</td>\n",
       "      <td>False</td>\n",
       "      <td>1.0</td>\n",
       "    </tr>\n",
       "    <tr>\n",
       "      <th>2</th>\n",
       "      <td>True</td>\n",
       "      <td>0.0</td>\n",
       "      <td>Chrome</td>\n",
       "      <td>not available in demo dataset</td>\n",
       "      <td>NaN</td>\n",
       "      <td>(not provided)</td>\n",
       "      <td>medium</td>\n",
       "      <td>Region_2</td>\n",
       "      <td>NaN</td>\n",
       "      <td>not available in demo dataset</td>\n",
       "      <td>...</td>\n",
       "      <td>not available in demo dataset</td>\n",
       "      <td>desktop</td>\n",
       "      <td>Organic Search</td>\n",
       "      <td>not available in demo dataset</td>\n",
       "      <td>6</td>\n",
       "      <td>not available in demo dataset</td>\n",
       "      <td>1508510328</td>\n",
       "      <td>Europe</td>\n",
       "      <td>False</td>\n",
       "      <td>NaN</td>\n",
       "    </tr>\n",
       "    <tr>\n",
       "      <th>3</th>\n",
       "      <td>NaN</td>\n",
       "      <td>0.0</td>\n",
       "      <td>Internet Explorer</td>\n",
       "      <td>not available in demo dataset</td>\n",
       "      <td>NaN</td>\n",
       "      <td>NaN</td>\n",
       "      <td>medium</td>\n",
       "      <td>Region_4</td>\n",
       "      <td>NaN</td>\n",
       "      <td>not available in demo dataset</td>\n",
       "      <td>...</td>\n",
       "      <td>not available in demo dataset</td>\n",
       "      <td>desktop</td>\n",
       "      <td>Social</td>\n",
       "      <td>not available in demo dataset</td>\n",
       "      <td>1</td>\n",
       "      <td>not available in demo dataset</td>\n",
       "      <td>1483431838</td>\n",
       "      <td>Asia</td>\n",
       "      <td>False</td>\n",
       "      <td>1.0</td>\n",
       "    </tr>\n",
       "    <tr>\n",
       "      <th>4</th>\n",
       "      <td>True</td>\n",
       "      <td>88950000.0</td>\n",
       "      <td>Chrome</td>\n",
       "      <td>not available in demo dataset</td>\n",
       "      <td>NaN</td>\n",
       "      <td>NaN</td>\n",
       "      <td>medium</td>\n",
       "      <td>Region_3</td>\n",
       "      <td>NaN</td>\n",
       "      <td>not available in demo dataset</td>\n",
       "      <td>...</td>\n",
       "      <td>not available in demo dataset</td>\n",
       "      <td>desktop</td>\n",
       "      <td>Direct</td>\n",
       "      <td>not available in demo dataset</td>\n",
       "      <td>66</td>\n",
       "      <td>not available in demo dataset</td>\n",
       "      <td>1475804633</td>\n",
       "      <td>Americas</td>\n",
       "      <td>False</td>\n",
       "      <td>1.0</td>\n",
       "    </tr>\n",
       "  </tbody>\n",
       "</table>\n",
       "<p>5 rows × 52 columns</p>\n",
       "</div>"
      ],
      "text/plain": [
       "  trafficSource.isTrueDirect  purchaseValue            browser  \\\n",
       "0                        NaN            0.0               Edge   \n",
       "1                       True            0.0             Chrome   \n",
       "2                       True            0.0             Chrome   \n",
       "3                        NaN            0.0  Internet Explorer   \n",
       "4                       True     88950000.0             Chrome   \n",
       "\n",
       "         device.screenResolution trafficSource.adContent  \\\n",
       "0  not available in demo dataset                     NaN   \n",
       "1  not available in demo dataset                     NaN   \n",
       "2  not available in demo dataset                     NaN   \n",
       "3  not available in demo dataset                     NaN   \n",
       "4  not available in demo dataset                     NaN   \n",
       "\n",
       "  trafficSource.keyword screenSize geoCluster  \\\n",
       "0                   NaN     medium   Region_2   \n",
       "1                   NaN     medium   Region_3   \n",
       "2        (not provided)     medium   Region_2   \n",
       "3                   NaN     medium   Region_4   \n",
       "4                   NaN     medium   Region_3   \n",
       "\n",
       "  trafficSource.adwordsClickInfo.slot    device.mobileDeviceBranding  ...  \\\n",
       "0                                 NaN  not available in demo dataset  ...   \n",
       "1                                 NaN  not available in demo dataset  ...   \n",
       "2                                 NaN  not available in demo dataset  ...   \n",
       "3                                 NaN  not available in demo dataset  ...   \n",
       "4                                 NaN  not available in demo dataset  ...   \n",
       "\n",
       "                 device.language  deviceType     userChannel  \\\n",
       "0  not available in demo dataset     desktop          Social   \n",
       "1  not available in demo dataset     desktop          Direct   \n",
       "2  not available in demo dataset     desktop  Organic Search   \n",
       "3  not available in demo dataset     desktop          Social   \n",
       "4  not available in demo dataset     desktop          Direct   \n",
       "\n",
       "           device.browserVersion totalHits            device.screenColors  \\\n",
       "0  not available in demo dataset         1  not available in demo dataset   \n",
       "1  not available in demo dataset         1  not available in demo dataset   \n",
       "2  not available in demo dataset         6  not available in demo dataset   \n",
       "3  not available in demo dataset         1  not available in demo dataset   \n",
       "4  not available in demo dataset        66  not available in demo dataset   \n",
       "\n",
       "  sessionStart  geoNetwork.continent device.isMobile new_visits  \n",
       "0   1500100799              Americas           False        1.0  \n",
       "1   1495262065              Americas           False        1.0  \n",
       "2   1508510328                Europe           False        NaN  \n",
       "3   1483431838                  Asia           False        1.0  \n",
       "4   1475804633              Americas           False        1.0  \n",
       "\n",
       "[5 rows x 52 columns]"
      ]
     },
     "execution_count": 10,
     "metadata": {},
     "output_type": "execute_result"
    }
   ],
   "source": [
    "train_df.head()"
   ]
  },
  {
   "cell_type": "code",
   "execution_count": 11,
   "id": "fe7b03e3",
   "metadata": {
    "execution": {
     "iopub.execute_input": "2025-07-22T09:38:06.109755Z",
     "iopub.status.busy": "2025-07-22T09:38:06.109083Z",
     "iopub.status.idle": "2025-07-22T09:38:06.112672Z",
     "shell.execute_reply": "2025-07-22T09:38:06.112015Z"
    },
    "papermill": {
     "duration": 0.042645,
     "end_time": "2025-07-22T09:38:06.113818",
     "exception": false,
     "start_time": "2025-07-22T09:38:06.071173",
     "status": "completed"
    },
    "tags": []
   },
   "outputs": [],
   "source": [
    "#train_df[['trafficSource.keyword','trafficSource.isTrueDirect','trafficSource.referralPath']]"
   ]
  },
  {
   "cell_type": "code",
   "execution_count": 12,
   "id": "671e25f8",
   "metadata": {
    "execution": {
     "iopub.execute_input": "2025-07-22T09:38:06.172624Z",
     "iopub.status.busy": "2025-07-22T09:38:06.172406Z",
     "iopub.status.idle": "2025-07-22T09:38:06.175755Z",
     "shell.execute_reply": "2025-07-22T09:38:06.175045Z"
    },
    "papermill": {
     "duration": 0.037596,
     "end_time": "2025-07-22T09:38:06.177069",
     "exception": false,
     "start_time": "2025-07-22T09:38:06.139473",
     "status": "completed"
    },
    "tags": []
   },
   "outputs": [],
   "source": [
    "#train_df.isnull().sum()"
   ]
  },
  {
   "cell_type": "code",
   "execution_count": 13,
   "id": "08b3d0b6",
   "metadata": {
    "execution": {
     "iopub.execute_input": "2025-07-22T09:38:06.225396Z",
     "iopub.status.busy": "2025-07-22T09:38:06.225177Z",
     "iopub.status.idle": "2025-07-22T09:38:06.228308Z",
     "shell.execute_reply": "2025-07-22T09:38:06.227644Z"
    },
    "papermill": {
     "duration": 0.025225,
     "end_time": "2025-07-22T09:38:06.229654",
     "exception": false,
     "start_time": "2025-07-22T09:38:06.204429",
     "status": "completed"
    },
    "tags": []
   },
   "outputs": [],
   "source": [
    "#train_df.shape\n"
   ]
  },
  {
   "cell_type": "code",
   "execution_count": 14,
   "id": "a9123c9f",
   "metadata": {
    "execution": {
     "iopub.execute_input": "2025-07-22T09:38:06.277189Z",
     "iopub.status.busy": "2025-07-22T09:38:06.276997Z",
     "iopub.status.idle": "2025-07-22T09:38:06.280098Z",
     "shell.execute_reply": "2025-07-22T09:38:06.279458Z"
    },
    "papermill": {
     "duration": 0.025296,
     "end_time": "2025-07-22T09:38:06.281189",
     "exception": false,
     "start_time": "2025-07-22T09:38:06.255893",
     "status": "completed"
    },
    "tags": []
   },
   "outputs": [],
   "source": [
    "#test_df.isnull().sum()"
   ]
  },
  {
   "cell_type": "code",
   "execution_count": 15,
   "id": "0d63352b",
   "metadata": {
    "execution": {
     "iopub.execute_input": "2025-07-22T09:38:06.338033Z",
     "iopub.status.busy": "2025-07-22T09:38:06.337815Z",
     "iopub.status.idle": "2025-07-22T09:38:06.340933Z",
     "shell.execute_reply": "2025-07-22T09:38:06.340319Z"
    },
    "papermill": {
     "duration": 0.026815,
     "end_time": "2025-07-22T09:38:06.342021",
     "exception": false,
     "start_time": "2025-07-22T09:38:06.315206",
     "status": "completed"
    },
    "tags": []
   },
   "outputs": [],
   "source": [
    "#[features for features in train_df.columns if train_df[features].isnull().sum()>0]"
   ]
  },
  {
   "cell_type": "code",
   "execution_count": 16,
   "id": "f9bfe665",
   "metadata": {
    "execution": {
     "iopub.execute_input": "2025-07-22T09:38:06.384592Z",
     "iopub.status.busy": "2025-07-22T09:38:06.384066Z",
     "iopub.status.idle": "2025-07-22T09:38:06.387263Z",
     "shell.execute_reply": "2025-07-22T09:38:06.386723Z"
    },
    "papermill": {
     "duration": 0.026042,
     "end_time": "2025-07-22T09:38:06.388386",
     "exception": false,
     "start_time": "2025-07-22T09:38:06.362344",
     "status": "completed"
    },
    "tags": []
   },
   "outputs": [],
   "source": [
    "#[features for features in test_df.columns if test_df[features].isnull().sum()>0]"
   ]
  },
  {
   "cell_type": "code",
   "execution_count": 17,
   "id": "e23a3e10",
   "metadata": {
    "execution": {
     "iopub.execute_input": "2025-07-22T09:38:06.430924Z",
     "iopub.status.busy": "2025-07-22T09:38:06.430295Z",
     "iopub.status.idle": "2025-07-22T09:38:06.433620Z",
     "shell.execute_reply": "2025-07-22T09:38:06.432970Z"
    },
    "papermill": {
     "duration": 0.025365,
     "end_time": "2025-07-22T09:38:06.434704",
     "exception": false,
     "start_time": "2025-07-22T09:38:06.409339",
     "status": "completed"
    },
    "tags": []
   },
   "outputs": [],
   "source": [
    "# missing_counts = test_df.isnull().sum()\n",
    "# missing_counts = missing_counts[missing_counts > 0].sort_values(ascending=False)\n",
    "# print(missing_counts)\n"
   ]
  },
  {
   "cell_type": "code",
   "execution_count": 18,
   "id": "b0bb7d21",
   "metadata": {
    "execution": {
     "iopub.execute_input": "2025-07-22T09:38:06.476479Z",
     "iopub.status.busy": "2025-07-22T09:38:06.476220Z",
     "iopub.status.idle": "2025-07-22T09:38:06.657887Z",
     "shell.execute_reply": "2025-07-22T09:38:06.657219Z"
    },
    "papermill": {
     "duration": 0.203987,
     "end_time": "2025-07-22T09:38:06.659104",
     "exception": false,
     "start_time": "2025-07-22T09:38:06.455117",
     "status": "completed"
    },
    "tags": []
   },
   "outputs": [
    {
     "data": {
      "text/plain": [
       "trafficSource.adContent                         0.974462\n",
       "trafficSource.adwordsClickInfo.slot             0.963102\n",
       "trafficSource.adwordsClickInfo.adNetworkType    0.963102\n",
       "trafficSource.adwordsClickInfo.isVideoAd        0.963102\n",
       "trafficSource.adwordsClickInfo.page             0.963102\n",
       "trafficSource.referralPath                      0.631849\n",
       "trafficSource.isTrueDirect                      0.630332\n",
       "trafficSource.keyword                           0.619369\n",
       "totals.bounces                                  0.593632\n",
       "new_visits                                      0.306017\n",
       "pageViews                                       0.000069\n",
       "device.screenResolution                         0.000000\n",
       "trafficSource.campaign                          0.000000\n",
       "browser                                         0.000000\n",
       "purchaseValue                                   0.000000\n",
       "screenSize                                      0.000000\n",
       "geoCluster                                      0.000000\n",
       "device.mobileDeviceBranding                     0.000000\n",
       "device.mobileInputSelector                      0.000000\n",
       "userId                                          0.000000\n",
       "geoNetwork.region                               0.000000\n",
       "device.flashVersion                             0.000000\n",
       "sessionNumber                                   0.000000\n",
       "device.operatingSystemVersion                   0.000000\n",
       "gclIdPresent                                    0.000000\n",
       "geoNetwork.networkDomain                        0.000000\n",
       "device.mobileDeviceMarketingName                0.000000\n",
       "trafficSource                                   0.000000\n",
       "trafficSource.medium                            0.000000\n",
       "geoNetwork.subContinent                         0.000000\n",
       "locationCountry                                 0.000000\n",
       "browserMajor                                    0.000000\n",
       "sessionId                                       0.000000\n",
       "os                                              0.000000\n",
       "geoNetwork.networkLocation                      0.000000\n",
       "totals.visits                                   0.000000\n",
       "geoNetwork.metro                                0.000000\n",
       "geoNetwork.city                                 0.000000\n",
       "socialEngagementType                            0.000000\n",
       "device.browserSize                              0.000000\n",
       "device.mobileDeviceModel                        0.000000\n",
       "date                                            0.000000\n",
       "device.language                                 0.000000\n",
       "locationZone                                    0.000000\n",
       "deviceType                                      0.000000\n",
       "userChannel                                     0.000000\n",
       "totalHits                                       0.000000\n",
       "device.browserVersion                           0.000000\n",
       "device.screenColors                             0.000000\n",
       "sessionStart                                    0.000000\n",
       "geoNetwork.continent                            0.000000\n",
       "device.isMobile                                 0.000000\n",
       "dtype: float64"
      ]
     },
     "execution_count": 18,
     "metadata": {},
     "output_type": "execute_result"
    }
   ],
   "source": [
    " train_df.isna().mean().sort_values(ascending=False) "
   ]
  },
  {
   "cell_type": "code",
   "execution_count": 19,
   "id": "7a0fe63f",
   "metadata": {
    "execution": {
     "iopub.execute_input": "2025-07-22T09:38:06.716799Z",
     "iopub.status.busy": "2025-07-22T09:38:06.716607Z",
     "iopub.status.idle": "2025-07-22T09:38:06.719545Z",
     "shell.execute_reply": "2025-07-22T09:38:06.718957Z"
    },
    "papermill": {
     "duration": 0.024914,
     "end_time": "2025-07-22T09:38:06.720635",
     "exception": false,
     "start_time": "2025-07-22T09:38:06.695721",
     "status": "completed"
    },
    "tags": []
   },
   "outputs": [],
   "source": [
    "# missing_counts = train_df.isnull().sum()\n",
    "# missing_counts = missing_counts[missing_counts > 0].sort_values(ascending=False)\n",
    "# print(missing_counts)\n"
   ]
  },
  {
   "cell_type": "code",
   "execution_count": 20,
   "id": "5759be4f",
   "metadata": {
    "execution": {
     "iopub.execute_input": "2025-07-22T09:38:06.761802Z",
     "iopub.status.busy": "2025-07-22T09:38:06.761630Z",
     "iopub.status.idle": "2025-07-22T09:38:06.812859Z",
     "shell.execute_reply": "2025-07-22T09:38:06.812099Z"
    },
    "papermill": {
     "duration": 0.073554,
     "end_time": "2025-07-22T09:38:06.814370",
     "exception": false,
     "start_time": "2025-07-22T09:38:06.740816",
     "status": "completed"
    },
    "tags": []
   },
   "outputs": [],
   "source": [
    "# List of sparse columns to drop\n",
    "sparse_cols_to_drop = [\n",
    "    'trafficSource.adContent',\n",
    "    'trafficSource.adwordsClickInfo.slot',\n",
    "    'trafficSource.adwordsClickInfo.isVideoAd',\n",
    "    'trafficSource.adwordsClickInfo.adNetworkType',\n",
    "    'trafficSource.adwordsClickInfo.page'\n",
    "       \n",
    "]\n",
    "\n",
    "# Drop from train set\n",
    "train_df.drop(columns=sparse_cols_to_drop, inplace=True)\n",
    "\n",
    "# If you have test_df as well, drop from it too\n",
    "test_df.drop(columns=sparse_cols_to_drop, inplace=True)\n"
   ]
  },
  {
   "cell_type": "code",
   "execution_count": 21,
   "id": "9f8b5309",
   "metadata": {
    "execution": {
     "iopub.execute_input": "2025-07-22T09:38:06.868235Z",
     "iopub.status.busy": "2025-07-22T09:38:06.867546Z",
     "iopub.status.idle": "2025-07-22T09:38:07.096766Z",
     "shell.execute_reply": "2025-07-22T09:38:07.095878Z"
    },
    "papermill": {
     "duration": 0.252759,
     "end_time": "2025-07-22T09:38:07.098196",
     "exception": false,
     "start_time": "2025-07-22T09:38:06.845437",
     "status": "completed"
    },
    "tags": []
   },
   "outputs": [
    {
     "name": "stdout",
     "output_type": "stream",
     "text": [
      "Columns with only 1 unique value:\n",
      "['device.screenResolution', 'screenSize', 'device.mobileDeviceBranding', 'device.mobileInputSelector', 'device.mobileDeviceMarketingName', 'device.operatingSystemVersion', 'device.flashVersion', 'totals.visits', 'geoNetwork.networkLocation', 'browserMajor', 'device.browserSize', 'socialEngagementType', 'locationZone', 'device.mobileDeviceModel', 'device.language', 'device.browserVersion', 'device.screenColors']\n"
     ]
    }
   ],
   "source": [
    "# Show columns with only 1 unique value\n",
    "single_value_cols = [col for col in train_df.columns if train_df[col].nunique(dropna=False) == 1]\n",
    "\n",
    "# Display result\n",
    "print(\"Columns with only 1 unique value:\")\n",
    "print(single_value_cols)\n"
   ]
  },
  {
   "cell_type": "code",
   "execution_count": 22,
   "id": "02411887",
   "metadata": {
    "execution": {
     "iopub.execute_input": "2025-07-22T09:38:07.148030Z",
     "iopub.status.busy": "2025-07-22T09:38:07.147492Z",
     "iopub.status.idle": "2025-07-22T09:38:07.191000Z",
     "shell.execute_reply": "2025-07-22T09:38:07.190462Z"
    },
    "papermill": {
     "duration": 0.066367,
     "end_time": "2025-07-22T09:38:07.192016",
     "exception": false,
     "start_time": "2025-07-22T09:38:07.125649",
     "status": "completed"
    },
    "tags": []
   },
   "outputs": [],
   "source": [
    "train_df.drop(columns=single_value_cols, inplace=True)\n",
    "test_df.drop(columns=single_value_cols, inplace=True)"
   ]
  },
  {
   "cell_type": "code",
   "execution_count": 23,
   "id": "429cc711",
   "metadata": {
    "execution": {
     "iopub.execute_input": "2025-07-22T09:38:07.233996Z",
     "iopub.status.busy": "2025-07-22T09:38:07.233796Z",
     "iopub.status.idle": "2025-07-22T09:38:07.249623Z",
     "shell.execute_reply": "2025-07-22T09:38:07.249059Z"
    },
    "papermill": {
     "duration": 0.037999,
     "end_time": "2025-07-22T09:38:07.250726",
     "exception": false,
     "start_time": "2025-07-22T09:38:07.212727",
     "status": "completed"
    },
    "tags": []
   },
   "outputs": [],
   "source": [
    "train_df['trafficSource.isTrueDirect'] = (\n",
    "    train_df['trafficSource.isTrueDirect']\n",
    "    .astype('boolean')  # nullable boolean type\n",
    "    .fillna(False)\n",
    "    .astype(bool)\n",
    "    .astype(int)\n",
    ")"
   ]
  },
  {
   "cell_type": "code",
   "execution_count": 24,
   "id": "8ca12d84",
   "metadata": {
    "execution": {
     "iopub.execute_input": "2025-07-22T09:38:07.292574Z",
     "iopub.status.busy": "2025-07-22T09:38:07.292363Z",
     "iopub.status.idle": "2025-07-22T09:38:07.299986Z",
     "shell.execute_reply": "2025-07-22T09:38:07.299313Z"
    },
    "papermill": {
     "duration": 0.029632,
     "end_time": "2025-07-22T09:38:07.300976",
     "exception": false,
     "start_time": "2025-07-22T09:38:07.271344",
     "status": "completed"
    },
    "tags": []
   },
   "outputs": [],
   "source": [
    "test_df['trafficSource.isTrueDirect'] = (\n",
    "    test_df['trafficSource.isTrueDirect']\n",
    "    .astype('boolean')  # nullable boolean type\n",
    "    .fillna(False)\n",
    "    .astype(bool)\n",
    "    .astype(int)\n",
    ")"
   ]
  },
  {
   "cell_type": "code",
   "execution_count": 25,
   "id": "0ce1b9de",
   "metadata": {
    "execution": {
     "iopub.execute_input": "2025-07-22T09:38:07.342025Z",
     "iopub.status.busy": "2025-07-22T09:38:07.341849Z",
     "iopub.status.idle": "2025-07-22T09:38:07.351899Z",
     "shell.execute_reply": "2025-07-22T09:38:07.351438Z"
    },
    "papermill": {
     "duration": 0.031904,
     "end_time": "2025-07-22T09:38:07.352987",
     "exception": false,
     "start_time": "2025-07-22T09:38:07.321083",
     "status": "completed"
    },
    "tags": []
   },
   "outputs": [],
   "source": [
    "train_df['totals.bounces']=train_df['totals.bounces'].fillna(0).astype(int)\n",
    "train_df['new_visits']=train_df['new_visits'].fillna(0).astype(int)\n",
    "test_df['totals.bounces']=test_df['totals.bounces'].fillna(0).astype(int)\n",
    "test_df['new_visits']=test_df['new_visits'].fillna(0).astype(int)"
   ]
  },
  {
   "cell_type": "code",
   "execution_count": 26,
   "id": "c221139a",
   "metadata": {
    "execution": {
     "iopub.execute_input": "2025-07-22T09:38:07.395369Z",
     "iopub.status.busy": "2025-07-22T09:38:07.395135Z",
     "iopub.status.idle": "2025-07-22T09:38:07.400976Z",
     "shell.execute_reply": "2025-07-22T09:38:07.400499Z"
    },
    "papermill": {
     "duration": 0.028122,
     "end_time": "2025-07-22T09:38:07.401985",
     "exception": false,
     "start_time": "2025-07-22T09:38:07.373863",
     "status": "completed"
    },
    "tags": []
   },
   "outputs": [],
   "source": [
    "train_df['pageViews']=train_df['pageViews'].fillna(train_df['pageViews'].median())\n",
    "test_df['pageViews']=test_df['pageViews'].fillna(test_df['pageViews'].median())"
   ]
  },
  {
   "cell_type": "code",
   "execution_count": 27,
   "id": "7b2cba8a",
   "metadata": {
    "execution": {
     "iopub.execute_input": "2025-07-22T09:38:07.443349Z",
     "iopub.status.busy": "2025-07-22T09:38:07.443098Z",
     "iopub.status.idle": "2025-07-22T09:38:07.447617Z",
     "shell.execute_reply": "2025-07-22T09:38:07.447110Z"
    },
    "papermill": {
     "duration": 0.026336,
     "end_time": "2025-07-22T09:38:07.448607",
     "exception": false,
     "start_time": "2025-07-22T09:38:07.422271",
     "status": "completed"
    },
    "tags": []
   },
   "outputs": [],
   "source": [
    "def clean_and_group_categories(df, column, top_n, missing_values=None, replacement='Other'):\n",
    "    \"\"\"\n",
    "    Cleans a categorical column by:\n",
    "    - Replacing placeholder values\n",
    "    - Handling NaNs\n",
    "    - Keeping only top N frequent categories\n",
    "    - Replacing all others with a replacement value\n",
    "\n",
    "    Args:\n",
    "        df (pd.DataFrame): The DataFrame.\n",
    "        column (str): Column to clean.\n",
    "        top_n (int): Number of top categories to keep.\n",
    "        missing_values (list or None): List of placeholder values to replace.\n",
    "        replacement (str): Value to replace rare or missing entries.\n",
    "\n",
    "    Returns:\n",
    "        pd.DataFrame: Updated DataFrame.\n",
    "    \"\"\"\n",
    "    if missing_values:\n",
    "        df[column] = df[column].replace(missing_values, replacement)\n",
    "    df[column] = df[column].fillna(replacement)\n",
    "\n",
    "    top_categories = df[column].value_counts().nlargest(top_n).index\n",
    "    df[column] = df[column].apply(lambda x: x if x in top_categories else replacement)\n",
    "    return df\n"
   ]
  },
  {
   "cell_type": "code",
   "execution_count": 28,
   "id": "208f094c",
   "metadata": {
    "execution": {
     "iopub.execute_input": "2025-07-22T09:38:07.489969Z",
     "iopub.status.busy": "2025-07-22T09:38:07.489800Z",
     "iopub.status.idle": "2025-07-22T09:38:08.488533Z",
     "shell.execute_reply": "2025-07-22T09:38:08.487835Z"
    },
    "papermill": {
     "duration": 1.021025,
     "end_time": "2025-07-22T09:38:08.489929",
     "exception": false,
     "start_time": "2025-07-22T09:38:07.468904",
     "status": "completed"
    },
    "tags": []
   },
   "outputs": [],
   "source": [
    "columns_to_clean = [\n",
    "    # Format: (column_name, top_n, missing_values, replacement)\n",
    "    ('browser', 15, ['(not set)', 'not available in demo dataset'], 'Other'),\n",
    "    ('os', 6, ['(not set)', 'not available in demo dataset'], 'Other'),\n",
    "    ('locationCountry', 10, ['(not set)', 'not available in demo dataset'], 'Unknown'),\n",
    "    ('geoNetwork.city', 10, ['(not set)', 'not available in demo dataset'], 'Unknown'),\n",
    "    ('geoNetwork.continent', 10, ['(not set)', 'not available in demo dataset'], 'Unknown'),\n",
    "    ('geoNetwork.region', 10, ['(not set)', 'not available in demo dataset'], 'Unknown'),\n",
    "    ('trafficSource.campaign', 10, None, 'Unknown'),\n",
    "    ('trafficSource.referralPath', 15, ['(not provided)'], 'Others'),\n",
    "    ('trafficSource.keyword', 20, ['(not provided)'], 'Others')  # approximation of top categories\n",
    "]\n",
    "\n",
    "for col, top_n, missing_vals, replacement in columns_to_clean:\n",
    "    train_df = clean_and_group_categories(train_df, col, top_n, missing_vals, replacement)\n",
    "    test_df = clean_and_group_categories(test_df, col, top_n, missing_vals, replacement)\n"
   ]
  },
  {
   "cell_type": "code",
   "execution_count": 29,
   "id": "b29dc7a4",
   "metadata": {
    "execution": {
     "iopub.execute_input": "2025-07-22T09:38:08.533056Z",
     "iopub.status.busy": "2025-07-22T09:38:08.532413Z",
     "iopub.status.idle": "2025-07-22T09:38:08.553933Z",
     "shell.execute_reply": "2025-07-22T09:38:08.553188Z"
    },
    "papermill": {
     "duration": 0.043716,
     "end_time": "2025-07-22T09:38:08.555052",
     "exception": false,
     "start_time": "2025-07-22T09:38:08.511336",
     "status": "completed"
    },
    "tags": []
   },
   "outputs": [],
   "source": [
    "features_to_transform = [ 'sessionNumber', 'pageViews', 'totalHits','avg_interaction']\n",
    "\n",
    "for feature in features_to_transform:\n",
    "  # Apply log transformation (add 1 to handle zero values)\n",
    "  if feature in train_df.columns:\n",
    "    train_df[f'{feature}_log'] = np.log1p(train_df[feature])\n",
    "  if feature in test_df.columns:\n",
    "    test_df[f'{feature}_log'] = np.log1p(test_df[feature])"
   ]
  },
  {
   "cell_type": "code",
   "execution_count": 30,
   "id": "0a5e4349",
   "metadata": {
    "execution": {
     "iopub.execute_input": "2025-07-22T09:38:08.599415Z",
     "iopub.status.busy": "2025-07-22T09:38:08.598875Z",
     "iopub.status.idle": "2025-07-22T09:38:08.602076Z",
     "shell.execute_reply": "2025-07-22T09:38:08.601427Z"
    },
    "papermill": {
     "duration": 0.02494,
     "end_time": "2025-07-22T09:38:08.603095",
     "exception": false,
     "start_time": "2025-07-22T09:38:08.578155",
     "status": "completed"
    },
    "tags": []
   },
   "outputs": [],
   "source": [
    "#train_df.info()"
   ]
  },
  {
   "cell_type": "code",
   "execution_count": 31,
   "id": "d962f629",
   "metadata": {
    "execution": {
     "iopub.execute_input": "2025-07-22T09:38:08.644051Z",
     "iopub.status.busy": "2025-07-22T09:38:08.643845Z",
     "iopub.status.idle": "2025-07-22T09:38:08.646826Z",
     "shell.execute_reply": "2025-07-22T09:38:08.646159Z"
    },
    "papermill": {
     "duration": 0.024457,
     "end_time": "2025-07-22T09:38:08.647796",
     "exception": false,
     "start_time": "2025-07-22T09:38:08.623339",
     "status": "completed"
    },
    "tags": []
   },
   "outputs": [],
   "source": [
    "#train_df[['trafficSource.keyword','trafficSource.isTrueDirect','trafficSource.referralPath']]"
   ]
  },
  {
   "cell_type": "code",
   "execution_count": 32,
   "id": "5e45ad96",
   "metadata": {
    "execution": {
     "iopub.execute_input": "2025-07-22T09:38:08.688717Z",
     "iopub.status.busy": "2025-07-22T09:38:08.688530Z",
     "iopub.status.idle": "2025-07-22T09:38:08.691115Z",
     "shell.execute_reply": "2025-07-22T09:38:08.690634Z"
    },
    "papermill": {
     "duration": 0.024208,
     "end_time": "2025-07-22T09:38:08.692095",
     "exception": false,
     "start_time": "2025-07-22T09:38:08.667887",
     "status": "completed"
    },
    "tags": []
   },
   "outputs": [],
   "source": [
    "#train_df['trafficSource.keyword'].value_counts()"
   ]
  },
  {
   "cell_type": "code",
   "execution_count": 33,
   "id": "d6c658f6",
   "metadata": {
    "execution": {
     "iopub.execute_input": "2025-07-22T09:38:08.733183Z",
     "iopub.status.busy": "2025-07-22T09:38:08.732998Z",
     "iopub.status.idle": "2025-07-22T09:38:08.735747Z",
     "shell.execute_reply": "2025-07-22T09:38:08.735259Z"
    },
    "papermill": {
     "duration": 0.024347,
     "end_time": "2025-07-22T09:38:08.736740",
     "exception": false,
     "start_time": "2025-07-22T09:38:08.712393",
     "status": "completed"
    },
    "tags": []
   },
   "outputs": [],
   "source": [
    "# # Get top 10 keywords\n",
    "# top_keywords = train_df['trafficSource.keyword'].value_counts().head(10).reset_index()\n",
    "# top_keywords.columns = ['keyword', 'count']\n",
    "\n",
    "# # Plot\n",
    "# plt.figure(figsize=(12, 6))\n",
    "# sns.barplot(data=top_keywords, x='keyword', y='count', palette='viridis')\n",
    "\n",
    "# plt.title('Top 10 Keywords in trafficSource.keyword')\n",
    "# plt.xlabel('Keyword')\n",
    "# plt.ylabel('Count')\n",
    "# plt.xticks(rotation=45, ha='right')\n",
    "# plt.tight_layout()\n",
    "# plt.show()\n"
   ]
  },
  {
   "cell_type": "code",
   "execution_count": 34,
   "id": "e826c021",
   "metadata": {
    "execution": {
     "iopub.execute_input": "2025-07-22T09:38:08.777572Z",
     "iopub.status.busy": "2025-07-22T09:38:08.777378Z",
     "iopub.status.idle": "2025-07-22T09:38:08.779926Z",
     "shell.execute_reply": "2025-07-22T09:38:08.779468Z"
    },
    "papermill": {
     "duration": 0.024215,
     "end_time": "2025-07-22T09:38:08.781021",
     "exception": false,
     "start_time": "2025-07-22T09:38:08.756806",
     "status": "completed"
    },
    "tags": []
   },
   "outputs": [],
   "source": [
    "#train_df['trafficSource.keyword'].unique()"
   ]
  },
  {
   "cell_type": "code",
   "execution_count": 35,
   "id": "01131802",
   "metadata": {
    "execution": {
     "iopub.execute_input": "2025-07-22T09:38:08.823569Z",
     "iopub.status.busy": "2025-07-22T09:38:08.823179Z",
     "iopub.status.idle": "2025-07-22T09:38:08.825923Z",
     "shell.execute_reply": "2025-07-22T09:38:08.825456Z"
    },
    "papermill": {
     "duration": 0.025671,
     "end_time": "2025-07-22T09:38:08.826923",
     "exception": false,
     "start_time": "2025-07-22T09:38:08.801252",
     "status": "completed"
    },
    "tags": []
   },
   "outputs": [],
   "source": [
    "# # Step 1: Replace '(not provided)' and NaN with 'Others'\n",
    "# train_df['trafficSource.keyword'] = train_df['trafficSource.keyword'].replace('(not provided)', 'Others')\n",
    "# train_df['trafficSource.keyword'] = train_df['trafficSource.keyword'].fillna('Others')\n",
    "\n",
    "# # Step 2: Count keyword frequencies after above replacement\n",
    "# keyword_counts = train_df['trafficSource.keyword'].value_counts()\n",
    "\n",
    "# # Step 3: Replace low-frequency keywords (<50) with 'Others'\n",
    "# train_df['trafficSource.keyword'] = train_df['trafficSource.keyword'].apply(\n",
    "#     lambda x: x if keyword_counts.get(x, 0) >= 50 else 'Others'\n",
    "# )\n"
   ]
  },
  {
   "cell_type": "code",
   "execution_count": 36,
   "id": "1e42ed95",
   "metadata": {
    "execution": {
     "iopub.execute_input": "2025-07-22T09:38:08.868517Z",
     "iopub.status.busy": "2025-07-22T09:38:08.868344Z",
     "iopub.status.idle": "2025-07-22T09:38:08.870990Z",
     "shell.execute_reply": "2025-07-22T09:38:08.870524Z"
    },
    "papermill": {
     "duration": 0.024835,
     "end_time": "2025-07-22T09:38:08.872053",
     "exception": false,
     "start_time": "2025-07-22T09:38:08.847218",
     "status": "completed"
    },
    "tags": []
   },
   "outputs": [],
   "source": [
    "# # Step 1: Replace '(not provided)' and NaN with 'Others' in test_df\n",
    "# test_df['trafficSource.keyword'] = test_df['trafficSource.keyword'].replace('(not provided)', 'Others')\n",
    "# test_df['trafficSource.keyword'] = test_df['trafficSource.keyword'].fillna('Others')\n",
    "\n",
    "# # Step 2: Use the keyword_counts from train_df to replace low-frequency keywords with 'Others' in test_df\n",
    "# test_df['trafficSource.keyword'] = test_df['trafficSource.keyword'].apply(\n",
    "#     lambda x: x if keyword_counts.get(x, 0) >= 50 else 'Others'\n",
    "# )\n"
   ]
  },
  {
   "cell_type": "code",
   "execution_count": 37,
   "id": "3912feb8",
   "metadata": {
    "execution": {
     "iopub.execute_input": "2025-07-22T09:38:08.913647Z",
     "iopub.status.busy": "2025-07-22T09:38:08.913468Z",
     "iopub.status.idle": "2025-07-22T09:38:08.916347Z",
     "shell.execute_reply": "2025-07-22T09:38:08.915836Z"
    },
    "papermill": {
     "duration": 0.024661,
     "end_time": "2025-07-22T09:38:08.917346",
     "exception": false,
     "start_time": "2025-07-22T09:38:08.892685",
     "status": "completed"
    },
    "tags": []
   },
   "outputs": [],
   "source": [
    "# final_counts = train_df['trafficSource.keyword'].value_counts().reset_index()\n",
    "# final_counts.columns = ['keyword', 'count']\n",
    "\n",
    "# # Plot\n",
    "# plt.figure(figsize=(12, 6))\n",
    "# sns.barplot(data=final_counts, x='keyword', y='count', palette='Set2')\n",
    "\n",
    "# plt.title('trafficSource.keyword (Grouped with Others)')\n",
    "# plt.xlabel('Keyword')\n",
    "# plt.ylabel('Count')\n",
    "# plt.xticks(rotation=45, ha='right')\n",
    "# plt.tight_layout()\n",
    "# plt.show()"
   ]
  },
  {
   "cell_type": "code",
   "execution_count": 38,
   "id": "d1417b34",
   "metadata": {
    "execution": {
     "iopub.execute_input": "2025-07-22T09:38:08.959095Z",
     "iopub.status.busy": "2025-07-22T09:38:08.958602Z",
     "iopub.status.idle": "2025-07-22T09:38:08.961378Z",
     "shell.execute_reply": "2025-07-22T09:38:08.960872Z"
    },
    "papermill": {
     "duration": 0.024624,
     "end_time": "2025-07-22T09:38:08.962381",
     "exception": false,
     "start_time": "2025-07-22T09:38:08.937757",
     "status": "completed"
    },
    "tags": []
   },
   "outputs": [],
   "source": [
    "# final_counts = test_df['trafficSource.keyword'].value_counts().reset_index()\n",
    "# final_counts.columns = ['keyword', 'count']\n",
    "\n",
    "# # Plot\n",
    "# plt.figure(figsize=(12, 6))\n",
    "# sns.barplot(data=final_counts, x='keyword', y='count', palette='Set2')\n",
    "\n",
    "# plt.title('trafficSource.keyword (Grouped with Others)')\n",
    "# plt.xlabel('Keyword')\n",
    "# plt.ylabel('Count')\n",
    "# plt.xticks(rotation=45, ha='right')\n",
    "# plt.tight_layout()\n",
    "# plt.show()"
   ]
  },
  {
   "cell_type": "code",
   "execution_count": 39,
   "id": "6ca3ac64",
   "metadata": {
    "execution": {
     "iopub.execute_input": "2025-07-22T09:38:09.004430Z",
     "iopub.status.busy": "2025-07-22T09:38:09.003847Z",
     "iopub.status.idle": "2025-07-22T09:38:09.006782Z",
     "shell.execute_reply": "2025-07-22T09:38:09.006260Z"
    },
    "papermill": {
     "duration": 0.025067,
     "end_time": "2025-07-22T09:38:09.007781",
     "exception": false,
     "start_time": "2025-07-22T09:38:08.982714",
     "status": "completed"
    },
    "tags": []
   },
   "outputs": [],
   "source": [
    "#train_df['trafficSource.keyword'].value_counts()"
   ]
  },
  {
   "cell_type": "code",
   "execution_count": 40,
   "id": "e5aa574d",
   "metadata": {
    "execution": {
     "iopub.execute_input": "2025-07-22T09:38:09.049373Z",
     "iopub.status.busy": "2025-07-22T09:38:09.049168Z",
     "iopub.status.idle": "2025-07-22T09:38:09.052067Z",
     "shell.execute_reply": "2025-07-22T09:38:09.051428Z"
    },
    "papermill": {
     "duration": 0.024825,
     "end_time": "2025-07-22T09:38:09.053074",
     "exception": false,
     "start_time": "2025-07-22T09:38:09.028249",
     "status": "completed"
    },
    "tags": []
   },
   "outputs": [],
   "source": [
    "#train_df['trafficSource.keyword'].value_counts()"
   ]
  },
  {
   "cell_type": "code",
   "execution_count": 41,
   "id": "39bc116c",
   "metadata": {
    "execution": {
     "iopub.execute_input": "2025-07-22T09:38:09.095095Z",
     "iopub.status.busy": "2025-07-22T09:38:09.094895Z",
     "iopub.status.idle": "2025-07-22T09:38:09.097513Z",
     "shell.execute_reply": "2025-07-22T09:38:09.097048Z"
    },
    "papermill": {
     "duration": 0.024992,
     "end_time": "2025-07-22T09:38:09.098600",
     "exception": false,
     "start_time": "2025-07-22T09:38:09.073608",
     "status": "completed"
    },
    "tags": []
   },
   "outputs": [],
   "source": [
    "# train_df['trafficSource.keyword'] = train_df['trafficSource.keyword'].fillna('unknown')\n",
    "# train_df['trafficSource.isTrueDirect'] = train_df['trafficSource.isTrueDirect'].fillna('unknown')\n",
    "# train_df['trafficSource.referralPath'] = train_df['trafficSource.referralPath'].fillna('unknown')"
   ]
  },
  {
   "cell_type": "code",
   "execution_count": 42,
   "id": "108c12d6",
   "metadata": {
    "execution": {
     "iopub.execute_input": "2025-07-22T09:38:09.140050Z",
     "iopub.status.busy": "2025-07-22T09:38:09.139857Z",
     "iopub.status.idle": "2025-07-22T09:38:09.142549Z",
     "shell.execute_reply": "2025-07-22T09:38:09.142065Z"
    },
    "papermill": {
     "duration": 0.02466,
     "end_time": "2025-07-22T09:38:09.143579",
     "exception": false,
     "start_time": "2025-07-22T09:38:09.118919",
     "status": "completed"
    },
    "tags": []
   },
   "outputs": [],
   "source": [
    "#train_df['trafficSource.isTrueDirect'].unique()"
   ]
  },
  {
   "cell_type": "code",
   "execution_count": null,
   "id": "6465b4ef",
   "metadata": {
    "execution": {
     "iopub.execute_input": "2025-07-22T07:54:19.345450Z",
     "iopub.status.busy": "2025-07-22T07:54:19.344862Z",
     "iopub.status.idle": "2025-07-22T07:54:19.362241Z",
     "shell.execute_reply": "2025-07-22T07:54:19.361532Z",
     "shell.execute_reply.started": "2025-07-22T07:54:19.345425Z"
    },
    "papermill": {
     "duration": 0.019978,
     "end_time": "2025-07-22T09:38:09.183690",
     "exception": false,
     "start_time": "2025-07-22T09:38:09.163712",
     "status": "completed"
    },
    "tags": []
   },
   "outputs": [],
   "source": []
  },
  {
   "cell_type": "code",
   "execution_count": null,
   "id": "dc6d4704",
   "metadata": {
    "execution": {
     "iopub.execute_input": "2025-07-22T09:05:43.464157Z",
     "iopub.status.busy": "2025-07-22T09:05:43.463647Z",
     "iopub.status.idle": "2025-07-22T09:05:43.474180Z",
     "shell.execute_reply": "2025-07-22T09:05:43.473339Z",
     "shell.execute_reply.started": "2025-07-22T09:05:43.464131Z"
    },
    "papermill": {
     "duration": 0.019928,
     "end_time": "2025-07-22T09:38:09.223758",
     "exception": false,
     "start_time": "2025-07-22T09:38:09.203830",
     "status": "completed"
    },
    "tags": []
   },
   "outputs": [],
   "source": []
  },
  {
   "cell_type": "code",
   "execution_count": 43,
   "id": "6aa30253",
   "metadata": {
    "execution": {
     "iopub.execute_input": "2025-07-22T09:38:09.265874Z",
     "iopub.status.busy": "2025-07-22T09:38:09.265193Z",
     "iopub.status.idle": "2025-07-22T09:38:09.267979Z",
     "shell.execute_reply": "2025-07-22T09:38:09.267507Z"
    },
    "papermill": {
     "duration": 0.024446,
     "end_time": "2025-07-22T09:38:09.268866",
     "exception": false,
     "start_time": "2025-07-22T09:38:09.244420",
     "status": "completed"
    },
    "tags": []
   },
   "outputs": [],
   "source": [
    "#train_df['trafficSource.isTrueDirect'].unique()"
   ]
  },
  {
   "cell_type": "code",
   "execution_count": 44,
   "id": "781edd34",
   "metadata": {
    "execution": {
     "iopub.execute_input": "2025-07-22T09:38:09.310233Z",
     "iopub.status.busy": "2025-07-22T09:38:09.310034Z",
     "iopub.status.idle": "2025-07-22T09:38:09.312725Z",
     "shell.execute_reply": "2025-07-22T09:38:09.312197Z"
    },
    "papermill": {
     "duration": 0.024346,
     "end_time": "2025-07-22T09:38:09.313718",
     "exception": false,
     "start_time": "2025-07-22T09:38:09.289372",
     "status": "completed"
    },
    "tags": []
   },
   "outputs": [],
   "source": [
    "#test_df['trafficSource.isTrueDirect'].unique()"
   ]
  },
  {
   "cell_type": "code",
   "execution_count": 45,
   "id": "aa679d5d",
   "metadata": {
    "execution": {
     "iopub.execute_input": "2025-07-22T09:38:09.355141Z",
     "iopub.status.busy": "2025-07-22T09:38:09.354951Z",
     "iopub.status.idle": "2025-07-22T09:38:09.357584Z",
     "shell.execute_reply": "2025-07-22T09:38:09.357082Z"
    },
    "papermill": {
     "duration": 0.024512,
     "end_time": "2025-07-22T09:38:09.358603",
     "exception": false,
     "start_time": "2025-07-22T09:38:09.334091",
     "status": "completed"
    },
    "tags": []
   },
   "outputs": [],
   "source": [
    "#test_df['trafficSource.isTrueDirect'].value_counts()"
   ]
  },
  {
   "cell_type": "code",
   "execution_count": 46,
   "id": "b9ef93b0",
   "metadata": {
    "execution": {
     "iopub.execute_input": "2025-07-22T09:38:09.400648Z",
     "iopub.status.busy": "2025-07-22T09:38:09.400201Z",
     "iopub.status.idle": "2025-07-22T09:38:09.402833Z",
     "shell.execute_reply": "2025-07-22T09:38:09.402329Z"
    },
    "papermill": {
     "duration": 0.024593,
     "end_time": "2025-07-22T09:38:09.403898",
     "exception": false,
     "start_time": "2025-07-22T09:38:09.379305",
     "status": "completed"
    },
    "tags": []
   },
   "outputs": [],
   "source": [
    "#train_df['trafficSource.referralPath'].unique()"
   ]
  },
  {
   "cell_type": "code",
   "execution_count": 47,
   "id": "af274c14",
   "metadata": {
    "execution": {
     "iopub.execute_input": "2025-07-22T09:38:09.445984Z",
     "iopub.status.busy": "2025-07-22T09:38:09.445535Z",
     "iopub.status.idle": "2025-07-22T09:38:09.448192Z",
     "shell.execute_reply": "2025-07-22T09:38:09.447707Z"
    },
    "papermill": {
     "duration": 0.024705,
     "end_time": "2025-07-22T09:38:09.449116",
     "exception": false,
     "start_time": "2025-07-22T09:38:09.424411",
     "status": "completed"
    },
    "tags": []
   },
   "outputs": [],
   "source": [
    "#train_df['trafficSource.referralPath'].value_counts()"
   ]
  },
  {
   "cell_type": "code",
   "execution_count": 48,
   "id": "c809fbfb",
   "metadata": {
    "execution": {
     "iopub.execute_input": "2025-07-22T09:38:09.491156Z",
     "iopub.status.busy": "2025-07-22T09:38:09.490737Z",
     "iopub.status.idle": "2025-07-22T09:38:09.494009Z",
     "shell.execute_reply": "2025-07-22T09:38:09.493312Z"
    },
    "papermill": {
     "duration": 0.025285,
     "end_time": "2025-07-22T09:38:09.495028",
     "exception": false,
     "start_time": "2025-07-22T09:38:09.469743",
     "status": "completed"
    },
    "tags": []
   },
   "outputs": [],
   "source": [
    "# # Set threshold\n",
    "# min_count = 50\n",
    "# train_df['trafficSource.referralPath'] = train_df['trafficSource.referralPath'].replace('(not provided)', 'Others')\n",
    "# train_df['trafficSource.referralPath'] = train_df['trafficSource.referralPath'].fillna('Others')\n",
    "# # Get counts\n",
    "# referral_counts = train_df['trafficSource.referralPath'].value_counts()\n",
    "\n",
    "# # Referral paths with counts >= min_count\n",
    "# valid_referrals = referral_counts[referral_counts >= min_count].index\n",
    "\n",
    "# # Replace low-frequency referral paths with 'Others'\n",
    "# train_df['trafficSource.referralPath'] = train_df['trafficSource.referralPath'].apply(\n",
    "#     lambda x: x if x in valid_referrals else 'Others'\n",
    "# )\n"
   ]
  },
  {
   "cell_type": "code",
   "execution_count": 49,
   "id": "1abc4860",
   "metadata": {
    "execution": {
     "iopub.execute_input": "2025-07-22T09:38:09.536238Z",
     "iopub.status.busy": "2025-07-22T09:38:09.536041Z",
     "iopub.status.idle": "2025-07-22T09:38:09.539003Z",
     "shell.execute_reply": "2025-07-22T09:38:09.538377Z"
    },
    "papermill": {
     "duration": 0.02486,
     "end_time": "2025-07-22T09:38:09.540099",
     "exception": false,
     "start_time": "2025-07-22T09:38:09.515239",
     "status": "completed"
    },
    "tags": []
   },
   "outputs": [],
   "source": [
    "# # Fill NaNs in test_df\n",
    "# test_df['trafficSource.referralPath'] = test_df['trafficSource.referralPath'].fillna('Others')\n",
    "\n",
    "# # Replace low-frequency referral paths in test_df using valid_referrals from train_df\n",
    "# test_df['trafficSource.referralPath'] = test_df['trafficSource.referralPath'].apply(\n",
    "#     lambda x: x if x in valid_referrals else 'Others'\n",
    "# )\n"
   ]
  },
  {
   "cell_type": "code",
   "execution_count": 50,
   "id": "f7eedb75",
   "metadata": {
    "execution": {
     "iopub.execute_input": "2025-07-22T09:38:09.581782Z",
     "iopub.status.busy": "2025-07-22T09:38:09.581601Z",
     "iopub.status.idle": "2025-07-22T09:38:09.584536Z",
     "shell.execute_reply": "2025-07-22T09:38:09.583838Z"
    },
    "papermill": {
     "duration": 0.024869,
     "end_time": "2025-07-22T09:38:09.585587",
     "exception": false,
     "start_time": "2025-07-22T09:38:09.560718",
     "status": "completed"
    },
    "tags": []
   },
   "outputs": [],
   "source": [
    "#train_df['trafficSource.referralPath'].value_counts()"
   ]
  },
  {
   "cell_type": "code",
   "execution_count": 51,
   "id": "92f377b7",
   "metadata": {
    "execution": {
     "iopub.execute_input": "2025-07-22T09:38:09.627175Z",
     "iopub.status.busy": "2025-07-22T09:38:09.626975Z",
     "iopub.status.idle": "2025-07-22T09:38:09.629896Z",
     "shell.execute_reply": "2025-07-22T09:38:09.629223Z"
    },
    "papermill": {
     "duration": 0.024989,
     "end_time": "2025-07-22T09:38:09.630950",
     "exception": false,
     "start_time": "2025-07-22T09:38:09.605961",
     "status": "completed"
    },
    "tags": []
   },
   "outputs": [],
   "source": [
    "#test_df['trafficSource.referralPath'].value_counts()"
   ]
  },
  {
   "cell_type": "code",
   "execution_count": 52,
   "id": "7cc168fb",
   "metadata": {
    "execution": {
     "iopub.execute_input": "2025-07-22T09:38:09.672835Z",
     "iopub.status.busy": "2025-07-22T09:38:09.672424Z",
     "iopub.status.idle": "2025-07-22T09:38:09.675474Z",
     "shell.execute_reply": "2025-07-22T09:38:09.674811Z"
    },
    "papermill": {
     "duration": 0.02503,
     "end_time": "2025-07-22T09:38:09.676542",
     "exception": false,
     "start_time": "2025-07-22T09:38:09.651512",
     "status": "completed"
    },
    "tags": []
   },
   "outputs": [],
   "source": [
    "#train_df[['trafficSource.referralPath']].isnull().sum()"
   ]
  },
  {
   "cell_type": "code",
   "execution_count": null,
   "id": "3e4e1e6c",
   "metadata": {
    "execution": {
     "iopub.execute_input": "2025-07-22T09:05:47.294642Z",
     "iopub.status.busy": "2025-07-22T09:05:47.294353Z",
     "iopub.status.idle": "2025-07-22T09:05:47.308007Z",
     "shell.execute_reply": "2025-07-22T09:05:47.307219Z",
     "shell.execute_reply.started": "2025-07-22T09:05:47.294620Z"
    },
    "papermill": {
     "duration": 0.020366,
     "end_time": "2025-07-22T09:38:09.717009",
     "exception": false,
     "start_time": "2025-07-22T09:38:09.696643",
     "status": "completed"
    },
    "tags": []
   },
   "outputs": [],
   "source": []
  },
  {
   "cell_type": "code",
   "execution_count": 53,
   "id": "536a8215",
   "metadata": {
    "execution": {
     "iopub.execute_input": "2025-07-22T09:38:09.758271Z",
     "iopub.status.busy": "2025-07-22T09:38:09.758073Z",
     "iopub.status.idle": "2025-07-22T09:38:09.888675Z",
     "shell.execute_reply": "2025-07-22T09:38:09.887744Z"
    },
    "papermill": {
     "duration": 0.152734,
     "end_time": "2025-07-22T09:38:09.889906",
     "exception": false,
     "start_time": "2025-07-22T09:38:09.737172",
     "status": "completed"
    },
    "tags": []
   },
   "outputs": [
    {
     "name": "stdout",
     "output_type": "stream",
     "text": [
      "\n",
      "Columns with outliers and the number of rows to be deleted:\n",
      "- purchaseValue: 23985 rows\n",
      "- gclIdPresent: 4295 rows\n",
      "- sessionNumber: 14116 rows\n",
      "- pageViews: 12419 rows\n",
      "- totalHits: 13154 rows\n",
      "- sessionNumber_log: 10347 rows\n",
      "- pageViews_log: 71 rows\n",
      "- totalHits_log: 68 rows\n",
      "\n",
      "Total rows to be deleted if all outliers are removed: 78455\n"
     ]
    }
   ],
   "source": [
    "import numpy as np\n",
    "\n",
    "def find_outliers_iqr(df, column):\n",
    "  \"\"\"Finds outliers in a column using the Interquartile Range (IQR) method.\"\"\"\n",
    "  q1 = df[column].quantile(0.25)\n",
    "  q3 = df[column].quantile(0.75)\n",
    "  iqr = q3 - q1\n",
    "  lower_bound = q1 - 1.5 * iqr\n",
    "  upper_bound = q3 + 1.5 * iqr\n",
    "  outliers = df[(df[column] < lower_bound) | (df[column] > upper_bound)]\n",
    "  return outliers\n",
    "\n",
    "outliers_info = {}\n",
    "total_rows_to_delete = 0\n",
    "\n",
    "# Consider only numerical columns for outlier detection\n",
    "numerical_cols = train_df.select_dtypes(include=np.number).columns.tolist()\n",
    "\n",
    "for col in numerical_cols:\n",
    "  outliers = find_outliers_iqr(train_df, col)\n",
    "  if not outliers.empty:\n",
    "    outliers_info[col] = len(outliers)\n",
    "    total_rows_to_delete += len(outliers)\n",
    "\n",
    "if outliers_info:\n",
    "  print(\"\\nColumns with outliers and the number of rows to be deleted:\")\n",
    "  for col, count in outliers_info.items():\n",
    "    print(f\"- {col}: {count} rows\")\n",
    "  print(f\"\\nTotal rows to be deleted if all outliers are removed: {total_rows_to_delete}\")\n",
    "else:\n",
    "  print(\"\\nNo significant outliers found in numerical columns.\")\n"
   ]
  },
  {
   "cell_type": "code",
   "execution_count": 54,
   "id": "99118b3e",
   "metadata": {
    "execution": {
     "iopub.execute_input": "2025-07-22T09:38:09.934617Z",
     "iopub.status.busy": "2025-07-22T09:38:09.934384Z",
     "iopub.status.idle": "2025-07-22T09:38:10.049033Z",
     "shell.execute_reply": "2025-07-22T09:38:10.048043Z"
    },
    "papermill": {
     "duration": 0.137343,
     "end_time": "2025-07-22T09:38:10.050533",
     "exception": false,
     "start_time": "2025-07-22T09:38:09.913190",
     "status": "completed"
    },
    "tags": []
   },
   "outputs": [
    {
     "name": "stdout",
     "output_type": "stream",
     "text": [
      "\n",
      "Range of outliers (based on 1.5*IQR) for each numerical feature:\n",
      "- trafficSource.isTrueDirect: No outliers detected based on the 1.5*IQR rule.\n",
      "- purchaseValue: Outliers below 0.00 and above 0.00. Outlier range observed: [10000.00, 23129500000.00]\n",
      "- userId: No outliers detected based on the 1.5*IQR rule.\n",
      "- gclIdPresent: Outliers below 0.00 and above 0.00. Outlier range observed: [1.00, 1.00]\n",
      "- sessionNumber: Outliers below -0.50 and above 3.50. Outlier range observed: [4.00, 447.00]\n",
      "- sessionId: No outliers detected based on the 1.5*IQR rule.\n",
      "- pageViews: Outliers below -12.50 and above 23.50. Outlier range observed: [24.00, 469.00]\n",
      "- totals.bounces: No outliers detected based on the 1.5*IQR rule.\n",
      "- date: No outliers detected based on the 1.5*IQR rule.\n",
      "- totalHits: Outliers below -15.50 and above 28.50. Outlier range observed: [29.00, 500.00]\n",
      "- sessionStart: No outliers detected based on the 1.5*IQR rule.\n",
      "- new_visits: No outliers detected based on the 1.5*IQR rule.\n",
      "- sessionNumber_log: Outliers below 0.08 and above 1.71. Outlier range observed: [1.79, 6.10]\n",
      "- pageViews_log: Outliers below -1.86 and above 4.96. Outlier range observed: [4.97, 6.15]\n",
      "- totalHits_log: Outliers below -2.11 and above 5.37. Outlier range observed: [5.38, 6.22]\n"
     ]
    }
   ],
   "source": [
    "def print_outlier_ranges_iqr(df):\n",
    "  \"\"\"Prints the range of outliers for each numerical column using the IQR method.\"\"\"\n",
    "  numerical_cols = df.select_dtypes(include=np.number).columns.tolist()\n",
    "\n",
    "  print(\"\\nRange of outliers (based on 1.5*IQR) for each numerical feature:\")\n",
    "\n",
    "  for col in numerical_cols:\n",
    "    q1 = df[col].quantile(0.25)\n",
    "    q3 = df[col].quantile(0.75)\n",
    "    iqr = q3 - q1\n",
    "    lower_bound = q1 - 1.5 * iqr\n",
    "    upper_bound = q3 + 1.5 * iqr\n",
    "\n",
    "    outliers = df[(df[col] < lower_bound) | (df[col] > upper_bound)]\n",
    "\n",
    "    if not outliers.empty:\n",
    "      min_outlier = outliers[col].min()\n",
    "      max_outlier = outliers[col].max()\n",
    "      print(f\"- {col}: Outliers below {lower_bound:.2f} and above {upper_bound:.2f}. Outlier range observed: [{min_outlier:.2f}, {max_outlier:.2f}]\")\n",
    "    else:\n",
    "      print(f\"- {col}: No outliers detected based on the 1.5*IQR rule.\")\n",
    "\n",
    "print_outlier_ranges_iqr(train_df)"
   ]
  },
  {
   "cell_type": "code",
   "execution_count": 55,
   "id": "a6611c59",
   "metadata": {
    "execution": {
     "iopub.execute_input": "2025-07-22T09:38:10.097064Z",
     "iopub.status.busy": "2025-07-22T09:38:10.096833Z",
     "iopub.status.idle": "2025-07-22T09:38:10.100242Z",
     "shell.execute_reply": "2025-07-22T09:38:10.099497Z"
    },
    "papermill": {
     "duration": 0.027708,
     "end_time": "2025-07-22T09:38:10.101525",
     "exception": false,
     "start_time": "2025-07-22T09:38:10.073817",
     "status": "completed"
    },
    "tags": []
   },
   "outputs": [],
   "source": [
    "#train_df['totals.bounces'].unique()"
   ]
  },
  {
   "cell_type": "code",
   "execution_count": 56,
   "id": "f14e7f0a",
   "metadata": {
    "execution": {
     "iopub.execute_input": "2025-07-22T09:38:10.146558Z",
     "iopub.status.busy": "2025-07-22T09:38:10.146352Z",
     "iopub.status.idle": "2025-07-22T09:38:10.149560Z",
     "shell.execute_reply": "2025-07-22T09:38:10.148785Z"
    },
    "papermill": {
     "duration": 0.026593,
     "end_time": "2025-07-22T09:38:10.150678",
     "exception": false,
     "start_time": "2025-07-22T09:38:10.124085",
     "status": "completed"
    },
    "tags": []
   },
   "outputs": [],
   "source": [
    "#train_df['new_visits'].unique()"
   ]
  },
  {
   "cell_type": "code",
   "execution_count": null,
   "id": "d4a3d967",
   "metadata": {
    "execution": {
     "iopub.execute_input": "2025-07-20T05:54:24.550250Z",
     "iopub.status.busy": "2025-07-20T05:54:24.549792Z",
     "iopub.status.idle": "2025-07-20T05:54:24.555864Z",
     "shell.execute_reply": "2025-07-20T05:54:24.555366Z",
     "shell.execute_reply.started": "2025-07-20T05:54:24.550228Z"
    },
    "papermill": {
     "duration": 0.020113,
     "end_time": "2025-07-22T09:38:10.191408",
     "exception": false,
     "start_time": "2025-07-22T09:38:10.171295",
     "status": "completed"
    },
    "tags": []
   },
   "outputs": [],
   "source": []
  },
  {
   "cell_type": "code",
   "execution_count": 57,
   "id": "b084bd26",
   "metadata": {
    "execution": {
     "iopub.execute_input": "2025-07-22T09:38:10.233018Z",
     "iopub.status.busy": "2025-07-22T09:38:10.232812Z",
     "iopub.status.idle": "2025-07-22T09:38:10.235531Z",
     "shell.execute_reply": "2025-07-22T09:38:10.235049Z"
    },
    "papermill": {
     "duration": 0.024429,
     "end_time": "2025-07-22T09:38:10.236617",
     "exception": false,
     "start_time": "2025-07-22T09:38:10.212188",
     "status": "completed"
    },
    "tags": []
   },
   "outputs": [],
   "source": [
    "#test_df['new_visits'].unique()"
   ]
  },
  {
   "cell_type": "code",
   "execution_count": null,
   "id": "bf0b9aa9",
   "metadata": {
    "execution": {
     "iopub.execute_input": "2025-07-22T09:05:53.286729Z",
     "iopub.status.busy": "2025-07-22T09:05:53.286116Z",
     "iopub.status.idle": "2025-07-22T09:05:53.294923Z",
     "shell.execute_reply": "2025-07-22T09:05:53.294226Z",
     "shell.execute_reply.started": "2025-07-22T09:05:53.286702Z"
    },
    "papermill": {
     "duration": 0.020122,
     "end_time": "2025-07-22T09:38:10.277069",
     "exception": false,
     "start_time": "2025-07-22T09:38:10.256947",
     "status": "completed"
    },
    "tags": []
   },
   "outputs": [],
   "source": []
  },
  {
   "cell_type": "code",
   "execution_count": null,
   "id": "c27385b4",
   "metadata": {
    "execution": {
     "iopub.execute_input": "2025-07-17T08:10:07.950139Z",
     "iopub.status.busy": "2025-07-17T08:10:07.949888Z",
     "iopub.status.idle": "2025-07-17T08:10:07.954764Z",
     "shell.execute_reply": "2025-07-17T08:10:07.954231Z",
     "shell.execute_reply.started": "2025-07-17T08:10:07.950121Z"
    },
    "papermill": {
     "duration": 0.020971,
     "end_time": "2025-07-22T09:38:10.318174",
     "exception": false,
     "start_time": "2025-07-22T09:38:10.297203",
     "status": "completed"
    },
    "tags": []
   },
   "outputs": [],
   "source": []
  },
  {
   "cell_type": "code",
   "execution_count": 58,
   "id": "11178cda",
   "metadata": {
    "execution": {
     "iopub.execute_input": "2025-07-22T09:38:10.361237Z",
     "iopub.status.busy": "2025-07-22T09:38:10.361027Z",
     "iopub.status.idle": "2025-07-22T09:38:10.364155Z",
     "shell.execute_reply": "2025-07-22T09:38:10.363555Z"
    },
    "papermill": {
     "duration": 0.025746,
     "end_time": "2025-07-22T09:38:10.365241",
     "exception": false,
     "start_time": "2025-07-22T09:38:10.339495",
     "status": "completed"
    },
    "tags": []
   },
   "outputs": [],
   "source": [
    "#train_df.isnull().sum()"
   ]
  },
  {
   "cell_type": "code",
   "execution_count": 59,
   "id": "d248ce1b",
   "metadata": {
    "execution": {
     "iopub.execute_input": "2025-07-22T09:38:10.408662Z",
     "iopub.status.busy": "2025-07-22T09:38:10.408449Z",
     "iopub.status.idle": "2025-07-22T09:38:10.411292Z",
     "shell.execute_reply": "2025-07-22T09:38:10.410778Z"
    },
    "papermill": {
     "duration": 0.026233,
     "end_time": "2025-07-22T09:38:10.412311",
     "exception": false,
     "start_time": "2025-07-22T09:38:10.386078",
     "status": "completed"
    },
    "tags": []
   },
   "outputs": [],
   "source": [
    "#test_df.isnull().sum()"
   ]
  },
  {
   "cell_type": "code",
   "execution_count": 60,
   "id": "8d365986",
   "metadata": {
    "execution": {
     "iopub.execute_input": "2025-07-22T09:38:10.455445Z",
     "iopub.status.busy": "2025-07-22T09:38:10.455232Z",
     "iopub.status.idle": "2025-07-22T09:38:10.457869Z",
     "shell.execute_reply": "2025-07-22T09:38:10.457416Z"
    },
    "papermill": {
     "duration": 0.025749,
     "end_time": "2025-07-22T09:38:10.458902",
     "exception": false,
     "start_time": "2025-07-22T09:38:10.433153",
     "status": "completed"
    },
    "tags": []
   },
   "outputs": [],
   "source": [
    "#train_df.info()"
   ]
  },
  {
   "cell_type": "code",
   "execution_count": 61,
   "id": "d70d376f",
   "metadata": {
    "execution": {
     "iopub.execute_input": "2025-07-22T09:38:10.500580Z",
     "iopub.status.busy": "2025-07-22T09:38:10.500411Z",
     "iopub.status.idle": "2025-07-22T09:38:10.502972Z",
     "shell.execute_reply": "2025-07-22T09:38:10.502507Z"
    },
    "papermill": {
     "duration": 0.024472,
     "end_time": "2025-07-22T09:38:10.504001",
     "exception": false,
     "start_time": "2025-07-22T09:38:10.479529",
     "status": "completed"
    },
    "tags": []
   },
   "outputs": [],
   "source": [
    "#test_df.info()"
   ]
  },
  {
   "cell_type": "code",
   "execution_count": 62,
   "id": "032a34c9",
   "metadata": {
    "execution": {
     "iopub.execute_input": "2025-07-22T09:38:10.545615Z",
     "iopub.status.busy": "2025-07-22T09:38:10.545449Z",
     "iopub.status.idle": "2025-07-22T09:38:10.548163Z",
     "shell.execute_reply": "2025-07-22T09:38:10.547698Z"
    },
    "papermill": {
     "duration": 0.024667,
     "end_time": "2025-07-22T09:38:10.549152",
     "exception": false,
     "start_time": "2025-07-22T09:38:10.524485",
     "status": "completed"
    },
    "tags": []
   },
   "outputs": [],
   "source": [
    "# import seaborn as sns\n",
    "# import matplotlib.pyplot as plt\n",
    "\n",
    "# sns.histplot(data=train_df, x='purchaseValue', bins=100, kde=True)\n",
    "# plt.title('Distribution of Purchase Value')\n",
    "# plt.xlabel('Purchase Value')\n",
    "# plt.ylabel('Count')\n",
    "# plt.show()\n"
   ]
  },
  {
   "cell_type": "code",
   "execution_count": 63,
   "id": "9deb5660",
   "metadata": {
    "execution": {
     "iopub.execute_input": "2025-07-22T09:38:10.591136Z",
     "iopub.status.busy": "2025-07-22T09:38:10.590614Z",
     "iopub.status.idle": "2025-07-22T09:38:10.593907Z",
     "shell.execute_reply": "2025-07-22T09:38:10.593209Z"
    },
    "papermill": {
     "duration": 0.025526,
     "end_time": "2025-07-22T09:38:10.595023",
     "exception": false,
     "start_time": "2025-07-22T09:38:10.569497",
     "status": "completed"
    },
    "tags": []
   },
   "outputs": [],
   "source": [
    "# import seaborn as sns\n",
    "# import matplotlib.pyplot as plt\n",
    "# import numpy as np\n",
    "\n",
    "# # Calculate 0.5 and 99.5 percentiles\n",
    "# lower_bound = np.percentile(train_df['purchaseValue'], 0.5)\n",
    "# upper_bound = np.percentile(train_df['purchaseValue'], 95)\n",
    "\n",
    "# # Filter the central 99% of data\n",
    "# filtered_data = train_df[\n",
    "#     (train_df['purchaseValue'] >= lower_bound) & \n",
    "#     (train_df['purchaseValue'] <= upper_bound)\n",
    "# ]\n",
    "\n",
    "# # Plot the filtered distribution\n",
    "# sns.histplot(data=filtered_data, x='purchaseValue', bins=100, kde=True)\n",
    "# plt.title('Distribution of Purchase Value (Central 99%)')\n",
    "# plt.xlabel('Purchase Value')\n",
    "# plt.ylabel('Count')\n",
    "# plt.show()\n"
   ]
  },
  {
   "cell_type": "code",
   "execution_count": 64,
   "id": "89703222",
   "metadata": {
    "execution": {
     "iopub.execute_input": "2025-07-22T09:38:10.637180Z",
     "iopub.status.busy": "2025-07-22T09:38:10.636633Z",
     "iopub.status.idle": "2025-07-22T09:38:10.639593Z",
     "shell.execute_reply": "2025-07-22T09:38:10.638992Z"
    },
    "papermill": {
     "duration": 0.024985,
     "end_time": "2025-07-22T09:38:10.640701",
     "exception": false,
     "start_time": "2025-07-22T09:38:10.615716",
     "status": "completed"
    },
    "tags": []
   },
   "outputs": [],
   "source": [
    "# sns.boxplot(data=train_df, x='purchaseValue')\n",
    "# plt.title('Boxplot of Purchase Value')\n",
    "# plt.xlabel('Purchase Value')\n",
    "# plt.show()\n"
   ]
  },
  {
   "cell_type": "code",
   "execution_count": 65,
   "id": "9edebafa",
   "metadata": {
    "execution": {
     "iopub.execute_input": "2025-07-22T09:38:10.685124Z",
     "iopub.status.busy": "2025-07-22T09:38:10.684612Z",
     "iopub.status.idle": "2025-07-22T09:38:10.687652Z",
     "shell.execute_reply": "2025-07-22T09:38:10.687014Z"
    },
    "papermill": {
     "duration": 0.027669,
     "end_time": "2025-07-22T09:38:10.688721",
     "exception": false,
     "start_time": "2025-07-22T09:38:10.661052",
     "status": "completed"
    },
    "tags": []
   },
   "outputs": [],
   "source": [
    "# sns.boxplot(data=train_df, x=np.log1p(train_df['purchaseValue']))\n",
    "# plt.title(\"Boxplot of Log-Transformed Purchase Value\")\n",
    "# plt.xlabel(\"Log(Purchase Value + 1)\")\n",
    "# plt.show()"
   ]
  },
  {
   "cell_type": "code",
   "execution_count": 66,
   "id": "6cf355bf",
   "metadata": {
    "execution": {
     "iopub.execute_input": "2025-07-22T09:38:10.730240Z",
     "iopub.status.busy": "2025-07-22T09:38:10.730072Z",
     "iopub.status.idle": "2025-07-22T09:38:10.732769Z",
     "shell.execute_reply": "2025-07-22T09:38:10.732271Z"
    },
    "papermill": {
     "duration": 0.0245,
     "end_time": "2025-07-22T09:38:10.733831",
     "exception": false,
     "start_time": "2025-07-22T09:38:10.709331",
     "status": "completed"
    },
    "tags": []
   },
   "outputs": [],
   "source": [
    "# sns.violinplot(data=train_df, x='purchaseValue')\n",
    "# plt.title('Violin Plot of Purchase Value')\n",
    "# plt.xlabel('Purchase Value')\n",
    "# plt.show()\n"
   ]
  },
  {
   "cell_type": "code",
   "execution_count": 67,
   "id": "00b6f6d8",
   "metadata": {
    "execution": {
     "iopub.execute_input": "2025-07-22T09:38:10.775506Z",
     "iopub.status.busy": "2025-07-22T09:38:10.775334Z",
     "iopub.status.idle": "2025-07-22T09:38:10.777977Z",
     "shell.execute_reply": "2025-07-22T09:38:10.777501Z"
    },
    "papermill": {
     "duration": 0.024213,
     "end_time": "2025-07-22T09:38:10.778987",
     "exception": false,
     "start_time": "2025-07-22T09:38:10.754774",
     "status": "completed"
    },
    "tags": []
   },
   "outputs": [],
   "source": [
    "# # Histogram for pageViews\n",
    "# sns.histplot(data=train_df, x='pageViews', bins=50, kde=True)\n",
    "# plt.title('Distribution of Page Views')\n",
    "# plt.show()\n",
    "\n",
    "# # Histogram for totalHits\n",
    "# sns.histplot(data=train_df, x='totalHits', bins=50, kde=True)\n",
    "# plt.title('Distribution of Total Hits')\n",
    "# plt.show()"
   ]
  },
  {
   "cell_type": "code",
   "execution_count": 68,
   "id": "914633c1",
   "metadata": {
    "execution": {
     "iopub.execute_input": "2025-07-22T09:38:10.822208Z",
     "iopub.status.busy": "2025-07-22T09:38:10.821785Z",
     "iopub.status.idle": "2025-07-22T09:38:10.824757Z",
     "shell.execute_reply": "2025-07-22T09:38:10.824235Z"
    },
    "papermill": {
     "duration": 0.026298,
     "end_time": "2025-07-22T09:38:10.825765",
     "exception": false,
     "start_time": "2025-07-22T09:38:10.799467",
     "status": "completed"
    },
    "tags": []
   },
   "outputs": [],
   "source": [
    "# import seaborn as sns\n",
    "# import matplotlib.pyplot as plt\n",
    "\n",
    "# # Histogram for pageViews > 0\n",
    "# sns.histplot(data=train_df[train_df['pageViews'] > 1], x='pageViews', bins=50, kde=True)\n",
    "# plt.title('Distribution of Page Views (pageViews > 1)')\n",
    "# plt.show()\n",
    "\n",
    "# # Histogram for totalHits > 0\n",
    "# sns.histplot(data=train_df[train_df['totalHits'] > 1], x='totalHits', bins=50, kde=True)\n",
    "# plt.title('Distribution of Total Hits (totalHits > 1)')\n",
    "# plt.show()\n"
   ]
  },
  {
   "cell_type": "code",
   "execution_count": 69,
   "id": "7e1e5e2e",
   "metadata": {
    "execution": {
     "iopub.execute_input": "2025-07-22T09:38:10.867222Z",
     "iopub.status.busy": "2025-07-22T09:38:10.866869Z",
     "iopub.status.idle": "2025-07-22T09:38:10.869719Z",
     "shell.execute_reply": "2025-07-22T09:38:10.869048Z"
    },
    "papermill": {
     "duration": 0.024646,
     "end_time": "2025-07-22T09:38:10.870756",
     "exception": false,
     "start_time": "2025-07-22T09:38:10.846110",
     "status": "completed"
    },
    "tags": []
   },
   "outputs": [],
   "source": [
    "#train_df['pageViews'].value_counts()"
   ]
  },
  {
   "cell_type": "code",
   "execution_count": 70,
   "id": "a270b8f0",
   "metadata": {
    "execution": {
     "iopub.execute_input": "2025-07-22T09:38:10.913931Z",
     "iopub.status.busy": "2025-07-22T09:38:10.913310Z",
     "iopub.status.idle": "2025-07-22T09:38:10.916641Z",
     "shell.execute_reply": "2025-07-22T09:38:10.916104Z"
    },
    "papermill": {
     "duration": 0.026618,
     "end_time": "2025-07-22T09:38:10.917685",
     "exception": false,
     "start_time": "2025-07-22T09:38:10.891067",
     "status": "completed"
    },
    "tags": []
   },
   "outputs": [],
   "source": [
    "# # Boxplot for pageViews\n",
    "# sns.boxplot(data=train_df, x='pageViews')\n",
    "# plt.title('Boxplot of Page Views')\n",
    "# plt.show()\n",
    "\n",
    "# # Boxplot for totalHits\n",
    "# sns.boxplot(data=train_df, x='totalHits')\n",
    "# plt.title('Boxplot of Total Hits')\n",
    "# plt.show()\n"
   ]
  },
  {
   "cell_type": "code",
   "execution_count": 71,
   "id": "94ab6327",
   "metadata": {
    "execution": {
     "iopub.execute_input": "2025-07-22T09:38:10.959332Z",
     "iopub.status.busy": "2025-07-22T09:38:10.959101Z",
     "iopub.status.idle": "2025-07-22T09:38:10.961972Z",
     "shell.execute_reply": "2025-07-22T09:38:10.961320Z"
    },
    "papermill": {
     "duration": 0.024571,
     "end_time": "2025-07-22T09:38:10.962982",
     "exception": false,
     "start_time": "2025-07-22T09:38:10.938411",
     "status": "completed"
    },
    "tags": []
   },
   "outputs": [],
   "source": [
    "#train_df['totalHits'].value_counts()"
   ]
  },
  {
   "cell_type": "code",
   "execution_count": 72,
   "id": "c60bd24a",
   "metadata": {
    "execution": {
     "iopub.execute_input": "2025-07-22T09:38:11.004621Z",
     "iopub.status.busy": "2025-07-22T09:38:11.004448Z",
     "iopub.status.idle": "2025-07-22T09:38:11.007228Z",
     "shell.execute_reply": "2025-07-22T09:38:11.006714Z"
    },
    "papermill": {
     "duration": 0.024426,
     "end_time": "2025-07-22T09:38:11.008176",
     "exception": false,
     "start_time": "2025-07-22T09:38:10.983750",
     "status": "completed"
    },
    "tags": []
   },
   "outputs": [],
   "source": [
    "#train_df['totalHits'].value_counts()[train_df['totalHits'].value_counts() > 100]"
   ]
  },
  {
   "cell_type": "code",
   "execution_count": 73,
   "id": "cb681876",
   "metadata": {
    "execution": {
     "iopub.execute_input": "2025-07-22T09:38:11.049728Z",
     "iopub.status.busy": "2025-07-22T09:38:11.049193Z",
     "iopub.status.idle": "2025-07-22T09:38:11.051791Z",
     "shell.execute_reply": "2025-07-22T09:38:11.051332Z"
    },
    "papermill": {
     "duration": 0.024225,
     "end_time": "2025-07-22T09:38:11.052707",
     "exception": false,
     "start_time": "2025-07-22T09:38:11.028482",
     "status": "completed"
    },
    "tags": []
   },
   "outputs": [],
   "source": [
    "# vc = train_df['totalHits'].value_counts()\n",
    "# vc[(vc >= 1) & (vc <= 20)]"
   ]
  },
  {
   "cell_type": "code",
   "execution_count": 74,
   "id": "5631a788",
   "metadata": {
    "execution": {
     "iopub.execute_input": "2025-07-22T09:38:11.094538Z",
     "iopub.status.busy": "2025-07-22T09:38:11.094347Z",
     "iopub.status.idle": "2025-07-22T09:38:11.096965Z",
     "shell.execute_reply": "2025-07-22T09:38:11.096501Z"
    },
    "papermill": {
     "duration": 0.024661,
     "end_time": "2025-07-22T09:38:11.097919",
     "exception": false,
     "start_time": "2025-07-22T09:38:11.073258",
     "status": "completed"
    },
    "tags": []
   },
   "outputs": [],
   "source": [
    "# # Violin plot for pageViews\n",
    "# sns.violinplot(data=train_df, x='pageViews')\n",
    "# plt.title('Violin Plot of Page Views')\n",
    "# plt.show()\n",
    "\n",
    "# # Violin plot for totalHits\n",
    "# sns.violinplot(data=train_df, x='totalHits')\n",
    "# plt.title('Violin Plot of Total Hits')\n",
    "# plt.show()\n"
   ]
  },
  {
   "cell_type": "code",
   "execution_count": 75,
   "id": "325530f5",
   "metadata": {
    "execution": {
     "iopub.execute_input": "2025-07-22T09:38:11.139497Z",
     "iopub.status.busy": "2025-07-22T09:38:11.139328Z",
     "iopub.status.idle": "2025-07-22T09:38:11.142264Z",
     "shell.execute_reply": "2025-07-22T09:38:11.141761Z"
    },
    "papermill": {
     "duration": 0.025083,
     "end_time": "2025-07-22T09:38:11.143387",
     "exception": false,
     "start_time": "2025-07-22T09:38:11.118304",
     "status": "completed"
    },
    "tags": []
   },
   "outputs": [],
   "source": [
    "# # Histogram for sessionNumber\n",
    "# sns.histplot(data=train_df, x='sessionNumber', bins=50)\n",
    "# plt.title('Distribution of Session Number')\n",
    "# plt.show()\n",
    "\n",
    "# train_df['sessionStart'] = pd.to_datetime(train_df['sessionStart'], unit='s')\n",
    "\n",
    "# # # Histogram for date\n",
    "# # sns.histplot(data=train_df, x='sessionStart', bins=50)\n",
    "# # plt.title('Distribution of Dates')\n",
    "# # plt.show()\n",
    "\n",
    "# # Histogram for sessionStart (convert if needed)\n",
    "# sns.histplot(data=train_df, x='sessionStart', bins=50)\n",
    "# plt.title('Distribution of Session Start')\n",
    "# plt.show()"
   ]
  },
  {
   "cell_type": "code",
   "execution_count": 76,
   "id": "4e7edeb7",
   "metadata": {
    "execution": {
     "iopub.execute_input": "2025-07-22T09:38:11.185062Z",
     "iopub.status.busy": "2025-07-22T09:38:11.184860Z",
     "iopub.status.idle": "2025-07-22T09:38:11.187592Z",
     "shell.execute_reply": "2025-07-22T09:38:11.187078Z"
    },
    "papermill": {
     "duration": 0.02485,
     "end_time": "2025-07-22T09:38:11.188650",
     "exception": false,
     "start_time": "2025-07-22T09:38:11.163800",
     "status": "completed"
    },
    "tags": []
   },
   "outputs": [],
   "source": [
    "# # Violin plot for sessionNumber\n",
    "# sns.violinplot(data=train_df, x='sessionNumber')\n",
    "# plt.title('Violin Plot of Session Number')\n",
    "# plt.show()\n",
    "\n",
    "\n",
    "# # Violin plot for date\n",
    "# sns.violinplot(data=train_df, x='date')\n",
    "# plt.title('Violin Plot of Dates')\n",
    "# plt.show()\n"
   ]
  },
  {
   "cell_type": "code",
   "execution_count": 77,
   "id": "9569276c",
   "metadata": {
    "execution": {
     "iopub.execute_input": "2025-07-22T09:38:11.230545Z",
     "iopub.status.busy": "2025-07-22T09:38:11.230372Z",
     "iopub.status.idle": "2025-07-22T09:38:11.233576Z",
     "shell.execute_reply": "2025-07-22T09:38:11.233028Z"
    },
    "papermill": {
     "duration": 0.025115,
     "end_time": "2025-07-22T09:38:11.234493",
     "exception": false,
     "start_time": "2025-07-22T09:38:11.209378",
     "status": "completed"
    },
    "tags": []
   },
   "outputs": [],
   "source": [
    "# # Browser\n",
    "# sns.countplot(data=train_df, x='browser', order=train_df['browser'].value_counts().index[:10])\n",
    "# plt.title('Top 10 Browsers')\n",
    "# plt.xticks(rotation=45)\n",
    "# plt.show()\n",
    "\n",
    "# # OS\n",
    "# sns.countplot(data=train_df, x='os', order=train_df['os'].value_counts().index[:10])\n",
    "# plt.title('Top 10 Operating Systems')\n",
    "# plt.xticks(rotation=45)\n",
    "# plt.show()\n",
    "\n",
    "# # Device Type\n",
    "# sns.countplot(data=train_df, x='deviceType', order=train_df['deviceType'].value_counts().index)\n",
    "# plt.title('Device Type Distribution')\n",
    "# plt.xticks(rotation=45)\n",
    "# plt.show()\n",
    "\n",
    "# # Language\n",
    "# sns.countplot(data=train_df, x='device.language', order=train_df['device.language'].value_counts().index[:10])\n",
    "# plt.title('Top 10 Device Languages')\n",
    "# plt.xticks(rotation=45)\n",
    "# plt.show()"
   ]
  },
  {
   "cell_type": "code",
   "execution_count": 78,
   "id": "7d0f5209",
   "metadata": {
    "execution": {
     "iopub.execute_input": "2025-07-22T09:38:11.276033Z",
     "iopub.status.busy": "2025-07-22T09:38:11.275848Z",
     "iopub.status.idle": "2025-07-22T09:38:11.278790Z",
     "shell.execute_reply": "2025-07-22T09:38:11.278127Z"
    },
    "papermill": {
     "duration": 0.024869,
     "end_time": "2025-07-22T09:38:11.279884",
     "exception": false,
     "start_time": "2025-07-22T09:38:11.255015",
     "status": "completed"
    },
    "tags": []
   },
   "outputs": [],
   "source": [
    "#train_df['browser'].value_counts()"
   ]
  },
  {
   "cell_type": "code",
   "execution_count": null,
   "id": "e8db8e7f",
   "metadata": {
    "execution": {
     "iopub.execute_input": "2025-07-22T07:52:04.563698Z",
     "iopub.status.busy": "2025-07-22T07:52:04.563117Z",
     "iopub.status.idle": "2025-07-22T07:52:04.568296Z",
     "shell.execute_reply": "2025-07-22T07:52:04.567640Z",
     "shell.execute_reply.started": "2025-07-22T07:52:04.563676Z"
    },
    "papermill": {
     "duration": 0.020256,
     "end_time": "2025-07-22T09:38:11.320250",
     "exception": false,
     "start_time": "2025-07-22T09:38:11.299994",
     "status": "completed"
    },
    "tags": []
   },
   "outputs": [],
   "source": []
  },
  {
   "cell_type": "code",
   "execution_count": null,
   "id": "bc1114d3",
   "metadata": {
    "execution": {
     "iopub.execute_input": "2025-07-22T07:52:07.522592Z",
     "iopub.status.busy": "2025-07-22T07:52:07.521891Z",
     "iopub.status.idle": "2025-07-22T07:52:08.633255Z",
     "shell.execute_reply": "2025-07-22T07:52:08.632678Z",
     "shell.execute_reply.started": "2025-07-22T07:52:07.522569Z"
    },
    "papermill": {
     "duration": 0.020247,
     "end_time": "2025-07-22T09:38:11.361586",
     "exception": false,
     "start_time": "2025-07-22T09:38:11.341339",
     "status": "completed"
    },
    "tags": []
   },
   "outputs": [],
   "source": []
  },
  {
   "cell_type": "code",
   "execution_count": 79,
   "id": "f6e02d7b",
   "metadata": {
    "execution": {
     "iopub.execute_input": "2025-07-22T09:38:11.403028Z",
     "iopub.status.busy": "2025-07-22T09:38:11.402822Z",
     "iopub.status.idle": "2025-07-22T09:38:11.405605Z",
     "shell.execute_reply": "2025-07-22T09:38:11.405098Z"
    },
    "papermill": {
     "duration": 0.024875,
     "end_time": "2025-07-22T09:38:11.406677",
     "exception": false,
     "start_time": "2025-07-22T09:38:11.381802",
     "status": "completed"
    },
    "tags": []
   },
   "outputs": [],
   "source": [
    "#train_df.info()"
   ]
  },
  {
   "cell_type": "code",
   "execution_count": null,
   "id": "855b1c51",
   "metadata": {
    "execution": {
     "iopub.execute_input": "2025-07-20T19:10:23.025374Z",
     "iopub.status.busy": "2025-07-20T19:10:23.025141Z",
     "iopub.status.idle": "2025-07-20T19:10:23.042398Z",
     "shell.execute_reply": "2025-07-20T19:10:23.041789Z",
     "shell.execute_reply.started": "2025-07-20T19:10:23.025358Z"
    },
    "papermill": {
     "duration": 0.020268,
     "end_time": "2025-07-22T09:38:11.447752",
     "exception": false,
     "start_time": "2025-07-22T09:38:11.427484",
     "status": "completed"
    },
    "tags": []
   },
   "outputs": [],
   "source": []
  },
  {
   "cell_type": "code",
   "execution_count": 80,
   "id": "1f07bd36",
   "metadata": {
    "execution": {
     "iopub.execute_input": "2025-07-22T09:38:11.489518Z",
     "iopub.status.busy": "2025-07-22T09:38:11.489004Z",
     "iopub.status.idle": "2025-07-22T09:38:11.491829Z",
     "shell.execute_reply": "2025-07-22T09:38:11.491333Z"
    },
    "papermill": {
     "duration": 0.024724,
     "end_time": "2025-07-22T09:38:11.492828",
     "exception": false,
     "start_time": "2025-07-22T09:38:11.468104",
     "status": "completed"
    },
    "tags": []
   },
   "outputs": [],
   "source": [
    "# train_df['browser'] = train_df['browser'].replace(\n",
    "#     ['not available in demo dataset', '(not set)'],\n",
    "#     'Other'\n",
    "# )\n",
    "# # Step 1: Get top 5 most frequent browsers\n",
    "# top_browsers = train_df['browser'].value_counts().nlargest(15).index\n",
    "\n",
    "# # Step 2: Replace less frequent browsers with 'Other' in the same column\n",
    "# train_df['browser'] = train_df['browser'].apply(\n",
    "#     lambda x: x if x in top_browsers else 'Other'\n",
    "# )\n"
   ]
  },
  {
   "cell_type": "code",
   "execution_count": 81,
   "id": "fa05787d",
   "metadata": {
    "execution": {
     "iopub.execute_input": "2025-07-22T09:38:11.535100Z",
     "iopub.status.busy": "2025-07-22T09:38:11.534901Z",
     "iopub.status.idle": "2025-07-22T09:38:11.537720Z",
     "shell.execute_reply": "2025-07-22T09:38:11.537219Z"
    },
    "papermill": {
     "duration": 0.025151,
     "end_time": "2025-07-22T09:38:11.538712",
     "exception": false,
     "start_time": "2025-07-22T09:38:11.513561",
     "status": "completed"
    },
    "tags": []
   },
   "outputs": [],
   "source": [
    "# test_df['browser'] = test_df['browser'].replace(\n",
    "#     ['not available in demo dataset', '(not set)'],\n",
    "#     'Other'\n",
    "# )\n",
    "# # Step 1: Get top 5 most frequent browsers\n",
    "# #top_browsers = test_df['browser'].value_counts().nlargest(15).index\n",
    "\n",
    "# # Step 2: Replace less frequent browsers with 'Other' in the same column\n",
    "# test_df['browser'] = test_df['browser'].apply(\n",
    "#     lambda x: x if x in top_browsers else 'Other'\n",
    "# )"
   ]
  },
  {
   "cell_type": "code",
   "execution_count": 82,
   "id": "e1a923f0",
   "metadata": {
    "execution": {
     "iopub.execute_input": "2025-07-22T09:38:11.579806Z",
     "iopub.status.busy": "2025-07-22T09:38:11.579622Z",
     "iopub.status.idle": "2025-07-22T09:38:11.582423Z",
     "shell.execute_reply": "2025-07-22T09:38:11.581774Z"
    },
    "papermill": {
     "duration": 0.024572,
     "end_time": "2025-07-22T09:38:11.583493",
     "exception": false,
     "start_time": "2025-07-22T09:38:11.558921",
     "status": "completed"
    },
    "tags": []
   },
   "outputs": [],
   "source": [
    "#train_df['browser'].value_counts()"
   ]
  },
  {
   "cell_type": "code",
   "execution_count": 83,
   "id": "fa8975b8",
   "metadata": {
    "execution": {
     "iopub.execute_input": "2025-07-22T09:38:11.625090Z",
     "iopub.status.busy": "2025-07-22T09:38:11.624898Z",
     "iopub.status.idle": "2025-07-22T09:38:11.628163Z",
     "shell.execute_reply": "2025-07-22T09:38:11.627418Z"
    },
    "papermill": {
     "duration": 0.025394,
     "end_time": "2025-07-22T09:38:11.629352",
     "exception": false,
     "start_time": "2025-07-22T09:38:11.603958",
     "status": "completed"
    },
    "tags": []
   },
   "outputs": [],
   "source": [
    "#train_df['os'].value_counts()"
   ]
  },
  {
   "cell_type": "code",
   "execution_count": 84,
   "id": "a6272267",
   "metadata": {
    "execution": {
     "iopub.execute_input": "2025-07-22T09:38:11.685061Z",
     "iopub.status.busy": "2025-07-22T09:38:11.684838Z",
     "iopub.status.idle": "2025-07-22T09:38:11.687823Z",
     "shell.execute_reply": "2025-07-22T09:38:11.687325Z"
    },
    "papermill": {
     "duration": 0.025179,
     "end_time": "2025-07-22T09:38:11.688775",
     "exception": false,
     "start_time": "2025-07-22T09:38:11.663596",
     "status": "completed"
    },
    "tags": []
   },
   "outputs": [],
   "source": [
    "# train_df['os'] = train_df['os'].replace(\n",
    "#     ['not available in demo dataset', '(not set)'],\n",
    "#     'Other'\n",
    "# )\n",
    "# # Step 1: Get top 5 most frequent browsers\n",
    "# top_os = train_df['os'].value_counts().nlargest(6).index\n",
    "\n",
    "# # Step 2: Replace less frequent browsers with 'Other' in the same column\n",
    "# train_df['os'] = train_df['os'].apply(\n",
    "#     lambda x: x if x in top_os else 'Other'\n",
    "# )\n"
   ]
  },
  {
   "cell_type": "code",
   "execution_count": 85,
   "id": "cd0fcc0d",
   "metadata": {
    "execution": {
     "iopub.execute_input": "2025-07-22T09:38:11.730063Z",
     "iopub.status.busy": "2025-07-22T09:38:11.729861Z",
     "iopub.status.idle": "2025-07-22T09:38:11.732584Z",
     "shell.execute_reply": "2025-07-22T09:38:11.732060Z"
    },
    "papermill": {
     "duration": 0.024608,
     "end_time": "2025-07-22T09:38:11.733732",
     "exception": false,
     "start_time": "2025-07-22T09:38:11.709124",
     "status": "completed"
    },
    "tags": []
   },
   "outputs": [],
   "source": [
    "#train_df['os'].value_counts()"
   ]
  },
  {
   "cell_type": "code",
   "execution_count": 86,
   "id": "4a4a8036",
   "metadata": {
    "execution": {
     "iopub.execute_input": "2025-07-22T09:38:11.781267Z",
     "iopub.status.busy": "2025-07-22T09:38:11.781074Z",
     "iopub.status.idle": "2025-07-22T09:38:11.783853Z",
     "shell.execute_reply": "2025-07-22T09:38:11.783326Z"
    },
    "papermill": {
     "duration": 0.030752,
     "end_time": "2025-07-22T09:38:11.784876",
     "exception": false,
     "start_time": "2025-07-22T09:38:11.754124",
     "status": "completed"
    },
    "tags": []
   },
   "outputs": [],
   "source": [
    "# test_df['os'] = test_df['os'].replace(\n",
    "#     ['not available in demo dataset', '(not set)'],\n",
    "#     'Other'\n",
    "# )\n",
    "# # Step 1: Get top 5 most frequent browsers\n",
    "# #top_os = train_df['os'].value_counts().nlargest(6).index\n",
    "\n",
    "# # Step 2: Replace less frequent browsers with 'Other' in the same column\n",
    "# test_df['os'] = test_df['os'].apply(\n",
    "#     lambda x: x if x in top_os else 'Other'\n",
    "# )\n"
   ]
  },
  {
   "cell_type": "code",
   "execution_count": 87,
   "id": "6c11b27c",
   "metadata": {
    "execution": {
     "iopub.execute_input": "2025-07-22T09:38:11.827627Z",
     "iopub.status.busy": "2025-07-22T09:38:11.827460Z",
     "iopub.status.idle": "2025-07-22T09:38:11.830398Z",
     "shell.execute_reply": "2025-07-22T09:38:11.829875Z"
    },
    "papermill": {
     "duration": 0.026224,
     "end_time": "2025-07-22T09:38:11.831407",
     "exception": false,
     "start_time": "2025-07-22T09:38:11.805183",
     "status": "completed"
    },
    "tags": []
   },
   "outputs": [],
   "source": [
    "#train_df['deviceType'].value_counts()"
   ]
  },
  {
   "cell_type": "code",
   "execution_count": 88,
   "id": "91b3f215",
   "metadata": {
    "execution": {
     "iopub.execute_input": "2025-07-22T09:38:11.872833Z",
     "iopub.status.busy": "2025-07-22T09:38:11.872472Z",
     "iopub.status.idle": "2025-07-22T09:38:11.875259Z",
     "shell.execute_reply": "2025-07-22T09:38:11.874757Z"
    },
    "papermill": {
     "duration": 0.024656,
     "end_time": "2025-07-22T09:38:11.876311",
     "exception": false,
     "start_time": "2025-07-22T09:38:11.851655",
     "status": "completed"
    },
    "tags": []
   },
   "outputs": [],
   "source": [
    "#train_df['device.language'].value_counts()"
   ]
  },
  {
   "cell_type": "code",
   "execution_count": 89,
   "id": "a13df1bc",
   "metadata": {
    "execution": {
     "iopub.execute_input": "2025-07-22T09:38:11.924953Z",
     "iopub.status.busy": "2025-07-22T09:38:11.924750Z",
     "iopub.status.idle": "2025-07-22T09:38:11.928206Z",
     "shell.execute_reply": "2025-07-22T09:38:11.927599Z"
    },
    "papermill": {
     "duration": 0.031618,
     "end_time": "2025-07-22T09:38:11.929259",
     "exception": false,
     "start_time": "2025-07-22T09:38:11.897641",
     "status": "completed"
    },
    "tags": []
   },
   "outputs": [],
   "source": [
    "# sns.countplot(data=train_df, x='locationCountry', order=train_df['locationCountry'].value_counts().index[:10])\n",
    "# plt.title('Top 10 Countries by User Count')\n",
    "# plt.xticks(rotation=45)\n",
    "# plt.show()\n",
    "\n",
    "# # City\n",
    "# sns.countplot(data=train_df, x='geoNetwork.city', order=train_df['geoNetwork.city'].value_counts().index[:10])\n",
    "# plt.title('Top 10 Cities by User Count')\n",
    "# plt.xticks(rotation=45)\n",
    "# plt.show()\n",
    "\n",
    "# # Region\n",
    "# sns.countplot(data=train_df, x='geoNetwork.region', order=train_df['geoNetwork.region'].value_counts().index[:10])\n",
    "# plt.title('Top 10 Regions')\n",
    "# plt.xticks(rotation=45)\n",
    "# plt.show()\n",
    "\n",
    "# # Continent\n",
    "# sns.countplot(data=train_df, x='geoNetwork.continent', order=train_df['geoNetwork.continent'].value_counts().index)\n",
    "# plt.title('Users by Continent')\n",
    "# plt.xticks(rotation=45)\n",
    "# plt.show()"
   ]
  },
  {
   "cell_type": "code",
   "execution_count": 90,
   "id": "2c5900f0",
   "metadata": {
    "execution": {
     "iopub.execute_input": "2025-07-22T09:38:11.988139Z",
     "iopub.status.busy": "2025-07-22T09:38:11.987763Z",
     "iopub.status.idle": "2025-07-22T09:38:11.990872Z",
     "shell.execute_reply": "2025-07-22T09:38:11.990179Z"
    },
    "papermill": {
     "duration": 0.03236,
     "end_time": "2025-07-22T09:38:11.991992",
     "exception": false,
     "start_time": "2025-07-22T09:38:11.959632",
     "status": "completed"
    },
    "tags": []
   },
   "outputs": [],
   "source": [
    "#train_df['locationCountry'].value_counts()"
   ]
  },
  {
   "cell_type": "code",
   "execution_count": 91,
   "id": "9d7231d7",
   "metadata": {
    "execution": {
     "iopub.execute_input": "2025-07-22T09:38:12.033789Z",
     "iopub.status.busy": "2025-07-22T09:38:12.033194Z",
     "iopub.status.idle": "2025-07-22T09:38:12.036349Z",
     "shell.execute_reply": "2025-07-22T09:38:12.035786Z"
    },
    "papermill": {
     "duration": 0.025077,
     "end_time": "2025-07-22T09:38:12.037310",
     "exception": false,
     "start_time": "2025-07-22T09:38:12.012233",
     "status": "completed"
    },
    "tags": []
   },
   "outputs": [],
   "source": [
    "# train_df['locationCountry'] = train_df['locationCountry'].replace(\n",
    "#     ['not available in demo dataset', '(not set)'],\n",
    "#     'Unknown'\n",
    "# )\n",
    "# # Step 1: Get the top 10 countries\n",
    "# top_countries = train_df['locationCountry'].value_counts().nlargest(10).index\n",
    "\n",
    "# # Step 2: Replace all others with 'Other'\n",
    "# train_df['locationCountry'] = train_df['locationCountry'].apply(\n",
    "#     lambda x: x if x in top_countries else 'Unknown'\n",
    "# )\n"
   ]
  },
  {
   "cell_type": "code",
   "execution_count": 92,
   "id": "2ef637f0",
   "metadata": {
    "execution": {
     "iopub.execute_input": "2025-07-22T09:38:12.078523Z",
     "iopub.status.busy": "2025-07-22T09:38:12.078324Z",
     "iopub.status.idle": "2025-07-22T09:38:12.081108Z",
     "shell.execute_reply": "2025-07-22T09:38:12.080617Z"
    },
    "papermill": {
     "duration": 0.024351,
     "end_time": "2025-07-22T09:38:12.082025",
     "exception": false,
     "start_time": "2025-07-22T09:38:12.057674",
     "status": "completed"
    },
    "tags": []
   },
   "outputs": [],
   "source": [
    "#train_df['locationCountry'].value_counts()"
   ]
  },
  {
   "cell_type": "code",
   "execution_count": 93,
   "id": "c0791c3f",
   "metadata": {
    "execution": {
     "iopub.execute_input": "2025-07-22T09:38:12.165809Z",
     "iopub.status.busy": "2025-07-22T09:38:12.165582Z",
     "iopub.status.idle": "2025-07-22T09:38:12.168670Z",
     "shell.execute_reply": "2025-07-22T09:38:12.168141Z"
    },
    "papermill": {
     "duration": 0.067699,
     "end_time": "2025-07-22T09:38:12.169699",
     "exception": false,
     "start_time": "2025-07-22T09:38:12.102000",
     "status": "completed"
    },
    "tags": []
   },
   "outputs": [],
   "source": [
    "# test_df['locationCountry'] = test_df['locationCountry'].replace(\n",
    "#     ['not available in demo dataset', '(not set)'],\n",
    "#     'Unknown'\n",
    "# )\n",
    "# # Step 1: Get the top 10 countries\n",
    "# #top_countries = train_df['locationCountry'].value_counts().nlargest(10).index\n",
    "\n",
    "# # Step 2: Replace all others with 'Other'\n",
    "# test_df['locationCountry'] = test_df['locationCountry'].apply(\n",
    "#     lambda x: x if x in top_countries else 'Unknown'\n",
    "# )"
   ]
  },
  {
   "cell_type": "code",
   "execution_count": 94,
   "id": "e3b09ab1",
   "metadata": {
    "execution": {
     "iopub.execute_input": "2025-07-22T09:38:12.211081Z",
     "iopub.status.busy": "2025-07-22T09:38:12.210907Z",
     "iopub.status.idle": "2025-07-22T09:38:12.214188Z",
     "shell.execute_reply": "2025-07-22T09:38:12.213487Z"
    },
    "papermill": {
     "duration": 0.025281,
     "end_time": "2025-07-22T09:38:12.215336",
     "exception": false,
     "start_time": "2025-07-22T09:38:12.190055",
     "status": "completed"
    },
    "tags": []
   },
   "outputs": [],
   "source": [
    "#test_df['locationCountry'].value_counts()"
   ]
  },
  {
   "cell_type": "code",
   "execution_count": 95,
   "id": "acdbb4ec",
   "metadata": {
    "execution": {
     "iopub.execute_input": "2025-07-22T09:38:12.256461Z",
     "iopub.status.busy": "2025-07-22T09:38:12.256250Z",
     "iopub.status.idle": "2025-07-22T09:38:12.259167Z",
     "shell.execute_reply": "2025-07-22T09:38:12.258693Z"
    },
    "papermill": {
     "duration": 0.024788,
     "end_time": "2025-07-22T09:38:12.260199",
     "exception": false,
     "start_time": "2025-07-22T09:38:12.235411",
     "status": "completed"
    },
    "tags": []
   },
   "outputs": [],
   "source": [
    "# train_df['geoNetwork.city'] = train_df['geoNetwork.city'].replace(\n",
    "#     ['not available in demo dataset', '(not set)'],\n",
    "#     'Unknown'\n",
    "# )\n",
    "\n",
    "# # Step 1: Get the top 10 countries\n",
    "# top_geoNetwork_city = train_df['geoNetwork.city'].value_counts().nlargest(10).index\n",
    "\n",
    "# # Step 2: Replace all others with 'Other'\n",
    "# train_df['geoNetwork.city'] = train_df['geoNetwork.city'].apply(\n",
    "#     lambda x: x if x in top_geoNetwork_city else 'Unknown'\n",
    "# )\n"
   ]
  },
  {
   "cell_type": "code",
   "execution_count": 96,
   "id": "c2962522",
   "metadata": {
    "execution": {
     "iopub.execute_input": "2025-07-22T09:38:12.301110Z",
     "iopub.status.busy": "2025-07-22T09:38:12.300935Z",
     "iopub.status.idle": "2025-07-22T09:38:12.303964Z",
     "shell.execute_reply": "2025-07-22T09:38:12.303325Z"
    },
    "papermill": {
     "duration": 0.024611,
     "end_time": "2025-07-22T09:38:12.305027",
     "exception": false,
     "start_time": "2025-07-22T09:38:12.280416",
     "status": "completed"
    },
    "tags": []
   },
   "outputs": [],
   "source": [
    "# test_df['geoNetwork.city'] = test_df['geoNetwork.city'].replace(\n",
    "#     ['not available in demo dataset', '(not set)'],\n",
    "#     'Unknown'\n",
    "# )\n",
    "\n",
    "# # Step 1: Get the top 10 countries\n",
    "# #top_geoNetwork_city = train_df['geoNetwork.city'].value_counts().nlargest(10).index\n",
    "\n",
    "# # Step 2: Replace all others with 'Other'\n",
    "# test_df['geoNetwork.city'] = test_df['geoNetwork.city'].apply(\n",
    "#     lambda x: x if x in top_geoNetwork_city else 'Unknown'\n",
    "# )\n"
   ]
  },
  {
   "cell_type": "code",
   "execution_count": 97,
   "id": "66ae0453",
   "metadata": {
    "execution": {
     "iopub.execute_input": "2025-07-22T09:38:12.346532Z",
     "iopub.status.busy": "2025-07-22T09:38:12.346336Z",
     "iopub.status.idle": "2025-07-22T09:38:12.349315Z",
     "shell.execute_reply": "2025-07-22T09:38:12.348654Z"
    },
    "papermill": {
     "duration": 0.024622,
     "end_time": "2025-07-22T09:38:12.350336",
     "exception": false,
     "start_time": "2025-07-22T09:38:12.325714",
     "status": "completed"
    },
    "tags": []
   },
   "outputs": [],
   "source": [
    "# train_df['geoNetwork.continent'] = train_df['geoNetwork.continent'].replace(\n",
    "#     ['not available in demo dataset', '(not set)'],\n",
    "#     'Unknown'\n",
    "# )\n",
    "\n",
    "# # Step 1: Get the top 10 countries\n",
    "# top_geoNetwork_continent = train_df['geoNetwork.continent'].value_counts().nlargest(10).index\n",
    "\n",
    "# # Step 2: Replace all others with 'Other'\n",
    "# train_df['geoNetwork.continent'] = train_df['geoNetwork.continent'].apply(\n",
    "#     lambda x: x if x in top_geoNetwork_continent else 'Unknown'\n",
    "# )"
   ]
  },
  {
   "cell_type": "code",
   "execution_count": 98,
   "id": "45e141d0",
   "metadata": {
    "execution": {
     "iopub.execute_input": "2025-07-22T09:38:12.391604Z",
     "iopub.status.busy": "2025-07-22T09:38:12.391407Z",
     "iopub.status.idle": "2025-07-22T09:38:12.394112Z",
     "shell.execute_reply": "2025-07-22T09:38:12.393624Z"
    },
    "papermill": {
     "duration": 0.024517,
     "end_time": "2025-07-22T09:38:12.395088",
     "exception": false,
     "start_time": "2025-07-22T09:38:12.370571",
     "status": "completed"
    },
    "tags": []
   },
   "outputs": [],
   "source": [
    "# test_df['geoNetwork.continent'] = test_df['geoNetwork.continent'].replace(\n",
    "#     ['not available in demo dataset', '(not set)'],\n",
    "#     'Unknown'\n",
    "# )\n",
    "\n",
    "# # Step 1: Get the top 10 countries\n",
    "# #top_geoNetwork_continent = train_df['geoNetwork.continent'].value_counts().nlargest(10).index\n",
    "\n",
    "# # Step 2: Replace all others with 'Other'\n",
    "# test_df['geoNetwork.continent'] = test_df['geoNetwork.continent'].apply(\n",
    "#     lambda x: x if x in top_geoNetwork_continent else 'Unknown'\n",
    "# )"
   ]
  },
  {
   "cell_type": "code",
   "execution_count": 99,
   "id": "f8fbe747",
   "metadata": {
    "execution": {
     "iopub.execute_input": "2025-07-22T09:38:12.437158Z",
     "iopub.status.busy": "2025-07-22T09:38:12.436994Z",
     "iopub.status.idle": "2025-07-22T09:38:12.439726Z",
     "shell.execute_reply": "2025-07-22T09:38:12.439198Z"
    },
    "papermill": {
     "duration": 0.025316,
     "end_time": "2025-07-22T09:38:12.440696",
     "exception": false,
     "start_time": "2025-07-22T09:38:12.415380",
     "status": "completed"
    },
    "tags": []
   },
   "outputs": [],
   "source": [
    "#train_df['geoNetwork.continent'].value_counts()"
   ]
  },
  {
   "cell_type": "code",
   "execution_count": 100,
   "id": "aee1e0b0",
   "metadata": {
    "execution": {
     "iopub.execute_input": "2025-07-22T09:38:12.482462Z",
     "iopub.status.busy": "2025-07-22T09:38:12.482295Z",
     "iopub.status.idle": "2025-07-22T09:38:12.484966Z",
     "shell.execute_reply": "2025-07-22T09:38:12.484502Z"
    },
    "papermill": {
     "duration": 0.024802,
     "end_time": "2025-07-22T09:38:12.485989",
     "exception": false,
     "start_time": "2025-07-22T09:38:12.461187",
     "status": "completed"
    },
    "tags": []
   },
   "outputs": [],
   "source": [
    "#train_df['locationCountry'].value_counts()"
   ]
  },
  {
   "cell_type": "code",
   "execution_count": 101,
   "id": "ba56f4ac",
   "metadata": {
    "execution": {
     "iopub.execute_input": "2025-07-22T09:38:12.527477Z",
     "iopub.status.busy": "2025-07-22T09:38:12.527245Z",
     "iopub.status.idle": "2025-07-22T09:38:12.529859Z",
     "shell.execute_reply": "2025-07-22T09:38:12.529428Z"
    },
    "papermill": {
     "duration": 0.024568,
     "end_time": "2025-07-22T09:38:12.530895",
     "exception": false,
     "start_time": "2025-07-22T09:38:12.506327",
     "status": "completed"
    },
    "tags": []
   },
   "outputs": [],
   "source": [
    "#train_df['geoNetwork.city'].value_counts()"
   ]
  },
  {
   "cell_type": "code",
   "execution_count": 102,
   "id": "12351459",
   "metadata": {
    "execution": {
     "iopub.execute_input": "2025-07-22T09:38:12.572779Z",
     "iopub.status.busy": "2025-07-22T09:38:12.572582Z",
     "iopub.status.idle": "2025-07-22T09:38:12.575510Z",
     "shell.execute_reply": "2025-07-22T09:38:12.574857Z"
    },
    "papermill": {
     "duration": 0.025189,
     "end_time": "2025-07-22T09:38:12.576655",
     "exception": false,
     "start_time": "2025-07-22T09:38:12.551466",
     "status": "completed"
    },
    "tags": []
   },
   "outputs": [],
   "source": [
    "#train_df['geoNetwork.city'].value_counts()"
   ]
  },
  {
   "cell_type": "code",
   "execution_count": 103,
   "id": "7d14b89f",
   "metadata": {
    "execution": {
     "iopub.execute_input": "2025-07-22T09:38:12.618968Z",
     "iopub.status.busy": "2025-07-22T09:38:12.618403Z",
     "iopub.status.idle": "2025-07-22T09:38:12.621142Z",
     "shell.execute_reply": "2025-07-22T09:38:12.620663Z"
    },
    "papermill": {
     "duration": 0.024612,
     "end_time": "2025-07-22T09:38:12.622202",
     "exception": false,
     "start_time": "2025-07-22T09:38:12.597590",
     "status": "completed"
    },
    "tags": []
   },
   "outputs": [],
   "source": [
    "#test_df['geoNetwork.city'].value_counts()"
   ]
  },
  {
   "cell_type": "code",
   "execution_count": 104,
   "id": "166f242b",
   "metadata": {
    "execution": {
     "iopub.execute_input": "2025-07-22T09:38:12.663552Z",
     "iopub.status.busy": "2025-07-22T09:38:12.663371Z",
     "iopub.status.idle": "2025-07-22T09:38:12.666355Z",
     "shell.execute_reply": "2025-07-22T09:38:12.665684Z"
    },
    "papermill": {
     "duration": 0.024782,
     "end_time": "2025-07-22T09:38:12.667344",
     "exception": false,
     "start_time": "2025-07-22T09:38:12.642562",
     "status": "completed"
    },
    "tags": []
   },
   "outputs": [],
   "source": [
    "#train_df['geoNetwork.region'].value_counts()"
   ]
  },
  {
   "cell_type": "code",
   "execution_count": 105,
   "id": "57ac3ea9",
   "metadata": {
    "execution": {
     "iopub.execute_input": "2025-07-22T09:38:12.708874Z",
     "iopub.status.busy": "2025-07-22T09:38:12.708681Z",
     "iopub.status.idle": "2025-07-22T09:38:12.711369Z",
     "shell.execute_reply": "2025-07-22T09:38:12.710864Z"
    },
    "papermill": {
     "duration": 0.024705,
     "end_time": "2025-07-22T09:38:12.712399",
     "exception": false,
     "start_time": "2025-07-22T09:38:12.687694",
     "status": "completed"
    },
    "tags": []
   },
   "outputs": [],
   "source": [
    "# train_df['geoNetwork.region'] = train_df['geoNetwork.region'].replace(\n",
    "#     ['not available in demo dataset', '(not set)'],\n",
    "#     'Unknown'\n",
    "# )\n",
    "\n",
    "# # Step 1: Get the top 10 countries\n",
    "# top_geoNetwork_continent = train_df['geoNetwork.region'].value_counts().nlargest(10).index\n",
    "\n",
    "# # Step 2: Replace all others with 'Other'\n",
    "# train_df['geoNetwork.region'] = train_df['geoNetwork.region'].apply(\n",
    "#     lambda x: x if x in top_geoNetwork_continent else 'Unknown'\n",
    "# )"
   ]
  },
  {
   "cell_type": "code",
   "execution_count": 106,
   "id": "31eb62c8",
   "metadata": {
    "execution": {
     "iopub.execute_input": "2025-07-22T09:38:12.753933Z",
     "iopub.status.busy": "2025-07-22T09:38:12.753740Z",
     "iopub.status.idle": "2025-07-22T09:38:12.756690Z",
     "shell.execute_reply": "2025-07-22T09:38:12.756050Z"
    },
    "papermill": {
     "duration": 0.024964,
     "end_time": "2025-07-22T09:38:12.757716",
     "exception": false,
     "start_time": "2025-07-22T09:38:12.732752",
     "status": "completed"
    },
    "tags": []
   },
   "outputs": [],
   "source": [
    "#train_df['geoNetwork.region'].value_counts()"
   ]
  },
  {
   "cell_type": "code",
   "execution_count": 107,
   "id": "aeae6631",
   "metadata": {
    "execution": {
     "iopub.execute_input": "2025-07-22T09:38:12.798955Z",
     "iopub.status.busy": "2025-07-22T09:38:12.798762Z",
     "iopub.status.idle": "2025-07-22T09:38:12.801900Z",
     "shell.execute_reply": "2025-07-22T09:38:12.801242Z"
    },
    "papermill": {
     "duration": 0.02485,
     "end_time": "2025-07-22T09:38:12.802939",
     "exception": false,
     "start_time": "2025-07-22T09:38:12.778089",
     "status": "completed"
    },
    "tags": []
   },
   "outputs": [],
   "source": [
    "# test_df['geoNetwork.region'] = test_df['geoNetwork.region'].replace(\n",
    "#     ['not available in demo dataset', '(not set)'],\n",
    "#     'Unknown'\n",
    "# )\n",
    "\n",
    "# Step 2: Replace all others with 'Other'\n",
    "# test_df['geoNetwork.region'] = test_df['geoNetwork.region'].apply(\n",
    "#     lambda x: x if x in top_geoNetwork_continent else 'Unknown'\n",
    "# )"
   ]
  },
  {
   "cell_type": "code",
   "execution_count": 108,
   "id": "5e2b130d",
   "metadata": {
    "execution": {
     "iopub.execute_input": "2025-07-22T09:38:12.846349Z",
     "iopub.status.busy": "2025-07-22T09:38:12.846114Z",
     "iopub.status.idle": "2025-07-22T09:38:12.849235Z",
     "shell.execute_reply": "2025-07-22T09:38:12.848720Z"
    },
    "papermill": {
     "duration": 0.025553,
     "end_time": "2025-07-22T09:38:12.850214",
     "exception": false,
     "start_time": "2025-07-22T09:38:12.824661",
     "status": "completed"
    },
    "tags": []
   },
   "outputs": [],
   "source": [
    "# # Medium\n",
    "# sns.countplot(data=train_df, x='trafficSource.medium', order=train_df['trafficSource.medium'].value_counts().index[:10])\n",
    "# plt.title('Traffic Source Medium')\n",
    "# plt.xticks(rotation=45)\n",
    "# plt.show()\n",
    "\n",
    "# # Campaign\n",
    "# sns.countplot(data=train_df, x='trafficSource.campaign', order=train_df['trafficSource.campaign'].value_counts().index[:10])\n",
    "# plt.title('Top Campaigns')\n",
    "# plt.xticks(rotation=45)\n",
    "# plt.show()\n",
    "\n",
    "# # Referral Path\n",
    "# sns.countplot(data=train_df, x='trafficSource.referralPath', order=train_df['trafficSource.referralPath'].value_counts().index[:10])\n",
    "# plt.title('Top Referral Paths')\n",
    "# plt.xticks(rotation=45)\n",
    "# plt.show()\n"
   ]
  },
  {
   "cell_type": "code",
   "execution_count": 109,
   "id": "b239bd50",
   "metadata": {
    "execution": {
     "iopub.execute_input": "2025-07-22T09:38:12.891556Z",
     "iopub.status.busy": "2025-07-22T09:38:12.891358Z",
     "iopub.status.idle": "2025-07-22T09:38:12.893930Z",
     "shell.execute_reply": "2025-07-22T09:38:12.893452Z"
    },
    "papermill": {
     "duration": 0.02407,
     "end_time": "2025-07-22T09:38:12.894891",
     "exception": false,
     "start_time": "2025-07-22T09:38:12.870821",
     "status": "completed"
    },
    "tags": []
   },
   "outputs": [],
   "source": [
    "#train_df['trafficSource.medium'].value_counts()"
   ]
  },
  {
   "cell_type": "code",
   "execution_count": 110,
   "id": "7532ecbf",
   "metadata": {
    "execution": {
     "iopub.execute_input": "2025-07-22T09:38:12.937688Z",
     "iopub.status.busy": "2025-07-22T09:38:12.937503Z",
     "iopub.status.idle": "2025-07-22T09:38:12.940117Z",
     "shell.execute_reply": "2025-07-22T09:38:12.939624Z"
    },
    "papermill": {
     "duration": 0.024549,
     "end_time": "2025-07-22T09:38:12.941193",
     "exception": false,
     "start_time": "2025-07-22T09:38:12.916644",
     "status": "completed"
    },
    "tags": []
   },
   "outputs": [],
   "source": [
    "# train_df['trafficSource.medium'] = train_df['trafficSource.medium'].replace(\n",
    "#     ['(none)', '(not set)'],\n",
    "#     'Unknown'\n",
    "# )\n",
    "# test_df['trafficSource.medium'] = test_df['trafficSource.medium'].replace(\n",
    "#     ['(none)', '(not set)'],\n",
    "#     'Unknown'\n",
    "# )"
   ]
  },
  {
   "cell_type": "code",
   "execution_count": 111,
   "id": "cb971b74",
   "metadata": {
    "execution": {
     "iopub.execute_input": "2025-07-22T09:38:12.983324Z",
     "iopub.status.busy": "2025-07-22T09:38:12.982774Z",
     "iopub.status.idle": "2025-07-22T09:38:12.985696Z",
     "shell.execute_reply": "2025-07-22T09:38:12.985188Z"
    },
    "papermill": {
     "duration": 0.025217,
     "end_time": "2025-07-22T09:38:12.986721",
     "exception": false,
     "start_time": "2025-07-22T09:38:12.961504",
     "status": "completed"
    },
    "tags": []
   },
   "outputs": [],
   "source": [
    "#train_df['trafficSource.medium'].value_counts()"
   ]
  },
  {
   "cell_type": "code",
   "execution_count": 112,
   "id": "e61ba3a5",
   "metadata": {
    "execution": {
     "iopub.execute_input": "2025-07-22T09:38:13.028661Z",
     "iopub.status.busy": "2025-07-22T09:38:13.028166Z",
     "iopub.status.idle": "2025-07-22T09:38:13.030911Z",
     "shell.execute_reply": "2025-07-22T09:38:13.030433Z"
    },
    "papermill": {
     "duration": 0.024805,
     "end_time": "2025-07-22T09:38:13.031932",
     "exception": false,
     "start_time": "2025-07-22T09:38:13.007127",
     "status": "completed"
    },
    "tags": []
   },
   "outputs": [],
   "source": [
    "#train_df['trafficSource.campaign'].value_counts()"
   ]
  },
  {
   "cell_type": "code",
   "execution_count": 113,
   "id": "5b2a4afe",
   "metadata": {
    "execution": {
     "iopub.execute_input": "2025-07-22T09:38:13.073911Z",
     "iopub.status.busy": "2025-07-22T09:38:13.073315Z",
     "iopub.status.idle": "2025-07-22T09:38:13.076539Z",
     "shell.execute_reply": "2025-07-22T09:38:13.075897Z"
    },
    "papermill": {
     "duration": 0.025223,
     "end_time": "2025-07-22T09:38:13.077550",
     "exception": false,
     "start_time": "2025-07-22T09:38:13.052327",
     "status": "completed"
    },
    "tags": []
   },
   "outputs": [],
   "source": [
    "# # Step 1: Get the top 10 countries\n",
    "# top_trafficSource_campaign = train_df['trafficSource.campaign'].value_counts().nlargest(10).index\n",
    "\n",
    "# # Step 2: Replace all others with 'Other'\n",
    "# train_df['trafficSource.campaign'] = train_df['trafficSource.campaign'].apply(\n",
    "#     lambda x: x if x in top_trafficSource_campaign else 'Unknown'\n",
    "# )"
   ]
  },
  {
   "cell_type": "code",
   "execution_count": 114,
   "id": "48bd19a3",
   "metadata": {
    "execution": {
     "iopub.execute_input": "2025-07-22T09:38:13.118898Z",
     "iopub.status.busy": "2025-07-22T09:38:13.118573Z",
     "iopub.status.idle": "2025-07-22T09:38:13.121640Z",
     "shell.execute_reply": "2025-07-22T09:38:13.121119Z"
    },
    "papermill": {
     "duration": 0.024704,
     "end_time": "2025-07-22T09:38:13.122614",
     "exception": false,
     "start_time": "2025-07-22T09:38:13.097910",
     "status": "completed"
    },
    "tags": []
   },
   "outputs": [],
   "source": [
    "\n",
    "# # Step 2: Replace all others with 'Other'\n",
    "# test_df['trafficSource.campaign'] = test_df['trafficSource.campaign'].apply(\n",
    "#     lambda x: x if x in top_trafficSource_campaign else 'Unknown'\n",
    "# )"
   ]
  },
  {
   "cell_type": "code",
   "execution_count": 115,
   "id": "15b24ee7",
   "metadata": {
    "execution": {
     "iopub.execute_input": "2025-07-22T09:38:13.165120Z",
     "iopub.status.busy": "2025-07-22T09:38:13.164606Z",
     "iopub.status.idle": "2025-07-22T09:38:13.167148Z",
     "shell.execute_reply": "2025-07-22T09:38:13.166676Z"
    },
    "papermill": {
     "duration": 0.024704,
     "end_time": "2025-07-22T09:38:13.168181",
     "exception": false,
     "start_time": "2025-07-22T09:38:13.143477",
     "status": "completed"
    },
    "tags": []
   },
   "outputs": [],
   "source": [
    "#train_df['trafficSource.campaign'].value_counts()"
   ]
  },
  {
   "cell_type": "code",
   "execution_count": 116,
   "id": "cc1e13d8",
   "metadata": {
    "execution": {
     "iopub.execute_input": "2025-07-22T09:38:13.209639Z",
     "iopub.status.busy": "2025-07-22T09:38:13.209451Z",
     "iopub.status.idle": "2025-07-22T09:38:13.212181Z",
     "shell.execute_reply": "2025-07-22T09:38:13.211689Z"
    },
    "papermill": {
     "duration": 0.024808,
     "end_time": "2025-07-22T09:38:13.213236",
     "exception": false,
     "start_time": "2025-07-22T09:38:13.188428",
     "status": "completed"
    },
    "tags": []
   },
   "outputs": [],
   "source": [
    "#train_df['trafficSource.referralPath'].value_counts()"
   ]
  },
  {
   "cell_type": "code",
   "execution_count": 117,
   "id": "28f4365f",
   "metadata": {
    "execution": {
     "iopub.execute_input": "2025-07-22T09:38:13.254135Z",
     "iopub.status.busy": "2025-07-22T09:38:13.253931Z",
     "iopub.status.idle": "2025-07-22T09:38:13.256937Z",
     "shell.execute_reply": "2025-07-22T09:38:13.256325Z"
    },
    "papermill": {
     "duration": 0.024626,
     "end_time": "2025-07-22T09:38:13.257919",
     "exception": false,
     "start_time": "2025-07-22T09:38:13.233293",
     "status": "completed"
    },
    "tags": []
   },
   "outputs": [],
   "source": [
    "# # User Channel\n",
    "# sns.countplot(data=train_df, x='userChannel', order=train_df['userChannel'].value_counts().index[:10])\n",
    "# plt.title('User Channels')\n",
    "# plt.xticks(rotation=45)\n",
    "# plt.show()\n",
    "\n",
    "# # Social Engagement Type\n",
    "# sns.countplot(data=train_df, x='socialEngagementType', order=train_df['socialEngagementType'].value_counts().index)\n",
    "# plt.title('Social Engagement Types')\n",
    "# plt.xticks(rotation=45)\n",
    "# plt.show()\n"
   ]
  },
  {
   "cell_type": "code",
   "execution_count": 118,
   "id": "1e507f5a",
   "metadata": {
    "execution": {
     "iopub.execute_input": "2025-07-22T09:38:13.298640Z",
     "iopub.status.busy": "2025-07-22T09:38:13.298447Z",
     "iopub.status.idle": "2025-07-22T09:38:13.301271Z",
     "shell.execute_reply": "2025-07-22T09:38:13.300644Z"
    },
    "papermill": {
     "duration": 0.02453,
     "end_time": "2025-07-22T09:38:13.302430",
     "exception": false,
     "start_time": "2025-07-22T09:38:13.277900",
     "status": "completed"
    },
    "tags": []
   },
   "outputs": [],
   "source": [
    "#train_df['socialEngagementType'].value_counts()"
   ]
  },
  {
   "cell_type": "code",
   "execution_count": 119,
   "id": "3af54d2d",
   "metadata": {
    "execution": {
     "iopub.execute_input": "2025-07-22T09:38:13.343363Z",
     "iopub.status.busy": "2025-07-22T09:38:13.343107Z",
     "iopub.status.idle": "2025-07-22T09:38:13.346190Z",
     "shell.execute_reply": "2025-07-22T09:38:13.345501Z"
    },
    "papermill": {
     "duration": 0.024603,
     "end_time": "2025-07-22T09:38:13.347203",
     "exception": false,
     "start_time": "2025-07-22T09:38:13.322600",
     "status": "completed"
    },
    "tags": []
   },
   "outputs": [],
   "source": [
    "#test_df['socialEngagementType'].value_counts()"
   ]
  },
  {
   "cell_type": "code",
   "execution_count": 120,
   "id": "2268736a",
   "metadata": {
    "execution": {
     "iopub.execute_input": "2025-07-22T09:38:13.388986Z",
     "iopub.status.busy": "2025-07-22T09:38:13.388536Z",
     "iopub.status.idle": "2025-07-22T09:38:13.391425Z",
     "shell.execute_reply": "2025-07-22T09:38:13.390785Z"
    },
    "papermill": {
     "duration": 0.024832,
     "end_time": "2025-07-22T09:38:13.392426",
     "exception": false,
     "start_time": "2025-07-22T09:38:13.367594",
     "status": "completed"
    },
    "tags": []
   },
   "outputs": [],
   "source": [
    "# sns.scatterplot(data=train_df, x='pageViews', y='purchaseValue')\n",
    "# plt.title('Page Views vs Purchase Value')\n",
    "# plt.xlabel('Page Views')\n",
    "# plt.ylabel('Purchase Value')\n",
    "# plt.show()"
   ]
  },
  {
   "cell_type": "code",
   "execution_count": 121,
   "id": "4ce6523e",
   "metadata": {
    "execution": {
     "iopub.execute_input": "2025-07-22T09:38:13.434045Z",
     "iopub.status.busy": "2025-07-22T09:38:13.433673Z",
     "iopub.status.idle": "2025-07-22T09:38:13.436817Z",
     "shell.execute_reply": "2025-07-22T09:38:13.436030Z"
    },
    "papermill": {
     "duration": 0.025123,
     "end_time": "2025-07-22T09:38:13.437813",
     "exception": false,
     "start_time": "2025-07-22T09:38:13.412690",
     "status": "completed"
    },
    "tags": []
   },
   "outputs": [],
   "source": [
    "# sns.regplot(data=train_df, x='totalHits', y='purchaseValue', scatter_kws={'alpha':0.5})\n",
    "# plt.title('Total Hits vs Purchase Value (with Regression Line)')\n",
    "# plt.xlabel('Total Hits')\n",
    "# plt.ylabel('Purchase Value')\n",
    "# plt.show()"
   ]
  },
  {
   "cell_type": "code",
   "execution_count": 122,
   "id": "33c04fb0",
   "metadata": {
    "execution": {
     "iopub.execute_input": "2025-07-22T09:38:13.479364Z",
     "iopub.status.busy": "2025-07-22T09:38:13.479131Z",
     "iopub.status.idle": "2025-07-22T09:38:13.481867Z",
     "shell.execute_reply": "2025-07-22T09:38:13.481389Z"
    },
    "papermill": {
     "duration": 0.024663,
     "end_time": "2025-07-22T09:38:13.482804",
     "exception": false,
     "start_time": "2025-07-22T09:38:13.458141",
     "status": "completed"
    },
    "tags": []
   },
   "outputs": [],
   "source": [
    "# selected_cols = ['pageViews', 'totalHits', 'purchaseValue']\n",
    "# sns.pairplot(train_df[selected_cols])\n",
    "# plt.suptitle('Pairwise Relationships', y=1.02)\n",
    "# plt.show()"
   ]
  },
  {
   "cell_type": "code",
   "execution_count": 123,
   "id": "26347df6",
   "metadata": {
    "execution": {
     "iopub.execute_input": "2025-07-22T09:38:13.524658Z",
     "iopub.status.busy": "2025-07-22T09:38:13.524088Z",
     "iopub.status.idle": "2025-07-22T09:38:13.526854Z",
     "shell.execute_reply": "2025-07-22T09:38:13.526405Z"
    },
    "papermill": {
     "duration": 0.024844,
     "end_time": "2025-07-22T09:38:13.527878",
     "exception": false,
     "start_time": "2025-07-22T09:38:13.503034",
     "status": "completed"
    },
    "tags": []
   },
   "outputs": [],
   "source": [
    "# sns.catplot(data=train_df, x='deviceType', y='purchaseValue', kind='box')\n",
    "# plt.title('Purchase Value by Device Type')\n",
    "# plt.xticks(rotation=45)\n",
    "# plt.show()"
   ]
  },
  {
   "cell_type": "code",
   "execution_count": 124,
   "id": "9bf613e1",
   "metadata": {
    "execution": {
     "iopub.execute_input": "2025-07-22T09:38:13.569218Z",
     "iopub.status.busy": "2025-07-22T09:38:13.569025Z",
     "iopub.status.idle": "2025-07-22T09:38:13.571765Z",
     "shell.execute_reply": "2025-07-22T09:38:13.571259Z"
    },
    "papermill": {
     "duration": 0.024577,
     "end_time": "2025-07-22T09:38:13.572744",
     "exception": false,
     "start_time": "2025-07-22T09:38:13.548167",
     "status": "completed"
    },
    "tags": []
   },
   "outputs": [],
   "source": [
    "# import seaborn as sns\n",
    "# import matplotlib.pyplot as plt\n",
    "\n",
    "# sns.scatterplot(data=train_df, x='pageViews', y='totalHits', alpha=0.5)\n",
    "# plt.title('Scatter Plot: PageViews vs TotalHits')\n",
    "# plt.xlabel('Page Views')\n",
    "# plt.ylabel('Total Hits')\n",
    "# plt.show()\n"
   ]
  },
  {
   "cell_type": "code",
   "execution_count": 125,
   "id": "9e634445",
   "metadata": {
    "execution": {
     "iopub.execute_input": "2025-07-22T09:38:13.614400Z",
     "iopub.status.busy": "2025-07-22T09:38:13.614162Z",
     "iopub.status.idle": "2025-07-22T09:38:13.617034Z",
     "shell.execute_reply": "2025-07-22T09:38:13.616564Z"
    },
    "papermill": {
     "duration": 0.024957,
     "end_time": "2025-07-22T09:38:13.618069",
     "exception": false,
     "start_time": "2025-07-22T09:38:13.593112",
     "status": "completed"
    },
    "tags": []
   },
   "outputs": [],
   "source": [
    "#sns.jointplot(data=train_df, x='pageViews', y='totalHits', kind='reg', height=6)\n"
   ]
  },
  {
   "cell_type": "code",
   "execution_count": 126,
   "id": "3221b47e",
   "metadata": {
    "execution": {
     "iopub.execute_input": "2025-07-22T09:38:13.659958Z",
     "iopub.status.busy": "2025-07-22T09:38:13.659269Z",
     "iopub.status.idle": "2025-07-22T09:38:13.662116Z",
     "shell.execute_reply": "2025-07-22T09:38:13.661575Z"
    },
    "papermill": {
     "duration": 0.024894,
     "end_time": "2025-07-22T09:38:13.663125",
     "exception": false,
     "start_time": "2025-07-22T09:38:13.638231",
     "status": "completed"
    },
    "tags": []
   },
   "outputs": [],
   "source": [
    "# corr = train_df[['pageViews', 'totalHits']].corr()\n",
    "# sns.heatmap(corr, annot=True, cmap='coolwarm', fmt=\".2f\")\n",
    "# plt.title('Correlation between pageViews and totalHits')\n",
    "# plt.show()\n"
   ]
  },
  {
   "cell_type": "code",
   "execution_count": 127,
   "id": "14107bcc",
   "metadata": {
    "execution": {
     "iopub.execute_input": "2025-07-22T09:38:13.705589Z",
     "iopub.status.busy": "2025-07-22T09:38:13.705394Z",
     "iopub.status.idle": "2025-07-22T09:38:13.707938Z",
     "shell.execute_reply": "2025-07-22T09:38:13.707483Z"
    },
    "papermill": {
     "duration": 0.024954,
     "end_time": "2025-07-22T09:38:13.708933",
     "exception": false,
     "start_time": "2025-07-22T09:38:13.683979",
     "status": "completed"
    },
    "tags": []
   },
   "outputs": [],
   "source": [
    "# sns.scatterplot(x=np.log1p(train_df['pageViews']), y=np.log1p(train_df['totalHits']))\n",
    "# plt.title('Log-Scale Scatter Plot')\n"
   ]
  },
  {
   "cell_type": "code",
   "execution_count": 128,
   "id": "e6ba9a52",
   "metadata": {
    "execution": {
     "iopub.execute_input": "2025-07-22T09:38:13.750371Z",
     "iopub.status.busy": "2025-07-22T09:38:13.750168Z",
     "iopub.status.idle": "2025-07-22T09:38:13.752937Z",
     "shell.execute_reply": "2025-07-22T09:38:13.752455Z"
    },
    "papermill": {
     "duration": 0.024723,
     "end_time": "2025-07-22T09:38:13.753921",
     "exception": false,
     "start_time": "2025-07-22T09:38:13.729198",
     "status": "completed"
    },
    "tags": []
   },
   "outputs": [],
   "source": [
    "#train_df[['pageViews','totalHits']]"
   ]
  },
  {
   "cell_type": "code",
   "execution_count": 129,
   "id": "8a09bd8e",
   "metadata": {
    "execution": {
     "iopub.execute_input": "2025-07-22T09:38:13.795206Z",
     "iopub.status.busy": "2025-07-22T09:38:13.795012Z",
     "iopub.status.idle": "2025-07-22T09:38:13.797722Z",
     "shell.execute_reply": "2025-07-22T09:38:13.797157Z"
    },
    "papermill": {
     "duration": 0.024578,
     "end_time": "2025-07-22T09:38:13.798754",
     "exception": false,
     "start_time": "2025-07-22T09:38:13.774176",
     "status": "completed"
    },
    "tags": []
   },
   "outputs": [],
   "source": [
    "#test_df[['pageViews','totalHits']]"
   ]
  },
  {
   "cell_type": "code",
   "execution_count": 130,
   "id": "6af16e0c",
   "metadata": {
    "execution": {
     "iopub.execute_input": "2025-07-22T09:38:13.841040Z",
     "iopub.status.busy": "2025-07-22T09:38:13.840843Z",
     "iopub.status.idle": "2025-07-22T09:38:13.856533Z",
     "shell.execute_reply": "2025-07-22T09:38:13.856023Z"
    },
    "papermill": {
     "duration": 0.038003,
     "end_time": "2025-07-22T09:38:13.857669",
     "exception": false,
     "start_time": "2025-07-22T09:38:13.819666",
     "status": "completed"
    },
    "tags": []
   },
   "outputs": [],
   "source": [
    "train_df['avg_interaction'] = (train_df['pageViews'] + train_df['totalHits']) / 2\n",
    "test_df['avg_interaction'] = (train_df['pageViews'] + train_df['totalHits']) / 2"
   ]
  },
  {
   "cell_type": "code",
   "execution_count": null,
   "id": "bc5c574a",
   "metadata": {
    "execution": {
     "iopub.execute_input": "2025-07-22T09:06:50.318726Z",
     "iopub.status.busy": "2025-07-22T09:06:50.318434Z",
     "iopub.status.idle": "2025-07-22T09:06:50.327784Z",
     "shell.execute_reply": "2025-07-22T09:06:50.326970Z",
     "shell.execute_reply.started": "2025-07-22T09:06:50.318704Z"
    },
    "papermill": {
     "duration": 0.021233,
     "end_time": "2025-07-22T09:38:13.899263",
     "exception": false,
     "start_time": "2025-07-22T09:38:13.878030",
     "status": "completed"
    },
    "tags": []
   },
   "outputs": [],
   "source": []
  },
  {
   "cell_type": "code",
   "execution_count": 131,
   "id": "1f1d9e02",
   "metadata": {
    "execution": {
     "iopub.execute_input": "2025-07-22T09:38:13.941539Z",
     "iopub.status.busy": "2025-07-22T09:38:13.941308Z",
     "iopub.status.idle": "2025-07-22T09:38:14.041596Z",
     "shell.execute_reply": "2025-07-22T09:38:14.040641Z"
    },
    "papermill": {
     "duration": 0.122308,
     "end_time": "2025-07-22T09:38:14.042660",
     "exception": false,
     "start_time": "2025-07-22T09:38:13.920352",
     "status": "completed"
    },
    "tags": []
   },
   "outputs": [
    {
     "name": "stdout",
     "output_type": "stream",
     "text": [
      "<class 'pandas.core.frame.DataFrame'>\n",
      "RangeIndex: 116023 entries, 0 to 116022\n",
      "Data columns (total 34 columns):\n",
      " #   Column                      Non-Null Count   Dtype  \n",
      "---  ------                      --------------   -----  \n",
      " 0   trafficSource.isTrueDirect  116023 non-null  int64  \n",
      " 1   purchaseValue               116023 non-null  float64\n",
      " 2   browser                     116023 non-null  object \n",
      " 3   trafficSource.keyword       116023 non-null  object \n",
      " 4   geoCluster                  116023 non-null  object \n",
      " 5   userId                      116023 non-null  int64  \n",
      " 6   trafficSource.campaign      116023 non-null  object \n",
      " 7   geoNetwork.networkDomain    116023 non-null  object \n",
      " 8   gclIdPresent                116023 non-null  int64  \n",
      " 9   sessionNumber               116023 non-null  int64  \n",
      " 10  geoNetwork.region           116023 non-null  object \n",
      " 11  trafficSource               116023 non-null  object \n",
      " 12  sessionId                   116023 non-null  int64  \n",
      " 13  os                          116023 non-null  object \n",
      " 14  geoNetwork.subContinent     116023 non-null  object \n",
      " 15  trafficSource.medium        116023 non-null  object \n",
      " 16  locationCountry             116023 non-null  object \n",
      " 17  geoNetwork.city             116023 non-null  object \n",
      " 18  geoNetwork.metro            116023 non-null  object \n",
      " 19  pageViews                   116023 non-null  float64\n",
      " 20  trafficSource.referralPath  116023 non-null  object \n",
      " 21  totals.bounces              116023 non-null  int64  \n",
      " 22  date                        116023 non-null  int64  \n",
      " 23  deviceType                  116023 non-null  object \n",
      " 24  userChannel                 116023 non-null  object \n",
      " 25  totalHits                   116023 non-null  int64  \n",
      " 26  sessionStart                116023 non-null  int64  \n",
      " 27  geoNetwork.continent        116023 non-null  object \n",
      " 28  device.isMobile             116023 non-null  bool   \n",
      " 29  new_visits                  116023 non-null  int64  \n",
      " 30  sessionNumber_log           116023 non-null  float64\n",
      " 31  pageViews_log               116023 non-null  float64\n",
      " 32  totalHits_log               116023 non-null  float64\n",
      " 33  avg_interaction             116023 non-null  float64\n",
      "dtypes: bool(1), float64(6), int64(10), object(17)\n",
      "memory usage: 29.3+ MB\n"
     ]
    }
   ],
   "source": [
    "train_df.info()"
   ]
  },
  {
   "cell_type": "code",
   "execution_count": 132,
   "id": "3b9b9119",
   "metadata": {
    "execution": {
     "iopub.execute_input": "2025-07-22T09:38:14.085439Z",
     "iopub.status.busy": "2025-07-22T09:38:14.085219Z",
     "iopub.status.idle": "2025-07-22T09:38:14.115936Z",
     "shell.execute_reply": "2025-07-22T09:38:14.115089Z"
    },
    "papermill": {
     "duration": 0.053148,
     "end_time": "2025-07-22T09:38:14.117145",
     "exception": false,
     "start_time": "2025-07-22T09:38:14.063997",
     "status": "completed"
    },
    "tags": []
   },
   "outputs": [
    {
     "name": "stdout",
     "output_type": "stream",
     "text": [
      "<class 'pandas.core.frame.DataFrame'>\n",
      "RangeIndex: 29006 entries, 0 to 29005\n",
      "Data columns (total 33 columns):\n",
      " #   Column                      Non-Null Count  Dtype  \n",
      "---  ------                      --------------  -----  \n",
      " 0   userChannel                 29006 non-null  object \n",
      " 1   date                        29006 non-null  int64  \n",
      " 2   browser                     29006 non-null  object \n",
      " 3   deviceType                  29006 non-null  object \n",
      " 4   device.isMobile             29006 non-null  bool   \n",
      " 5   os                          29006 non-null  object \n",
      " 6   geoNetwork.city             29006 non-null  object \n",
      " 7   geoNetwork.continent        29006 non-null  object \n",
      " 8   locationCountry             29006 non-null  object \n",
      " 9   geoNetwork.metro            29006 non-null  object \n",
      " 10  geoNetwork.networkDomain    29006 non-null  object \n",
      " 11  geoNetwork.region           29006 non-null  object \n",
      " 12  geoNetwork.subContinent     29006 non-null  object \n",
      " 13  totals.bounces              29006 non-null  int64  \n",
      " 14  totalHits                   29006 non-null  int64  \n",
      " 15  new_visits                  29006 non-null  int64  \n",
      " 16  pageViews                   29006 non-null  float64\n",
      " 17  trafficSource.campaign      29006 non-null  object \n",
      " 18  trafficSource.isTrueDirect  29006 non-null  int64  \n",
      " 19  trafficSource.keyword       29006 non-null  object \n",
      " 20  trafficSource.medium        29006 non-null  object \n",
      " 21  trafficSource.referralPath  29006 non-null  object \n",
      " 22  trafficSource               29006 non-null  object \n",
      " 23  sessionId                   29006 non-null  int64  \n",
      " 24  sessionNumber               29006 non-null  int64  \n",
      " 25  sessionStart                29006 non-null  int64  \n",
      " 26  userId                      29006 non-null  int64  \n",
      " 27  geoCluster                  29006 non-null  object \n",
      " 28  gclIdPresent                29006 non-null  int64  \n",
      " 29  sessionNumber_log           29006 non-null  float64\n",
      " 30  pageViews_log               29006 non-null  float64\n",
      " 31  totalHits_log               29006 non-null  float64\n",
      " 32  avg_interaction             29006 non-null  float64\n",
      "dtypes: bool(1), float64(5), int64(10), object(17)\n",
      "memory usage: 7.1+ MB\n"
     ]
    }
   ],
   "source": [
    "test_df.info()"
   ]
  },
  {
   "cell_type": "code",
   "execution_count": 133,
   "id": "27bf3023",
   "metadata": {
    "execution": {
     "iopub.execute_input": "2025-07-22T09:38:14.160793Z",
     "iopub.status.busy": "2025-07-22T09:38:14.160624Z",
     "iopub.status.idle": "2025-07-22T09:38:14.163710Z",
     "shell.execute_reply": "2025-07-22T09:38:14.162985Z"
    },
    "papermill": {
     "duration": 0.025173,
     "end_time": "2025-07-22T09:38:14.164938",
     "exception": false,
     "start_time": "2025-07-22T09:38:14.139765",
     "status": "completed"
    },
    "tags": []
   },
   "outputs": [],
   "source": [
    "#train_df[['date', 'sessionStart', 'sessionId']].dtypes\n"
   ]
  },
  {
   "cell_type": "code",
   "execution_count": 134,
   "id": "bade5fec",
   "metadata": {
    "execution": {
     "iopub.execute_input": "2025-07-22T09:38:14.210329Z",
     "iopub.status.busy": "2025-07-22T09:38:14.210128Z",
     "iopub.status.idle": "2025-07-22T09:38:14.213183Z",
     "shell.execute_reply": "2025-07-22T09:38:14.212517Z"
    },
    "papermill": {
     "duration": 0.028643,
     "end_time": "2025-07-22T09:38:14.214180",
     "exception": false,
     "start_time": "2025-07-22T09:38:14.185537",
     "status": "completed"
    },
    "tags": []
   },
   "outputs": [],
   "source": [
    "# # Convert int to datetime\n",
    "# train_df['date'] = pd.to_datetime(train_df['date'], format='%Y%m%d')\n",
    "\n",
    "# # Convert both date and sessionStart to numeric for correlation\n",
    "# train_df['date_ordinal'] = train_df['date'].map(lambda x: x.toordinal())\n",
    "# train_df['sessionStart_numeric'] = train_df['sessionStart'].astype('int64') // 1e9  # seconds\n"
   ]
  },
  {
   "cell_type": "code",
   "execution_count": 135,
   "id": "2b32c210",
   "metadata": {
    "execution": {
     "iopub.execute_input": "2025-07-22T09:38:14.255823Z",
     "iopub.status.busy": "2025-07-22T09:38:14.255351Z",
     "iopub.status.idle": "2025-07-22T09:38:14.258368Z",
     "shell.execute_reply": "2025-07-22T09:38:14.257691Z"
    },
    "papermill": {
     "duration": 0.024936,
     "end_time": "2025-07-22T09:38:14.259448",
     "exception": false,
     "start_time": "2025-07-22T09:38:14.234512",
     "status": "completed"
    },
    "tags": []
   },
   "outputs": [],
   "source": [
    "#train_df[['date_ordinal', 'sessionStart_numeric']].corr()\n"
   ]
  },
  {
   "cell_type": "code",
   "execution_count": 136,
   "id": "84ffae72",
   "metadata": {
    "execution": {
     "iopub.execute_input": "2025-07-22T09:38:14.300758Z",
     "iopub.status.busy": "2025-07-22T09:38:14.300569Z",
     "iopub.status.idle": "2025-07-22T09:38:14.303356Z",
     "shell.execute_reply": "2025-07-22T09:38:14.302827Z"
    },
    "papermill": {
     "duration": 0.024548,
     "end_time": "2025-07-22T09:38:14.304338",
     "exception": false,
     "start_time": "2025-07-22T09:38:14.279790",
     "status": "completed"
    },
    "tags": []
   },
   "outputs": [],
   "source": [
    "#train_df[['date', 'sessionStart']]"
   ]
  },
  {
   "cell_type": "code",
   "execution_count": 137,
   "id": "2cc6a21c",
   "metadata": {
    "execution": {
     "iopub.execute_input": "2025-07-22T09:38:14.345772Z",
     "iopub.status.busy": "2025-07-22T09:38:14.345584Z",
     "iopub.status.idle": "2025-07-22T09:38:14.348363Z",
     "shell.execute_reply": "2025-07-22T09:38:14.347814Z"
    },
    "papermill": {
     "duration": 0.024533,
     "end_time": "2025-07-22T09:38:14.349341",
     "exception": false,
     "start_time": "2025-07-22T09:38:14.324808",
     "status": "completed"
    },
    "tags": []
   },
   "outputs": [],
   "source": [
    "#train_df['session_delay_seconds'] = (train_df['sessionStart'] - train_df['date']).dt.total_seconds()\n"
   ]
  },
  {
   "cell_type": "code",
   "execution_count": 138,
   "id": "9cab2fba",
   "metadata": {
    "execution": {
     "iopub.execute_input": "2025-07-22T09:38:14.390986Z",
     "iopub.status.busy": "2025-07-22T09:38:14.390788Z",
     "iopub.status.idle": "2025-07-22T09:38:14.393576Z",
     "shell.execute_reply": "2025-07-22T09:38:14.393015Z"
    },
    "papermill": {
     "duration": 0.024687,
     "end_time": "2025-07-22T09:38:14.394561",
     "exception": false,
     "start_time": "2025-07-22T09:38:14.369874",
     "status": "completed"
    },
    "tags": []
   },
   "outputs": [],
   "source": [
    "#train_df['session_delay_days'] = train_df['session_delay_seconds'] / 86400"
   ]
  },
  {
   "cell_type": "code",
   "execution_count": 139,
   "id": "5f8f6302",
   "metadata": {
    "execution": {
     "iopub.execute_input": "2025-07-22T09:38:14.435768Z",
     "iopub.status.busy": "2025-07-22T09:38:14.435580Z",
     "iopub.status.idle": "2025-07-22T09:38:14.438492Z",
     "shell.execute_reply": "2025-07-22T09:38:14.437842Z"
    },
    "papermill": {
     "duration": 0.024654,
     "end_time": "2025-07-22T09:38:14.439515",
     "exception": false,
     "start_time": "2025-07-22T09:38:14.414861",
     "status": "completed"
    },
    "tags": []
   },
   "outputs": [],
   "source": [
    "#train_df['session_delay_days']"
   ]
  },
  {
   "cell_type": "code",
   "execution_count": 140,
   "id": "920fbc3d",
   "metadata": {
    "execution": {
     "iopub.execute_input": "2025-07-22T09:38:14.481203Z",
     "iopub.status.busy": "2025-07-22T09:38:14.481037Z",
     "iopub.status.idle": "2025-07-22T09:38:14.483705Z",
     "shell.execute_reply": "2025-07-22T09:38:14.483169Z"
    },
    "papermill": {
     "duration": 0.024523,
     "end_time": "2025-07-22T09:38:14.484669",
     "exception": false,
     "start_time": "2025-07-22T09:38:14.460146",
     "status": "completed"
    },
    "tags": []
   },
   "outputs": [],
   "source": [
    "#\n"
   ]
  },
  {
   "cell_type": "code",
   "execution_count": 141,
   "id": "ca39365a",
   "metadata": {
    "execution": {
     "iopub.execute_input": "2025-07-22T09:38:14.526098Z",
     "iopub.status.busy": "2025-07-22T09:38:14.525923Z",
     "iopub.status.idle": "2025-07-22T09:38:14.528692Z",
     "shell.execute_reply": "2025-07-22T09:38:14.528174Z"
    },
    "papermill": {
     "duration": 0.024617,
     "end_time": "2025-07-22T09:38:14.529654",
     "exception": false,
     "start_time": "2025-07-22T09:38:14.505037",
     "status": "completed"
    },
    "tags": []
   },
   "outputs": [],
   "source": [
    "#print(train_df['session_delay_days'].describe())\n"
   ]
  },
  {
   "cell_type": "code",
   "execution_count": 142,
   "id": "11a69f70",
   "metadata": {
    "execution": {
     "iopub.execute_input": "2025-07-22T09:38:14.571626Z",
     "iopub.status.busy": "2025-07-22T09:38:14.571224Z",
     "iopub.status.idle": "2025-07-22T09:38:14.573768Z",
     "shell.execute_reply": "2025-07-22T09:38:14.573248Z"
    },
    "papermill": {
     "duration": 0.024535,
     "end_time": "2025-07-22T09:38:14.574795",
     "exception": false,
     "start_time": "2025-07-22T09:38:14.550260",
     "status": "completed"
    },
    "tags": []
   },
   "outputs": [],
   "source": [
    "# train_df['date'] = pd.to_datetime(train_df['date'], unit='us')\n",
    "# print(train_df['date'].min(), train_df['date'].max())\n"
   ]
  },
  {
   "cell_type": "code",
   "execution_count": 143,
   "id": "e418b4e5",
   "metadata": {
    "execution": {
     "iopub.execute_input": "2025-07-22T09:38:14.616503Z",
     "iopub.status.busy": "2025-07-22T09:38:14.616326Z",
     "iopub.status.idle": "2025-07-22T09:38:14.619067Z",
     "shell.execute_reply": "2025-07-22T09:38:14.618553Z"
    },
    "papermill": {
     "duration": 0.02479,
     "end_time": "2025-07-22T09:38:14.620104",
     "exception": false,
     "start_time": "2025-07-22T09:38:14.595314",
     "status": "completed"
    },
    "tags": []
   },
   "outputs": [],
   "source": [
    "# train_df['sessionStart'] = pd.to_datetime(train_df['sessionStart'], unit='ns')\n",
    "# print(train_df['sessionStart'].min(), train_df['sessionStart'].max())"
   ]
  },
  {
   "cell_type": "code",
   "execution_count": 144,
   "id": "80aaf561",
   "metadata": {
    "execution": {
     "iopub.execute_input": "2025-07-22T09:38:14.661843Z",
     "iopub.status.busy": "2025-07-22T09:38:14.661678Z",
     "iopub.status.idle": "2025-07-22T09:38:14.664534Z",
     "shell.execute_reply": "2025-07-22T09:38:14.664009Z"
    },
    "papermill": {
     "duration": 0.02475,
     "end_time": "2025-07-22T09:38:14.665571",
     "exception": false,
     "start_time": "2025-07-22T09:38:14.640821",
     "status": "completed"
    },
    "tags": []
   },
   "outputs": [],
   "source": [
    "# # Convert to datetime if not already\n",
    "# train_df['sessionStart'] = pd.to_datetime(train_df['sessionStart'], unit='us')\n",
    "\n",
    "# # Extract useful features\n",
    "# train_df['session_day_of_week'] = train_df['sessionStart'].dt.dayofweek  # Monday=0, Sunday=6\n",
    "# train_df['session_hour'] = train_df['sessionStart'].dt.hour            # Hour of the day 0-23\n",
    "# train_df['session_day'] = train_df['sessionStart'].dt.day              # Day of the month\n",
    "# train_df['session_month'] = train_df['sessionStart'].dt.month          # Month 1-12\n",
    "# train_df['session_weekofyear'] = train_df['sessionStart'].dt.isocalendar().week  # Week number\n",
    "# train_df['session_is_weekend'] = (train_df['session_day_of_week'] >= 5).astype(int)  # 1 if Sat/Sun else 0\n"
   ]
  },
  {
   "cell_type": "code",
   "execution_count": 145,
   "id": "545abb05",
   "metadata": {
    "execution": {
     "iopub.execute_input": "2025-07-22T09:38:14.708048Z",
     "iopub.status.busy": "2025-07-22T09:38:14.707477Z",
     "iopub.status.idle": "2025-07-22T09:38:14.710638Z",
     "shell.execute_reply": "2025-07-22T09:38:14.709978Z"
    },
    "papermill": {
     "duration": 0.025502,
     "end_time": "2025-07-22T09:38:14.711654",
     "exception": false,
     "start_time": "2025-07-22T09:38:14.686152",
     "status": "completed"
    },
    "tags": []
   },
   "outputs": [],
   "source": [
    "# # Convert to datetime if not already\n",
    "# test_df['sessionStart'] = pd.to_datetime(test_df['sessionStart'])\n",
    "\n",
    "# # Extract time features\n",
    "# test_df['session_day_of_week'] = test_df['sessionStart'].dt.dayofweek  # Monday=0, Sunday=6\n",
    "# test_df['session_hour'] = test_df['sessionStart'].dt.hour              # Hour of the day 0-23\n",
    "# test_df['session_day'] = test_df['sessionStart'].dt.day                # Day of the month\n",
    "# test_df['session_month'] = test_df['sessionStart'].dt.month            # Month 1-12\n",
    "# test_df['session_weekofyear'] = test_df['sessionStart'].dt.isocalendar().week  # Week number\n",
    "# test_df['session_is_weekend'] = (test_df['session_day_of_week'] >= 5).astype(int)  # 1 if Sat/Sun else 0\n"
   ]
  },
  {
   "cell_type": "code",
   "execution_count": 146,
   "id": "93dc4791",
   "metadata": {
    "execution": {
     "iopub.execute_input": "2025-07-22T09:38:14.753343Z",
     "iopub.status.busy": "2025-07-22T09:38:14.753094Z",
     "iopub.status.idle": "2025-07-22T09:38:14.755748Z",
     "shell.execute_reply": "2025-07-22T09:38:14.755252Z"
    },
    "papermill": {
     "duration": 0.025018,
     "end_time": "2025-07-22T09:38:14.756995",
     "exception": false,
     "start_time": "2025-07-22T09:38:14.731977",
     "status": "completed"
    },
    "tags": []
   },
   "outputs": [],
   "source": [
    "# train_df[['sessionStart','session_day_of_week','session_hour','session_day','session_month','session_weekofyear','session_is_weekend']]"
   ]
  },
  {
   "cell_type": "code",
   "execution_count": 147,
   "id": "574e3fc8",
   "metadata": {
    "execution": {
     "iopub.execute_input": "2025-07-22T09:38:14.798762Z",
     "iopub.status.busy": "2025-07-22T09:38:14.798571Z",
     "iopub.status.idle": "2025-07-22T09:38:14.801398Z",
     "shell.execute_reply": "2025-07-22T09:38:14.800735Z"
    },
    "papermill": {
     "duration": 0.024753,
     "end_time": "2025-07-22T09:38:14.802418",
     "exception": false,
     "start_time": "2025-07-22T09:38:14.777665",
     "status": "completed"
    },
    "tags": []
   },
   "outputs": [],
   "source": [
    "# # Drop columns from train and test DataFrames\n",
    "# train_df = train_df.drop(columns=['sessionStart', 'date'], errors='ignore')\n",
    "# test_df = test_df.drop(columns=['sessionStart', 'date'], errors='ignore')\n"
   ]
  },
  {
   "cell_type": "code",
   "execution_count": 148,
   "id": "ca99e592",
   "metadata": {
    "execution": {
     "iopub.execute_input": "2025-07-22T09:38:14.845383Z",
     "iopub.status.busy": "2025-07-22T09:38:14.845008Z",
     "iopub.status.idle": "2025-07-22T09:38:14.848148Z",
     "shell.execute_reply": "2025-07-22T09:38:14.847457Z"
    },
    "papermill": {
     "duration": 0.025227,
     "end_time": "2025-07-22T09:38:14.849190",
     "exception": false,
     "start_time": "2025-07-22T09:38:14.823963",
     "status": "completed"
    },
    "tags": []
   },
   "outputs": [],
   "source": [
    "# # Select numeric features\n",
    "# numeric_cols = train_df.select_dtypes(include=['number', 'int32', 'int64', 'float64', 'UInt32'])\n",
    "\n",
    "# # Compute correlation matrix\n",
    "# corr = numeric_cols.corr()\n",
    "\n",
    "# # Plot heatmap\n",
    "# plt.figure(figsize=(12, 8))\n",
    "# sns.heatmap(corr, annot=True, fmt=\".2f\", cmap='coolwarm', linewidths=0.5)\n",
    "# plt.title('Correlation Heatmap of Numeric Features')\n",
    "# plt.show()"
   ]
  },
  {
   "cell_type": "code",
   "execution_count": 149,
   "id": "06644412",
   "metadata": {
    "execution": {
     "iopub.execute_input": "2025-07-22T09:38:14.890630Z",
     "iopub.status.busy": "2025-07-22T09:38:14.890439Z",
     "iopub.status.idle": "2025-07-22T09:38:14.893270Z",
     "shell.execute_reply": "2025-07-22T09:38:14.892627Z"
    },
    "papermill": {
     "duration": 0.025057,
     "end_time": "2025-07-22T09:38:14.894460",
     "exception": false,
     "start_time": "2025-07-22T09:38:14.869403",
     "status": "completed"
    },
    "tags": []
   },
   "outputs": [],
   "source": [
    "#print(numeric_cols.columns.tolist())\n"
   ]
  },
  {
   "cell_type": "code",
   "execution_count": 150,
   "id": "b8d7c2d3",
   "metadata": {
    "execution": {
     "iopub.execute_input": "2025-07-22T09:38:14.937157Z",
     "iopub.status.busy": "2025-07-22T09:38:14.936791Z",
     "iopub.status.idle": "2025-07-22T09:38:14.939732Z",
     "shell.execute_reply": "2025-07-22T09:38:14.939057Z"
    },
    "papermill": {
     "duration": 0.024978,
     "end_time": "2025-07-22T09:38:14.940737",
     "exception": false,
     "start_time": "2025-07-22T09:38:14.915759",
     "status": "completed"
    },
    "tags": []
   },
   "outputs": [],
   "source": [
    "# print(numeric_cols[['session_hour', 'session_day', 'session_month', 'session_weekofyear']].std())\n"
   ]
  },
  {
   "cell_type": "code",
   "execution_count": 151,
   "id": "ddbb4978",
   "metadata": {
    "execution": {
     "iopub.execute_input": "2025-07-22T09:38:14.982558Z",
     "iopub.status.busy": "2025-07-22T09:38:14.982360Z",
     "iopub.status.idle": "2025-07-22T09:38:14.985065Z",
     "shell.execute_reply": "2025-07-22T09:38:14.984596Z"
    },
    "papermill": {
     "duration": 0.024774,
     "end_time": "2025-07-22T09:38:14.986080",
     "exception": false,
     "start_time": "2025-07-22T09:38:14.961306",
     "status": "completed"
    },
    "tags": []
   },
   "outputs": [],
   "source": [
    "# print(train_df['session_hour'].unique())\n",
    "# print(train_df['session_day'].unique())\n",
    "# print(train_df['session_month'].unique())\n",
    "# print(train_df['session_weekofyear'].unique())\n"
   ]
  },
  {
   "cell_type": "code",
   "execution_count": 152,
   "id": "8d5bfe3a",
   "metadata": {
    "execution": {
     "iopub.execute_input": "2025-07-22T09:38:15.028739Z",
     "iopub.status.busy": "2025-07-22T09:38:15.028345Z",
     "iopub.status.idle": "2025-07-22T09:38:15.031316Z",
     "shell.execute_reply": "2025-07-22T09:38:15.030724Z"
    },
    "papermill": {
     "duration": 0.025074,
     "end_time": "2025-07-22T09:38:15.032272",
     "exception": false,
     "start_time": "2025-07-22T09:38:15.007198",
     "status": "completed"
    },
    "tags": []
   },
   "outputs": [],
   "source": [
    "# from sklearn.ensemble import RandomForestRegressor\n",
    "\n",
    "# # Prepare data\n",
    "# X = train_df[numeric_cols.drop('purchaseValue', axis=1).columns]\n",
    "# y = train_df['purchaseValue']\n",
    "\n",
    "# # Fit model\n",
    "# model = RandomForestRegressor(random_state=42)\n",
    "# model.fit(X, y)\n",
    "\n",
    "# # Get feature importances\n",
    "# importances = pd.Series(model.feature_importances_, index=X.columns)\n",
    "# importances = importances.sort_values(ascending=False)\n",
    "\n",
    "# # Show top 10\n",
    "# print(\"Top 10 important numeric features:\")\n",
    "# print(importances.head(10))\n"
   ]
  },
  {
   "cell_type": "code",
   "execution_count": 153,
   "id": "83a0f1c1",
   "metadata": {
    "execution": {
     "iopub.execute_input": "2025-07-22T09:38:15.074792Z",
     "iopub.status.busy": "2025-07-22T09:38:15.074602Z",
     "iopub.status.idle": "2025-07-22T09:38:15.077310Z",
     "shell.execute_reply": "2025-07-22T09:38:15.076820Z"
    },
    "papermill": {
     "duration": 0.025221,
     "end_time": "2025-07-22T09:38:15.078319",
     "exception": false,
     "start_time": "2025-07-22T09:38:15.053098",
     "status": "completed"
    },
    "tags": []
   },
   "outputs": [],
   "source": [
    "# # Correlation with target\n",
    "# target_corr = corr['purchaseValue'].drop('purchaseValue')  # remove self-correlation\n",
    "\n",
    "# # Sort by absolute correlation value (strongest relationships)\n",
    "# top_features = target_corr.abs().sort_values(ascending=False)\n",
    "\n",
    "# # Print top N features\n",
    "# print(\"Top correlated numeric features with 'purchaseValue':\")\n",
    "# print(top_features.head(10))"
   ]
  },
  {
   "cell_type": "code",
   "execution_count": 154,
   "id": "eda6e3f2",
   "metadata": {
    "execution": {
     "iopub.execute_input": "2025-07-22T09:38:15.120505Z",
     "iopub.status.busy": "2025-07-22T09:38:15.120263Z",
     "iopub.status.idle": "2025-07-22T09:38:15.122891Z",
     "shell.execute_reply": "2025-07-22T09:38:15.122432Z"
    },
    "papermill": {
     "duration": 0.024967,
     "end_time": "2025-07-22T09:38:15.123982",
     "exception": false,
     "start_time": "2025-07-22T09:38:15.099015",
     "status": "completed"
    },
    "tags": []
   },
   "outputs": [],
   "source": [
    "# cat_cols = train_df.select_dtypes(include='object').columns"
   ]
  },
  {
   "cell_type": "code",
   "execution_count": 155,
   "id": "a606debd",
   "metadata": {
    "execution": {
     "iopub.execute_input": "2025-07-22T09:38:15.165960Z",
     "iopub.status.busy": "2025-07-22T09:38:15.165760Z",
     "iopub.status.idle": "2025-07-22T09:38:15.168803Z",
     "shell.execute_reply": "2025-07-22T09:38:15.168140Z"
    },
    "papermill": {
     "duration": 0.025192,
     "end_time": "2025-07-22T09:38:15.169787",
     "exception": false,
     "start_time": "2025-07-22T09:38:15.144595",
     "status": "completed"
    },
    "tags": []
   },
   "outputs": [],
   "source": [
    "# encoded_df = train_df.copy()\n",
    "\n",
    "# for col in cat_cols:\n",
    "#     target_mean = encoded_df.groupby(col)['purchaseValue'].mean()\n",
    "#     encoded_df[col + '_encoded'] = encoded_df[col].map(target_mean)\n"
   ]
  },
  {
   "cell_type": "code",
   "execution_count": 156,
   "id": "51d18c09",
   "metadata": {
    "execution": {
     "iopub.execute_input": "2025-07-22T09:38:15.211504Z",
     "iopub.status.busy": "2025-07-22T09:38:15.211251Z",
     "iopub.status.idle": "2025-07-22T09:38:15.214327Z",
     "shell.execute_reply": "2025-07-22T09:38:15.213639Z"
    },
    "papermill": {
     "duration": 0.025807,
     "end_time": "2025-07-22T09:38:15.216112",
     "exception": false,
     "start_time": "2025-07-22T09:38:15.190305",
     "status": "completed"
    },
    "tags": []
   },
   "outputs": [],
   "source": [
    "# encoded_cols = [col for col in encoded_df.columns if col.endswith('_encoded')]\n",
    "# correlations = encoded_df[encoded_cols + ['purchaseValue']].corr()['purchaseValue'].drop('purchaseValue')\n"
   ]
  },
  {
   "cell_type": "code",
   "execution_count": 157,
   "id": "6ad7d58b",
   "metadata": {
    "execution": {
     "iopub.execute_input": "2025-07-22T09:38:15.259007Z",
     "iopub.status.busy": "2025-07-22T09:38:15.258503Z",
     "iopub.status.idle": "2025-07-22T09:38:15.261221Z",
     "shell.execute_reply": "2025-07-22T09:38:15.260696Z"
    },
    "papermill": {
     "duration": 0.024642,
     "end_time": "2025-07-22T09:38:15.262345",
     "exception": false,
     "start_time": "2025-07-22T09:38:15.237703",
     "status": "completed"
    },
    "tags": []
   },
   "outputs": [],
   "source": [
    "# correlations.sort_values(ascending=False)"
   ]
  },
  {
   "cell_type": "code",
   "execution_count": 158,
   "id": "22acb909",
   "metadata": {
    "execution": {
     "iopub.execute_input": "2025-07-22T09:38:15.304221Z",
     "iopub.status.busy": "2025-07-22T09:38:15.304004Z",
     "iopub.status.idle": "2025-07-22T09:38:15.306927Z",
     "shell.execute_reply": "2025-07-22T09:38:15.306306Z"
    },
    "papermill": {
     "duration": 0.024672,
     "end_time": "2025-07-22T09:38:15.307891",
     "exception": false,
     "start_time": "2025-07-22T09:38:15.283219",
     "status": "completed"
    },
    "tags": []
   },
   "outputs": [],
   "source": [
    "#train_df['purchaseValue_imputed'] = train_df['purchaseValue'].fillna(0)\n"
   ]
  },
  {
   "cell_type": "code",
   "execution_count": 159,
   "id": "5fd6efe6",
   "metadata": {
    "execution": {
     "iopub.execute_input": "2025-07-22T09:38:15.350163Z",
     "iopub.status.busy": "2025-07-22T09:38:15.350000Z",
     "iopub.status.idle": "2025-07-22T09:38:15.352846Z",
     "shell.execute_reply": "2025-07-22T09:38:15.352320Z"
    },
    "papermill": {
     "duration": 0.025514,
     "end_time": "2025-07-22T09:38:15.353860",
     "exception": false,
     "start_time": "2025-07-22T09:38:15.328346",
     "status": "completed"
    },
    "tags": []
   },
   "outputs": [],
   "source": [
    "# print(\"Missing values:\", train_df['purchaseValue'].isna().sum())\n",
    "# print(\"Minimum value:\", train_df['purchaseValue'].min())\n",
    "# print(\"Maximum value:\", train_df['purchaseValue'].max())\n",
    "#  # Should return 0\n"
   ]
  },
  {
   "cell_type": "code",
   "execution_count": 160,
   "id": "9fb2d7d7",
   "metadata": {
    "execution": {
     "iopub.execute_input": "2025-07-22T09:38:15.396156Z",
     "iopub.status.busy": "2025-07-22T09:38:15.395929Z",
     "iopub.status.idle": "2025-07-22T09:38:15.398605Z",
     "shell.execute_reply": "2025-07-22T09:38:15.398109Z"
    },
    "papermill": {
     "duration": 0.024623,
     "end_time": "2025-07-22T09:38:15.399532",
     "exception": false,
     "start_time": "2025-07-22T09:38:15.374909",
     "status": "completed"
    },
    "tags": []
   },
   "outputs": [],
   "source": [
    "# zero_ratio = (train_df['purchaseValue'] == 0).mean()\n",
    "# print(f\"Zero values: {zero_ratio:.2%}\")\n"
   ]
  },
  {
   "cell_type": "code",
   "execution_count": 161,
   "id": "4cdfee04",
   "metadata": {
    "execution": {
     "iopub.execute_input": "2025-07-22T09:38:15.441203Z",
     "iopub.status.busy": "2025-07-22T09:38:15.441013Z",
     "iopub.status.idle": "2025-07-22T09:38:15.535785Z",
     "shell.execute_reply": "2025-07-22T09:38:15.534908Z"
    },
    "papermill": {
     "duration": 0.117156,
     "end_time": "2025-07-22T09:38:15.536985",
     "exception": false,
     "start_time": "2025-07-22T09:38:15.419829",
     "status": "completed"
    },
    "tags": []
   },
   "outputs": [
    {
     "name": "stdout",
     "output_type": "stream",
     "text": [
      "<class 'pandas.core.frame.DataFrame'>\n",
      "RangeIndex: 116023 entries, 0 to 116022\n",
      "Data columns (total 34 columns):\n",
      " #   Column                      Non-Null Count   Dtype  \n",
      "---  ------                      --------------   -----  \n",
      " 0   trafficSource.isTrueDirect  116023 non-null  int64  \n",
      " 1   purchaseValue               116023 non-null  float64\n",
      " 2   browser                     116023 non-null  object \n",
      " 3   trafficSource.keyword       116023 non-null  object \n",
      " 4   geoCluster                  116023 non-null  object \n",
      " 5   userId                      116023 non-null  int64  \n",
      " 6   trafficSource.campaign      116023 non-null  object \n",
      " 7   geoNetwork.networkDomain    116023 non-null  object \n",
      " 8   gclIdPresent                116023 non-null  int64  \n",
      " 9   sessionNumber               116023 non-null  int64  \n",
      " 10  geoNetwork.region           116023 non-null  object \n",
      " 11  trafficSource               116023 non-null  object \n",
      " 12  sessionId                   116023 non-null  int64  \n",
      " 13  os                          116023 non-null  object \n",
      " 14  geoNetwork.subContinent     116023 non-null  object \n",
      " 15  trafficSource.medium        116023 non-null  object \n",
      " 16  locationCountry             116023 non-null  object \n",
      " 17  geoNetwork.city             116023 non-null  object \n",
      " 18  geoNetwork.metro            116023 non-null  object \n",
      " 19  pageViews                   116023 non-null  float64\n",
      " 20  trafficSource.referralPath  116023 non-null  object \n",
      " 21  totals.bounces              116023 non-null  int64  \n",
      " 22  date                        116023 non-null  int64  \n",
      " 23  deviceType                  116023 non-null  object \n",
      " 24  userChannel                 116023 non-null  object \n",
      " 25  totalHits                   116023 non-null  int64  \n",
      " 26  sessionStart                116023 non-null  int64  \n",
      " 27  geoNetwork.continent        116023 non-null  object \n",
      " 28  device.isMobile             116023 non-null  bool   \n",
      " 29  new_visits                  116023 non-null  int64  \n",
      " 30  sessionNumber_log           116023 non-null  float64\n",
      " 31  pageViews_log               116023 non-null  float64\n",
      " 32  totalHits_log               116023 non-null  float64\n",
      " 33  avg_interaction             116023 non-null  float64\n",
      "dtypes: bool(1), float64(6), int64(10), object(17)\n",
      "memory usage: 29.3+ MB\n"
     ]
    }
   ],
   "source": [
    "train_df.info()"
   ]
  },
  {
   "cell_type": "code",
   "execution_count": 162,
   "id": "3e3cde14",
   "metadata": {
    "execution": {
     "iopub.execute_input": "2025-07-22T09:38:15.578780Z",
     "iopub.status.busy": "2025-07-22T09:38:15.578580Z",
     "iopub.status.idle": "2025-07-22T09:38:15.581585Z",
     "shell.execute_reply": "2025-07-22T09:38:15.581065Z"
    },
    "papermill": {
     "duration": 0.024939,
     "end_time": "2025-07-22T09:38:15.582561",
     "exception": false,
     "start_time": "2025-07-22T09:38:15.557622",
     "status": "completed"
    },
    "tags": []
   },
   "outputs": [],
   "source": [
    "# #lower = train_df['purchaseValue'].quantile(0.01)\n",
    "# #upper = train_df['purchaseValue'].quantile(0.99)\n",
    "# #filtered_df = train_df[(train_df['purchaseValue'] >= lower) & (train_df['purchaseValue'] <= upper)]\n",
    "\n",
    "# purchase_df = train_df[train_df['purchaseValue'] > 0].copy()\n",
    "# purchase_df['log_purchase'] = np.log1p(purchase_df['purchaseValue'])\n",
    "# print(\"Minimum value:\", purchase_df['purchaseValue'].min())\n",
    "# print(\"Maximum value:\", purchase_df['purchaseValue'].max())\n",
    "# print(\"Standard deviation:\", purchase_df['purchaseValue'].std())\n",
    "# print(\"Log standard deviation:\", purchase_df['log_purchase'].std())\n"
   ]
  },
  {
   "cell_type": "code",
   "execution_count": 163,
   "id": "fe92051e",
   "metadata": {
    "execution": {
     "iopub.execute_input": "2025-07-22T09:38:15.624603Z",
     "iopub.status.busy": "2025-07-22T09:38:15.624394Z",
     "iopub.status.idle": "2025-07-22T09:38:15.627319Z",
     "shell.execute_reply": "2025-07-22T09:38:15.626776Z"
    },
    "papermill": {
     "duration": 0.025268,
     "end_time": "2025-07-22T09:38:15.628298",
     "exception": false,
     "start_time": "2025-07-22T09:38:15.603030",
     "status": "completed"
    },
    "tags": []
   },
   "outputs": [],
   "source": [
    "# import seaborn as sns\n",
    "# import matplotlib.pyplot as plt\n",
    "\n",
    "# sns.histplot(data=purchase_df, x='purchaseValue', bins=100, kde=True)\n",
    "# plt.title('Distribution of Purchase Value')\n",
    "# plt.xlabel('Purchase Value')\n",
    "# plt.ylabel('Count')\n",
    "# plt.show()"
   ]
  },
  {
   "cell_type": "code",
   "execution_count": 164,
   "id": "82c1e14a",
   "metadata": {
    "execution": {
     "iopub.execute_input": "2025-07-22T09:38:15.670212Z",
     "iopub.status.busy": "2025-07-22T09:38:15.670033Z",
     "iopub.status.idle": "2025-07-22T09:38:15.672798Z",
     "shell.execute_reply": "2025-07-22T09:38:15.672325Z"
    },
    "papermill": {
     "duration": 0.025155,
     "end_time": "2025-07-22T09:38:15.673864",
     "exception": false,
     "start_time": "2025-07-22T09:38:15.648709",
     "status": "completed"
    },
    "tags": []
   },
   "outputs": [],
   "source": [
    "# sns.boxplot(data=purchase_df, x='purchaseValue')\n",
    "# plt.title('Boxplot of Purchase Value')\n",
    "# plt.xlabel('Purchase Value')\n",
    "# plt.show()"
   ]
  },
  {
   "cell_type": "code",
   "execution_count": 165,
   "id": "86bf4844",
   "metadata": {
    "execution": {
     "iopub.execute_input": "2025-07-22T09:38:15.716106Z",
     "iopub.status.busy": "2025-07-22T09:38:15.715921Z",
     "iopub.status.idle": "2025-07-22T09:38:15.718910Z",
     "shell.execute_reply": "2025-07-22T09:38:15.718241Z"
    },
    "papermill": {
     "duration": 0.025331,
     "end_time": "2025-07-22T09:38:15.720000",
     "exception": false,
     "start_time": "2025-07-22T09:38:15.694669",
     "status": "completed"
    },
    "tags": []
   },
   "outputs": [],
   "source": [
    "# sns.boxplot(data=train_df, x=np.log1p(train_df['purchaseValue']))\n",
    "# plt.title(\"Boxplot of Log-Transformed Purchase Value\")\n",
    "# plt.xlabel(\"Log(Purchase Value + 1)\")\n",
    "# plt.show()"
   ]
  },
  {
   "cell_type": "markdown",
   "id": "59f7d8a1",
   "metadata": {
    "papermill": {
     "duration": 0.021968,
     "end_time": "2025-07-22T09:38:15.763753",
     "exception": false,
     "start_time": "2025-07-22T09:38:15.741785",
     "status": "completed"
    },
    "tags": []
   },
   "source": [
    "### Linear Regression"
   ]
  },
  {
   "cell_type": "code",
   "execution_count": 166,
   "id": "9f587730",
   "metadata": {
    "execution": {
     "iopub.execute_input": "2025-07-22T09:38:15.809379Z",
     "iopub.status.busy": "2025-07-22T09:38:15.809149Z",
     "iopub.status.idle": "2025-07-22T09:38:15.813553Z",
     "shell.execute_reply": "2025-07-22T09:38:15.813041Z"
    },
    "papermill": {
     "duration": 0.028077,
     "end_time": "2025-07-22T09:38:15.814672",
     "exception": false,
     "start_time": "2025-07-22T09:38:15.786595",
     "status": "completed"
    },
    "tags": []
   },
   "outputs": [],
   "source": [
    "# import numpy as np\n",
    "# import pandas as pd\n",
    "# import matplotlib.pyplot as plt\n",
    "# import seaborn as sns\n",
    "\n",
    "# from sklearn.model_selection import train_test_split, cross_val_score\n",
    "# from sklearn.compose import ColumnTransformer\n",
    "# from sklearn.preprocessing import OneHotEncoder, StandardScaler\n",
    "# from sklearn.pipeline import Pipeline\n",
    "# from sklearn.impute import SimpleImputer\n",
    "# from sklearn.linear_model import LinearRegression\n",
    "# from sklearn.metrics import r2_score\n",
    "\n",
    "# # Step 1: Feature selection\n",
    "# cat_features = [\n",
    "#     'trafficSource', 'locationCountry', 'geoNetwork.subContinent',\n",
    "#     'userChannel', 'trafficSource.medium'\n",
    "# ]\n",
    "\n",
    "# num_features = ['totalHits_log', 'pageViews_log','sessionNumber_log','new_visits','totals.bounces','trafficSource.isTrueDirect']\n",
    "# selected_features = cat_features + num_features\n",
    "\n",
    "# # Step 2: Remove top 1% outliers from target\n",
    "# #threshold = train_df['purchaseValue'].quantile(0.99)\n",
    "# #filtered_df = train_df[train_df['purchaseValue'] < threshold]\n",
    "\n",
    "# purchase_df = train_df[train_df['purchaseValue'] > 0].copy()\n",
    "# purchase_df['log_purchase'] = np.log1p(purchase_df['purchaseValue'])\n",
    "\n",
    "# # Step 3: Define features (X) and target (y)\n",
    "# X = purchase_df[selected_features].copy()\n",
    "# y = purchase_df['log_purchase']\n",
    "\n",
    "# # Step 4: Train-test split\n",
    "# X_train, X_test, y_train, y_test = train_test_split(X, y, test_size=0.25, random_state=42)\n",
    "\n",
    "# # Step 5: Preprocessing setup\n",
    "# cat_cols = list(set(X_train.select_dtypes(include='object').columns) & set(cat_features))\n",
    "# num_cols = list(set(X_train.select_dtypes(include='number').columns) & set(num_features))\n",
    "\n",
    "# X_train[cat_cols] = X_train[cat_cols].astype(str)\n",
    "# X_test[cat_cols] = X_test[cat_cols].astype(str)\n",
    "\n",
    "# numeric_transformer = Pipeline(steps=[\n",
    "#     ('imputer', SimpleImputer(strategy='mean')),\n",
    "#     ('scaler', StandardScaler())\n",
    "# ])\n",
    "\n",
    "# categorical_transformer = Pipeline(steps=[\n",
    "#     ('imputer', SimpleImputer(strategy='most_frequent')),\n",
    "#     ('onehot', OneHotEncoder(handle_unknown='ignore'))\n",
    "# ])\n",
    "\n",
    "# preprocessor = ColumnTransformer(transformers=[\n",
    "#     ('num', numeric_transformer, num_cols),\n",
    "#     ('cat', categorical_transformer, cat_cols)\n",
    "# ])\n",
    "\n",
    "# # Step 6: Build model pipeline\n",
    "# pipeline = Pipeline(steps=[\n",
    "#     ('preprocessor', preprocessor),\n",
    "#     ('model', LinearRegression())\n",
    "# ])\n",
    "\n",
    "# # Step 7: Cross-validation\n",
    "# scores = cross_val_score(pipeline, X_train, y_train, cv=5, scoring='r2')\n",
    "# print(f\"Cross-validation R² scores: {scores}\")\n",
    "# print(f\"Average R²: {scores.mean():.4f}\")\n",
    "\n",
    "# # Step 8: Fit model and predict\n",
    "# pipeline.fit(X_train, y_train)\n",
    "\n",
    "# y_train_pred = pipeline.predict(X_train)\n",
    "# y_test_pred = pipeline.predict(X_test)\n",
    "\n",
    "# # Step 9: Evaluate model\n",
    "# r2 = r2_score(y_test, y_test_pred)\n",
    "# print(f\"Test R²: {r2:.4f}\")\n",
    "\n",
    "# # Step 10: Residual plot\n",
    "# residuals = y_train - y_train_pred\n",
    "# plt.figure(figsize=(8, 5))\n",
    "# sns.scatterplot(x=y_train_pred, y=residuals)\n",
    "# plt.axhline(y=0, color='r', linestyle='--')\n",
    "# plt.xlabel(\"Predicted purchaseValue (Train)\")\n",
    "# plt.ylabel(\"Residuals\")\n",
    "# plt.title(\"Residual Plot (Train Data)\")\n",
    "# plt.show()\n",
    "\n",
    "# # Step 11: Predict on final test set (Kaggle/test_df)\n",
    "# test_df[cat_cols] = test_df[cat_cols].astype(str)\n",
    "# y_final_pred = pipeline.predict(test_df[selected_features])\n",
    "# y_final_pred = np.maximum(0, y_final_pred)\n",
    "\n",
    "# # Step 12: Create submission file\n",
    "# submission = pd.DataFrame({\n",
    "#     \"id\": np.arange(len(y_final_pred)),  # Replace with test_df[\"id\"] if available\n",
    "#     \"purchaseValue\": y_final_pred.round().astype(int)\n",
    "# })\n",
    "\n",
    "# submission.to_csv(\"submission.csv\", index=False)\n",
    "# print(\"Submission file created!\")\n",
    "\n",
    "# print(submission.head())\n",
    "# print(submission.info())\n"
   ]
  },
  {
   "cell_type": "code",
   "execution_count": 167,
   "id": "7c0ecf7e",
   "metadata": {
    "execution": {
     "iopub.execute_input": "2025-07-22T09:38:15.858015Z",
     "iopub.status.busy": "2025-07-22T09:38:15.857829Z",
     "iopub.status.idle": "2025-07-22T09:38:15.862429Z",
     "shell.execute_reply": "2025-07-22T09:38:15.861887Z"
    },
    "papermill": {
     "duration": 0.026953,
     "end_time": "2025-07-22T09:38:15.863512",
     "exception": false,
     "start_time": "2025-07-22T09:38:15.836559",
     "status": "completed"
    },
    "tags": []
   },
   "outputs": [],
   "source": [
    "# import numpy as np\n",
    "# import pandas as pd\n",
    "# import matplotlib.pyplot as plt\n",
    "# import seaborn as sns\n",
    "\n",
    "# from sklearn.model_selection import train_test_split, cross_val_score\n",
    "# from sklearn.compose import ColumnTransformer\n",
    "# from sklearn.preprocessing import OneHotEncoder, StandardScaler\n",
    "# from sklearn.pipeline import Pipeline\n",
    "# from sklearn.impute import SimpleImputer\n",
    "# from sklearn.linear_model import LinearRegression\n",
    "# from sklearn.metrics import r2_score\n",
    "\n",
    "# # Step 1: Feature selection\n",
    "# cat_features = [\n",
    "#     'trafficSource', 'locationCountry', 'geoNetwork.subContinent',\n",
    "#     'userChannel', 'trafficSource.medium'\n",
    "# ]\n",
    "\n",
    "# num_features = ['totalHits_log', 'pageViews_log', 'sessionNumber_log', 'new_visits', 'totals.bounces', 'trafficSource.isTrueDirect']\n",
    "# selected_features = cat_features + num_features\n",
    "\n",
    "# # Step 2: Use existing log-transformed target (do NOT filter out 0s)\n",
    "# # Assume 'purchaseValue_log' already exists in train_df\n",
    "# df = train_df.copy()\n",
    "# if 'purchaseValue_log' not in df.columns:\n",
    "#     df['purchaseValue_log'] = np.log1p(df['purchaseValue'])\n",
    "\n",
    "# # Step 3: Define features (X) and target (y)\n",
    "# X = df[selected_features].copy()\n",
    "# y = df['purchaseValue_log'].copy()\n",
    "\n",
    "# # Drop any rows with missing target\n",
    "# not_null_indices = y.notnull()\n",
    "# X = X.loc[not_null_indices].copy()\n",
    "# y = y.loc[not_null_indices].copy()\n",
    "\n",
    "# # Step 4: Train-test split\n",
    "# X_train, X_test, y_train, y_test = train_test_split(X, y, test_size=0.25, random_state=42)\n",
    "\n",
    "# # Step 5: Preprocessing setup\n",
    "# cat_cols = list(set(X_train.select_dtypes(include='object').columns) & set(cat_features))\n",
    "# num_cols = list(set(X_train.select_dtypes(include='number').columns) & set(num_features))\n",
    "\n",
    "# X_train[cat_cols] = X_train[cat_cols].astype(str)\n",
    "# X_test[cat_cols] = X_test[cat_cols].astype(str)\n",
    "\n",
    "# numeric_transformer = Pipeline(steps=[\n",
    "#     ('imputer', SimpleImputer(strategy='mean')),\n",
    "#     ('scaler', StandardScaler())\n",
    "# ])\n",
    "\n",
    "# categorical_transformer = Pipeline(steps=[\n",
    "#     ('imputer', SimpleImputer(strategy='most_frequent')),\n",
    "#     ('onehot', OneHotEncoder(handle_unknown='ignore'))\n",
    "# ])\n",
    "\n",
    "# preprocessor = ColumnTransformer(transformers=[\n",
    "#     ('num', numeric_transformer, num_cols),\n",
    "#     ('cat', categorical_transformer, cat_cols)\n",
    "# ])\n",
    "\n",
    "# # Step 6: Build model pipeline\n",
    "# pipeline = Pipeline(steps=[\n",
    "#     ('preprocessor', preprocessor),\n",
    "#     ('model', LinearRegression())\n",
    "# ])\n",
    "\n",
    "# # Step 7: Cross-validation (optional)\n",
    "# scores = cross_val_score(pipeline, X_train, y_train, cv=5, scoring='r2')\n",
    "# print(f\"Cross-validation R² scores: {scores}\")\n",
    "# print(f\"Average R²: {scores.mean():.4f}\")\n",
    "\n",
    "# # Step 8: Fit model and predict\n",
    "# pipeline.fit(X_train, y_train)\n",
    "\n",
    "# y_train_pred = pipeline.predict(X_train)\n",
    "# y_test_pred = pipeline.predict(X_test)\n",
    "\n",
    "# # Step 9: Evaluate model\n",
    "# # Clip negative values (rare, but possible)\n",
    "# y_test_pred = np.clip(y_test_pred, 0, np.log1p(df['purchaseValue'].max() * 1000))\n",
    "\n",
    "# r2 = r2_score(y_test, y_test_pred)\n",
    "# print(f\"Test R²: {r2:.4f}\")\n",
    "\n",
    "# # Step 10: Residual plot\n",
    "# residuals = y_train - y_train_pred\n",
    "# plt.figure(figsize=(8, 5))\n",
    "# sns.scatterplot(x=y_train_pred, y=residuals)\n",
    "# plt.axhline(y=0, color='r', linestyle='--')\n",
    "# plt.xlabel(\"Predicted log(purchaseValue) (Train)\")\n",
    "# plt.ylabel(\"Residuals\")\n",
    "# plt.title(\"Residual Plot (Train Data)\")\n",
    "# plt.show()\n",
    "\n",
    "# # Step 11: Predict on final test set (Kaggle/test_df)\n",
    "\n",
    "# # Ensure same preprocessing as training data\n",
    "# test_df = test_df.copy()\n",
    "# test_df[cat_cols] = test_df[cat_cols].astype(str)\n",
    "\n",
    "# # Ensure test_df has all expected features (fill missing ones with np.nan)\n",
    "# for col in selected_features:\n",
    "#     if col not in test_df.columns:\n",
    "#         test_df[col] = np.nan\n",
    "\n",
    "# # Reorder to match training column order\n",
    "# X_final = test_df[selected_features]\n",
    "\n",
    "# # Predict log(purchaseValue), then inverse transform\n",
    "# log_pred = pipeline.predict(X_final)\n",
    "# log_pred = np.clip(log_pred, 0, None)  # Clip any negatives just in case\n",
    "\n",
    "# # Convert from log scale to original purchaseValue\n",
    "# y_final_pred = np.expm1(log_pred)\n",
    "\n",
    "# # Step 12: Create submission file\n",
    "# submission = pd.DataFrame({\n",
    "#     \"id\": test_df[\"id\"] if \"id\" in test_df.columns else np.arange(len(y_final_pred)),\n",
    "#     \"purchaseValue\": y_final_pred.round().astype(int)\n",
    "# })\n",
    "\n",
    "# submission.to_csv(\"submission.csv\", index=False)\n",
    "# print(\"Submission file created!\\n\")\n",
    "\n",
    "# # Optional: preview\n",
    "# print(submission.head())\n",
    "# print(submission.info())\n"
   ]
  },
  {
   "cell_type": "code",
   "execution_count": 168,
   "id": "0aadd720",
   "metadata": {
    "execution": {
     "iopub.execute_input": "2025-07-22T09:38:15.905467Z",
     "iopub.status.busy": "2025-07-22T09:38:15.905262Z",
     "iopub.status.idle": "2025-07-22T09:38:59.269555Z",
     "shell.execute_reply": "2025-07-22T09:38:59.268668Z"
    },
    "papermill": {
     "duration": 43.40768,
     "end_time": "2025-07-22T09:38:59.291530",
     "exception": false,
     "start_time": "2025-07-22T09:38:15.883850",
     "status": "completed"
    },
    "tags": []
   },
   "outputs": [
    {
     "name": "stdout",
     "output_type": "stream",
     "text": [
      "Training model on train split...\n",
      "\n",
      "Validation Set Evaluation:\n",
      "Accuracy : 0.9525\n",
      "Precision: 0.8612\n",
      "Recall   : 0.9183\n",
      "F1 Score : 0.8888\n",
      "ROC AUC  : 0.9828\n"
     ]
    }
   ],
   "source": [
    "import pandas as pd\n",
    "import numpy as np\n",
    "from sklearn.model_selection import train_test_split\n",
    "from sklearn.preprocessing import OneHotEncoder\n",
    "from sklearn.compose import ColumnTransformer\n",
    "from sklearn.pipeline import Pipeline\n",
    "from sklearn.ensemble import RandomForestClassifier\n",
    "from sklearn.metrics import accuracy_score, precision_score, recall_score, f1_score, roc_auc_score\n",
    "from sklearn.impute import SimpleImputer\n",
    "\n",
    "# Define the target variable\n",
    "train_df['purchased'] = (train_df['purchaseValue'] > 0).astype(int)\n",
    "\n",
    "# Select features\n",
    "numerical_features = [\n",
    "    'sessionNumber_log',\n",
    "    'pageViews_log',\n",
    "    'totalHits_log',\n",
    "    'trafficSource.adwordsClickInfo.page',\n",
    "    'new_visits', 'totals.bounces', 'trafficSource.isTrueDirect'\n",
    "]\n",
    "\n",
    "categorical_features = [\n",
    "    'trafficSource', 'locationCountry', 'geoNetwork.subContinent',\n",
    "    'userChannel', 'trafficSource.medium'\n",
    "]\n",
    "\n",
    "# Filter only columns that exist\n",
    "all_features = numerical_features + categorical_features\n",
    "available_features = [col for col in all_features if col in train_df.columns]\n",
    "numerical_features = [col for col in numerical_features if col in available_features]\n",
    "categorical_features = [col for col in categorical_features if col in available_features]\n",
    "\n",
    "X = train_df[available_features]\n",
    "y = train_df['purchased']\n",
    "\n",
    "# Split into training and validation sets\n",
    "X_train, X_val, y_train, y_val = train_test_split(\n",
    "    X, y, test_size=0.2, stratify=y, random_state=42)\n",
    "\n",
    "# Preprocessing pipeline\n",
    "preprocessor = ColumnTransformer(transformers=[\n",
    "    ('num', SimpleImputer(strategy='mean'), numerical_features),\n",
    "    ('cat', Pipeline([\n",
    "        ('imputer', SimpleImputer(strategy='most_frequent')),\n",
    "        ('encoder', OneHotEncoder(handle_unknown='ignore'))\n",
    "    ]), categorical_features)\n",
    "])\n",
    "\n",
    "# Classification pipeline\n",
    "pipeline = Pipeline(steps=[\n",
    "    ('preprocessor', preprocessor),\n",
    "    ('classifier', RandomForestClassifier(n_estimators=100, random_state=42))\n",
    "])\n",
    "\n",
    "# Train\n",
    "print(\"Training model on train split...\")\n",
    "pipeline.fit(X_train, y_train)\n",
    "\n",
    "# Evaluate\n",
    "y_val_pred = pipeline.predict(X_val)\n",
    "y_val_proba = pipeline.predict_proba(X_val)[:, 1]\n",
    "\n",
    "print(\"\\nValidation Set Evaluation:\")\n",
    "print(f\"Accuracy : {accuracy_score(y_val, y_val_pred):.4f}\")\n",
    "print(f\"Precision: {precision_score(y_val, y_val_pred):.4f}\")\n",
    "print(f\"Recall   : {recall_score(y_val, y_val_pred):.4f}\")\n",
    "print(f\"F1 Score : {f1_score(y_val, y_val_pred):.4f}\")\n",
    "print(f\"ROC AUC  : {roc_auc_score(y_val, y_val_proba):.4f}\")\n"
   ]
  },
  {
   "cell_type": "code",
   "execution_count": 169,
   "id": "1c51d2e6",
   "metadata": {
    "execution": {
     "iopub.execute_input": "2025-07-22T09:38:59.334431Z",
     "iopub.status.busy": "2025-07-22T09:38:59.334030Z",
     "iopub.status.idle": "2025-07-22T09:38:59.350614Z",
     "shell.execute_reply": "2025-07-22T09:38:59.349856Z"
    },
    "papermill": {
     "duration": 0.039004,
     "end_time": "2025-07-22T09:38:59.351651",
     "exception": false,
     "start_time": "2025-07-22T09:38:59.312647",
     "status": "completed"
    },
    "tags": []
   },
   "outputs": [
    {
     "data": {
      "text/html": [
       "<div>\n",
       "<style scoped>\n",
       "    .dataframe tbody tr th:only-of-type {\n",
       "        vertical-align: middle;\n",
       "    }\n",
       "\n",
       "    .dataframe tbody tr th {\n",
       "        vertical-align: top;\n",
       "    }\n",
       "\n",
       "    .dataframe thead th {\n",
       "        text-align: right;\n",
       "    }\n",
       "</style>\n",
       "<table border=\"1\" class=\"dataframe\">\n",
       "  <thead>\n",
       "    <tr style=\"text-align: right;\">\n",
       "      <th></th>\n",
       "      <th>trafficSource.isTrueDirect</th>\n",
       "      <th>purchaseValue</th>\n",
       "      <th>browser</th>\n",
       "      <th>trafficSource.keyword</th>\n",
       "      <th>geoCluster</th>\n",
       "      <th>userId</th>\n",
       "      <th>trafficSource.campaign</th>\n",
       "      <th>geoNetwork.networkDomain</th>\n",
       "      <th>gclIdPresent</th>\n",
       "      <th>sessionNumber</th>\n",
       "      <th>...</th>\n",
       "      <th>totalHits</th>\n",
       "      <th>sessionStart</th>\n",
       "      <th>geoNetwork.continent</th>\n",
       "      <th>device.isMobile</th>\n",
       "      <th>new_visits</th>\n",
       "      <th>sessionNumber_log</th>\n",
       "      <th>pageViews_log</th>\n",
       "      <th>totalHits_log</th>\n",
       "      <th>avg_interaction</th>\n",
       "      <th>purchased</th>\n",
       "    </tr>\n",
       "  </thead>\n",
       "  <tbody>\n",
       "    <tr>\n",
       "      <th>0</th>\n",
       "      <td>0</td>\n",
       "      <td>0.0</td>\n",
       "      <td>Edge</td>\n",
       "      <td>Others</td>\n",
       "      <td>Region_2</td>\n",
       "      <td>61421</td>\n",
       "      <td>(not set)</td>\n",
       "      <td>domain1</td>\n",
       "      <td>0</td>\n",
       "      <td>1</td>\n",
       "      <td>...</td>\n",
       "      <td>1</td>\n",
       "      <td>1500100799</td>\n",
       "      <td>Americas</td>\n",
       "      <td>False</td>\n",
       "      <td>1</td>\n",
       "      <td>0.693147</td>\n",
       "      <td>0.693147</td>\n",
       "      <td>0.693147</td>\n",
       "      <td>1.0</td>\n",
       "      <td>0</td>\n",
       "    </tr>\n",
       "    <tr>\n",
       "      <th>1</th>\n",
       "      <td>1</td>\n",
       "      <td>0.0</td>\n",
       "      <td>Chrome</td>\n",
       "      <td>Others</td>\n",
       "      <td>Region_3</td>\n",
       "      <td>72287</td>\n",
       "      <td>(not set)</td>\n",
       "      <td>domain3</td>\n",
       "      <td>0</td>\n",
       "      <td>1</td>\n",
       "      <td>...</td>\n",
       "      <td>1</td>\n",
       "      <td>1495262065</td>\n",
       "      <td>Americas</td>\n",
       "      <td>False</td>\n",
       "      <td>1</td>\n",
       "      <td>0.693147</td>\n",
       "      <td>0.693147</td>\n",
       "      <td>0.693147</td>\n",
       "      <td>1.0</td>\n",
       "      <td>0</td>\n",
       "    </tr>\n",
       "    <tr>\n",
       "      <th>2</th>\n",
       "      <td>1</td>\n",
       "      <td>0.0</td>\n",
       "      <td>Chrome</td>\n",
       "      <td>Others</td>\n",
       "      <td>Region_2</td>\n",
       "      <td>25180</td>\n",
       "      <td>(not set)</td>\n",
       "      <td>domain1</td>\n",
       "      <td>0</td>\n",
       "      <td>2</td>\n",
       "      <td>...</td>\n",
       "      <td>6</td>\n",
       "      <td>1508510328</td>\n",
       "      <td>Europe</td>\n",
       "      <td>False</td>\n",
       "      <td>0</td>\n",
       "      <td>1.098612</td>\n",
       "      <td>1.945910</td>\n",
       "      <td>1.945910</td>\n",
       "      <td>6.0</td>\n",
       "      <td>0</td>\n",
       "    </tr>\n",
       "    <tr>\n",
       "      <th>3</th>\n",
       "      <td>0</td>\n",
       "      <td>0.0</td>\n",
       "      <td>Internet Explorer</td>\n",
       "      <td>Others</td>\n",
       "      <td>Region_4</td>\n",
       "      <td>41295</td>\n",
       "      <td>(not set)</td>\n",
       "      <td>domain3</td>\n",
       "      <td>0</td>\n",
       "      <td>1</td>\n",
       "      <td>...</td>\n",
       "      <td>1</td>\n",
       "      <td>1483431838</td>\n",
       "      <td>Asia</td>\n",
       "      <td>False</td>\n",
       "      <td>1</td>\n",
       "      <td>0.693147</td>\n",
       "      <td>0.693147</td>\n",
       "      <td>0.693147</td>\n",
       "      <td>1.0</td>\n",
       "      <td>0</td>\n",
       "    </tr>\n",
       "    <tr>\n",
       "      <th>4</th>\n",
       "      <td>1</td>\n",
       "      <td>88950000.0</td>\n",
       "      <td>Chrome</td>\n",
       "      <td>Others</td>\n",
       "      <td>Region_3</td>\n",
       "      <td>113697</td>\n",
       "      <td>(not set)</td>\n",
       "      <td>domain1</td>\n",
       "      <td>0</td>\n",
       "      <td>1</td>\n",
       "      <td>...</td>\n",
       "      <td>66</td>\n",
       "      <td>1475804633</td>\n",
       "      <td>Americas</td>\n",
       "      <td>False</td>\n",
       "      <td>1</td>\n",
       "      <td>0.693147</td>\n",
       "      <td>4.007333</td>\n",
       "      <td>4.204693</td>\n",
       "      <td>60.0</td>\n",
       "      <td>1</td>\n",
       "    </tr>\n",
       "  </tbody>\n",
       "</table>\n",
       "<p>5 rows × 35 columns</p>\n",
       "</div>"
      ],
      "text/plain": [
       "   trafficSource.isTrueDirect  purchaseValue            browser  \\\n",
       "0                           0            0.0               Edge   \n",
       "1                           1            0.0             Chrome   \n",
       "2                           1            0.0             Chrome   \n",
       "3                           0            0.0  Internet Explorer   \n",
       "4                           1     88950000.0             Chrome   \n",
       "\n",
       "  trafficSource.keyword geoCluster  userId trafficSource.campaign  \\\n",
       "0                Others   Region_2   61421              (not set)   \n",
       "1                Others   Region_3   72287              (not set)   \n",
       "2                Others   Region_2   25180              (not set)   \n",
       "3                Others   Region_4   41295              (not set)   \n",
       "4                Others   Region_3  113697              (not set)   \n",
       "\n",
       "  geoNetwork.networkDomain  gclIdPresent  sessionNumber  ... totalHits  \\\n",
       "0                  domain1             0              1  ...         1   \n",
       "1                  domain3             0              1  ...         1   \n",
       "2                  domain1             0              2  ...         6   \n",
       "3                  domain3             0              1  ...         1   \n",
       "4                  domain1             0              1  ...        66   \n",
       "\n",
       "  sessionStart  geoNetwork.continent device.isMobile new_visits  \\\n",
       "0   1500100799              Americas           False          1   \n",
       "1   1495262065              Americas           False          1   \n",
       "2   1508510328                Europe           False          0   \n",
       "3   1483431838                  Asia           False          1   \n",
       "4   1475804633              Americas           False          1   \n",
       "\n",
       "  sessionNumber_log pageViews_log totalHits_log avg_interaction  purchased  \n",
       "0          0.693147      0.693147      0.693147             1.0          0  \n",
       "1          0.693147      0.693147      0.693147             1.0          0  \n",
       "2          1.098612      1.945910      1.945910             6.0          0  \n",
       "3          0.693147      0.693147      0.693147             1.0          0  \n",
       "4          0.693147      4.007333      4.204693            60.0          1  \n",
       "\n",
       "[5 rows x 35 columns]"
      ]
     },
     "execution_count": 169,
     "metadata": {},
     "output_type": "execute_result"
    }
   ],
   "source": [
    "train_df.head()"
   ]
  },
  {
   "cell_type": "code",
   "execution_count": 170,
   "id": "e4c61c0e",
   "metadata": {
    "execution": {
     "iopub.execute_input": "2025-07-22T09:38:59.395155Z",
     "iopub.status.busy": "2025-07-22T09:38:59.394941Z",
     "iopub.status.idle": "2025-07-22T09:39:46.395103Z",
     "shell.execute_reply": "2025-07-22T09:39:46.394320Z"
    },
    "papermill": {
     "duration": 47.045346,
     "end_time": "2025-07-22T09:39:46.417933",
     "exception": false,
     "start_time": "2025-07-22T09:38:59.372587",
     "status": "completed"
    },
    "tags": []
   },
   "outputs": [
    {
     "name": "stdout",
     "output_type": "stream",
     "text": [
      "\n",
      "Training regression model on purchases only...\n",
      "\n",
      "Regression Model Evaluation on Validation Set (only for purchase > 0):\n",
      "R² Score : 0.4417\n",
      "RMSE     : 295254548.93\n",
      "MAE      : 111782914.14\n"
     ]
    }
   ],
   "source": [
    "from sklearn.ensemble import RandomForestRegressor\n",
    "from sklearn.metrics import mean_squared_error, mean_absolute_error, r2_score\n",
    "\n",
    "# Filter training data to only rows where purchase happened\n",
    "X_train_reg = X_train[y_train == 1].copy()\n",
    "y_train_reg = train_df.loc[X_train_reg.index, 'purchaseValue']\n",
    "\n",
    "# Same for validation set\n",
    "X_val_reg = X_val[y_val == 1].copy()\n",
    "y_val_reg = train_df.loc[X_val_reg.index, 'purchaseValue']\n",
    "\n",
    "# Preprocessing for regression (same as before)\n",
    "preprocessor_reg = ColumnTransformer(transformers=[\n",
    "    ('num', SimpleImputer(strategy='mean'), numerical_features),\n",
    "    ('cat', Pipeline([\n",
    "        ('imputer', SimpleImputer(strategy='most_frequent')),\n",
    "        ('encoder', OneHotEncoder(handle_unknown='ignore'))\n",
    "    ]), categorical_features)\n",
    "])\n",
    "\n",
    "# Regression pipeline\n",
    "regression_pipeline = Pipeline(steps=[\n",
    "    ('preprocessor', preprocessor_reg),\n",
    "    ('regressor', RandomForestRegressor(n_estimators=100, random_state=42))\n",
    "])\n",
    "\n",
    "# Train the model\n",
    "print(\"\\nTraining regression model on purchases only...\")\n",
    "regression_pipeline.fit(X_train_reg, y_train_reg)\n",
    "\n",
    "# Predict on validation set\n",
    "y_val_pred_reg = regression_pipeline.predict(X_val_reg)\n",
    "\n",
    "# Evaluate regression performance\n",
    "r2 = r2_score(y_val_reg, y_val_pred_reg)\n",
    "rmse = np.sqrt(mean_squared_error(y_val_reg, y_val_pred_reg))\n",
    "mae = mean_absolute_error(y_val_reg, y_val_pred_reg)\n",
    "\n",
    "print(\"\\nRegression Model Evaluation on Validation Set (only for purchase > 0):\")\n",
    "print(f\"R² Score : {r2:.4f}\")\n",
    "print(f\"RMSE     : {rmse:.2f}\")\n",
    "print(f\"MAE      : {mae:.2f}\")\n"
   ]
  },
  {
   "cell_type": "code",
   "execution_count": 171,
   "id": "56aa9b88",
   "metadata": {
    "execution": {
     "iopub.execute_input": "2025-07-22T09:39:46.461601Z",
     "iopub.status.busy": "2025-07-22T09:39:46.461373Z",
     "iopub.status.idle": "2025-07-22T09:41:47.692069Z",
     "shell.execute_reply": "2025-07-22T09:41:47.691322Z"
    },
    "papermill": {
     "duration": 121.276464,
     "end_time": "2025-07-22T09:41:47.715663",
     "exception": false,
     "start_time": "2025-07-22T09:39:46.439199",
     "status": "completed"
    },
    "tags": []
   },
   "outputs": [
    {
     "name": "stdout",
     "output_type": "stream",
     "text": [
      "\n",
      "✅ Submission file created: 'submission.csv'\n",
      "   id  purchaseValue\n",
      "0   0       27093204\n",
      "1   1        3201938\n",
      "2   2              0\n",
      "3   3        4518660\n",
      "4   4              0\n"
     ]
    }
   ],
   "source": [
    "import pandas as pd\n",
    "import numpy as np\n",
    "from sklearn.model_selection import train_test_split\n",
    "from sklearn.pipeline import Pipeline\n",
    "from sklearn.compose import ColumnTransformer\n",
    "from sklearn.preprocessing import OneHotEncoder\n",
    "from sklearn.impute import SimpleImputer\n",
    "from sklearn.ensemble import RandomForestClassifier, RandomForestRegressor\n",
    "\n",
    "from sklearn.metrics import r2_score, mean_absolute_error, mean_squared_error\n",
    "\n",
    "# STEP 1: Setup\n",
    "train_df['purchased'] = (train_df['purchaseValue'] > 0).astype(int)\n",
    "\n",
    "# Set up features (adjust these lists as per your preprocessing)\n",
    "numerical_features = ['sessionNumber_log', 'pageViews_log', 'totalHits_log',\n",
    "                      'trafficSource.adwordsClickInfo.page', 'new_visits', 'totals.bounces', 'trafficSource.isTrueDirect']\n",
    "categorical_features = ['trafficSource', 'locationCountry', 'geoNetwork.subContinent',\n",
    "                        'userChannel', 'trafficSource.medium']\n",
    "\n",
    "all_features = numerical_features + categorical_features\n",
    "final_features = [col for col in all_features if col in train_df.columns and col in test_df.columns]\n",
    "numerical_features = [col for col in final_features if col in numerical_features]\n",
    "categorical_features = [col for col in final_features if col in categorical_features]\n",
    "\n",
    "X_train_full = train_df[final_features]\n",
    "y_classification = train_df['purchased']\n",
    "\n",
    "# STEP 2: Classification model\n",
    "preprocessor = ColumnTransformer([\n",
    "    ('num', SimpleImputer(strategy='mean'), numerical_features),\n",
    "    ('cat', Pipeline([\n",
    "        ('imputer', SimpleImputer(strategy='most_frequent')),\n",
    "        ('onehot', OneHotEncoder(handle_unknown='ignore'))\n",
    "    ]), categorical_features)\n",
    "])\n",
    "\n",
    "classification_model = Pipeline([\n",
    "    ('preprocessor', preprocessor),\n",
    "    ('classifier', RandomForestClassifier(n_estimators=100, random_state=42))\n",
    "])\n",
    "\n",
    "classification_model.fit(X_train_full, y_classification)\n",
    "\n",
    "# Predict purchase probability on test data\n",
    "X_test_final = test_df[final_features]\n",
    "test_pred_purchase_proba = classification_model.predict_proba(X_test_final)[:, 1]\n",
    "test_df['predicted_purchase_probability'] = test_pred_purchase_proba\n",
    "\n",
    "# STEP 3: Regression model (only on purchases)\n",
    "purchased_df = train_df[train_df['purchased'] == 1].copy()\n",
    "X_reg_train = purchased_df[final_features]\n",
    "y_reg_train = purchased_df['purchaseValue']\n",
    "\n",
    "regression_model = Pipeline([\n",
    "    ('preprocessor', preprocessor),\n",
    "    ('regressor', RandomForestRegressor(n_estimators=100, random_state=42))\n",
    "])\n",
    "regression_model.fit(X_reg_train, y_reg_train)\n",
    "\n",
    "# Predict purchase value given purchase (for test set)\n",
    "test_pred_value_if_purchase = regression_model.predict(X_test_final)\n",
    "test_df['predicted_purchase_value_given_purchase'] = test_pred_value_if_purchase\n",
    "\n",
    "# STEP 4: Final predicted purchase value\n",
    "test_df['purchaseValue'] = test_df['predicted_purchase_probability'] * test_df['predicted_purchase_value_given_purchase']\n",
    "\n",
    "# STEP 5: Prepare submission with ID and rounded predictions\n",
    "y_test_pred = test_df['purchaseValue']  # final prediction column from two-part model\n",
    "\n",
    "submission_df = pd.DataFrame({\n",
    "    \"id\": test_df[\"id\"] if \"id\" in test_df.columns else np.arange(len(y_test_pred)),\n",
    "    \"purchaseValue\": y_test_pred.round().astype(int)\n",
    "})\n",
    "\n",
    "submission_df.to_csv(\"submission.csv\", index=False)\n",
    "\n",
    "print(\"\\n✅ Submission file created: 'submission.csv'\")\n",
    "print(submission_df.head())\n"
   ]
  }
 ],
 "metadata": {
  "kaggle": {
   "accelerator": "nvidiaTeslaT4",
   "dataSources": [
    {
     "databundleVersionId": 11895149,
     "sourceId": 99546,
     "sourceType": "competition"
    },
    {
     "datasetId": 7715048,
     "sourceId": 12244545,
     "sourceType": "datasetVersion"
    }
   ],
   "dockerImageVersionId": 31040,
   "isGpuEnabled": true,
   "isInternetEnabled": false,
   "language": "python",
   "sourceType": "notebook"
  },
  "kernelspec": {
   "display_name": "Python 3",
   "language": "python",
   "name": "python3"
  },
  "language_info": {
   "codemirror_mode": {
    "name": "ipython",
    "version": 3
   },
   "file_extension": ".py",
   "mimetype": "text/x-python",
   "name": "python",
   "nbconvert_exporter": "python",
   "pygments_lexer": "ipython3",
   "version": "3.11.11"
  },
  "papermill": {
   "default_parameters": {},
   "duration": 232.15725,
   "end_time": "2025-07-22T09:41:48.255348",
   "environment_variables": {},
   "exception": null,
   "input_path": "__notebook__.ipynb",
   "output_path": "__notebook__.ipynb",
   "parameters": {},
   "start_time": "2025-07-22T09:37:56.098098",
   "version": "2.6.0"
  }
 },
 "nbformat": 4,
 "nbformat_minor": 5
}
