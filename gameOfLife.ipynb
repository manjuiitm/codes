{
  "nbformat": 4,
  "nbformat_minor": 0,
  "metadata": {
    "colab": {
      "provenance": [],
      "authorship_tag": "ABX9TyPCn/tjyTgbTKk8X8LOLCm6",
      "include_colab_link": true
    },
    "kernelspec": {
      "name": "python3",
      "display_name": "Python 3"
    },
    "language_info": {
      "name": "python"
    }
  },
  "cells": [
    {
      "cell_type": "markdown",
      "metadata": {
        "id": "view-in-github",
        "colab_type": "text"
      },
      "source": [
        "<a href=\"https://colab.research.google.com/github/manjuiitm/codes/blob/main/gameOfLife.ipynb\" target=\"_parent\"><img src=\"https://colab.research.google.com/assets/colab-badge.svg\" alt=\"Open In Colab\"/></a>"
      ]
    },
    {
      "cell_type": "code",
      "execution_count": 3,
      "metadata": {
        "id": "1DhpKJuzzF2F"
      },
      "outputs": [],
      "source": [
        "from typing import List\n",
        "class GameOfLife:\n",
        "    def gameOfLife(self, board: List[List[int]]) -> None:\n",
        "        \"\"\"\n",
        "        Do not return anything, modify board in-place instead.\n",
        "        \"\"\"\n",
        "        neighbors = [(1,0), (1,-1), (0,-1), (-1,-1), (-1,0), (-1,1), (0,1), (1,1)]\n",
        "\n",
        "        rows = len(board)\n",
        "        cols = len(board[0])\n",
        "\n",
        "        # Iterate through board cell by cell.\n",
        "        for row in range(rows):\n",
        "            for col in range(cols):\n",
        "\n",
        "                # Count live neighbors\n",
        "                live_neighbors = 0\n",
        "                for neighbor in neighbors:\n",
        "                    r = row + neighbor[0]\n",
        "                    c = col + neighbor[1]\n",
        "                    if 0 <= r < rows and 0 <= c < cols and board[r][c] == 1:\n",
        "                        live_neighbors += 1\n",
        "\n",
        "                # Rule 1 or Rule 3: Cell dies\n",
        "                if board[row][col] == 1 and (live_neighbors < 2 or live_neighbors > 3):\n",
        "                    board[row][col] = -1  # Temporarily mark dead cells as -1\n",
        "                # Rule 4: Cell becomes alive\n",
        "                elif board[row][col] == 0 and live_neighbors == 3:\n",
        "                    board[row][col] = 2  # Temporarily mark new live cells as 2\n",
        "\n",
        "        # Update the board: Convert back the temporary states to the final values\n",
        "        for row in range(rows):\n",
        "            for col in range(cols):\n",
        "                if board[row][col] == -1:\n",
        "                    board[row][col] = 0  # Dead cell\n",
        "                elif board[row][col] == 2:\n",
        "                    board[row][col] = 1  # Live cell\n"
      ]
    },
    {
      "cell_type": "code",
      "source": [
        "board = [\n",
        "  [0, 1, 0],\n",
        "  [0, 0, 1],\n",
        "  [1, 1, 1]\n",
        "]\n",
        "\n",
        "game = GameOfLife()\n",
        "game.gameOfLife(board)\n",
        "\n",
        "print(board)"
      ],
      "metadata": {
        "colab": {
          "base_uri": "https://localhost:8080/"
        },
        "id": "FjiBWr-sgBtQ",
        "outputId": "1a66e7fa-a66e-4a3d-b49a-ceeb78142b8a"
      },
      "execution_count": 4,
      "outputs": [
        {
          "output_type": "stream",
          "name": "stdout",
          "text": [
            "[[0, 0, 0], [0, 0, 1], [0, 1, 1]]\n"
          ]
        }
      ]
    }
  ]
}